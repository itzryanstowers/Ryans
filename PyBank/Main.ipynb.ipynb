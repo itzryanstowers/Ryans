{
 "cells": [
  {
   "cell_type": "markdown",
   "id": "b030da66-7b21-4316-9a86-ce67175186de",
   "metadata": {},
   "source": [
    "### PyRamen"
   ]
  },
  {
   "cell_type": "markdown",
   "id": "011532f0-e0ee-4945-9b9e-e5228230e507",
   "metadata": {},
   "source": [
    "### PyBank"
   ]
  },
  {
   "cell_type": "code",
   "execution_count": null,
   "id": "686b0c5d-cf8b-4b7e-9d7c-ca557b7717fb",
   "metadata": {},
   "outputs": [],
   "source": []
  },
  {
   "cell_type": "code",
   "execution_count": null,
   "id": "8f2b6803-4ac8-4848-abde-734b00d54fe1",
   "metadata": {},
   "outputs": [],
   "source": []
  },
  {
   "cell_type": "code",
   "execution_count": null,
   "id": "7f31d564-f196-44bb-b143-a39eefa2498c",
   "metadata": {},
   "outputs": [],
   "source": []
  }
 ],
 "metadata": {
  "kernelspec": {
   "display_name": "Python 3 (ipykernel)",
   "language": "python",
   "name": "python3"
  },
  "language_info": {
   "codemirror_mode": {
    "name": "ipython",
    "version": 3
   },
   "file_extension": ".py",
   "mimetype": "text/x-python",
   "name": "python",
   "nbconvert_exporter": "python",
   "pygments_lexer": "ipython3",
   "version": "3.9.12"
  }
 },
 "nbformat": 4,
 "nbformat_minor": 5
}
