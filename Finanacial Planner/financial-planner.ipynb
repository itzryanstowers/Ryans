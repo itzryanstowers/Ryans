{
 "cells": [
  {
   "cell_type": "markdown",
   "metadata": {},
   "source": [
    "# Unit 5 - Financial Planning"
   ]
  },
  {
   "cell_type": "code",
   "execution_count": 1,
   "metadata": {},
   "outputs": [],
   "source": [
    "# Initial imports\n",
    "import os\n",
    "import requests\n",
    "import json \n",
    "import pandas as pd\n",
    "from dotenv import load_dotenv\n",
    "import alpaca_trade_api as tradeapi\n",
    "from MCForecastTools import MCSimulation\n",
    "import matplotlib.pyplot as plt\n",
    "%matplotlib inline"
   ]
  },
  {
   "cell_type": "code",
   "execution_count": 2,
   "metadata": {},
   "outputs": [
    {
     "name": "stdout",
     "output_type": "stream",
     "text": [
      "C:\\Users\\ryans\\Ryans\\Finanacial Planner\n"
     ]
    }
   ],
   "source": [
    "print(os.getcwd())"
   ]
  },
  {
   "cell_type": "code",
   "execution_count": 3,
   "metadata": {},
   "outputs": [
    {
     "data": {
      "text/plain": [
       "True"
      ]
     },
     "execution_count": 3,
     "metadata": {},
     "output_type": "execute_result"
    }
   ],
   "source": [
    "# Load .env enviroment variables\n",
    "load_dotenv(\"alpaca.env\")"
   ]
  },
  {
   "cell_type": "code",
   "execution_count": 4,
   "metadata": {},
   "outputs": [
    {
     "data": {
      "text/plain": [
       "['.ipynb_checkpoints',\n",
       " 'alpaca.env',\n",
       " 'financial-planner.ipynb',\n",
       " 'MCForecastTools.py',\n",
       " '__pycache__']"
      ]
     },
     "execution_count": 4,
     "metadata": {},
     "output_type": "execute_result"
    }
   ],
   "source": [
    "#checking dicrectory\n",
    "os.listdir()"
   ]
  },
  {
   "cell_type": "markdown",
   "metadata": {},
   "source": [
    "## Part 1 - Personal Finance Planner"
   ]
  },
  {
   "cell_type": "markdown",
   "metadata": {},
   "source": [
    "### Collect Crypto Prices Using the `requests` Library"
   ]
  },
  {
   "cell_type": "code",
   "execution_count": 5,
   "metadata": {},
   "outputs": [],
   "source": [
    "# Set current amount of crypto assets\n",
    "Monthly_income = 12000"
   ]
  },
  {
   "cell_type": "code",
   "execution_count": 6,
   "metadata": {},
   "outputs": [],
   "source": [
    "# Setting Alpaca API key and secret key\n",
    "alpaca_api_key = os.getenv('ALPACA_API_KEY')\n",
    "alpaca_secret_key = os.getenv('ALPACA_SECRET_KEY')"
   ]
  },
  {
   "cell_type": "code",
   "execution_count": 7,
   "metadata": {},
   "outputs": [
    {
     "name": "stdout",
     "output_type": "stream",
     "text": [
      "Alpaca_key_type: PKJTTSBFCHZU6CIM9F76\n",
      "Alpaca_secret_key_type: fuEYPVooCiku11eKTqeAPBcH6rJPLTgX16VbGCq6\n"
     ]
    }
   ],
   "source": [
    "# Verify that Alpaca key and secret were correctly loaded\n",
    "print(f\"Alpaca_key_type: {(alpaca_api_key)}\")\n",
    "print(f\"Alpaca_secret_key_type: {(alpaca_secret_key)}\")"
   ]
  },
  {
   "cell_type": "code",
   "execution_count": 8,
   "metadata": {},
   "outputs": [],
   "source": [
    "# Crypto API URLs\n",
    "btc_url = \"https://api.alternative.me/v2/ticker/Bitcoin/?convert=USD\"\n",
    "eth_url = \"https://api.alternative.me/v2/ticker/Ethereum/?convert=USD\""
   ]
  },
  {
   "cell_type": "code",
   "execution_count": 9,
   "metadata": {},
   "outputs": [],
   "source": [
    "#Add format specifier to request url\n",
    "btc_data = btc_url + \"?format=json\"\n",
    "eth_data = eth_url + \"?format=json\""
   ]
  },
  {
   "cell_type": "code",
   "execution_count": 10,
   "metadata": {},
   "outputs": [
    {
     "data": {
      "text/plain": [
       "<Response [200]>"
      ]
     },
     "execution_count": 10,
     "metadata": {},
     "output_type": "execute_result"
    }
   ],
   "source": [
    "#check to see if the API connection is successful\n",
    "response = requests.get(btc_data)\n",
    "response2 = requests.get(eth_data)\n",
    "response\n",
    "response2"
   ]
  },
  {
   "cell_type": "code",
   "execution_count": 11,
   "metadata": {},
   "outputs": [
    {
     "name": "stdout",
     "output_type": "stream",
     "text": [
      "The current value of your BTC is $42442.80\n",
      "The current value of your ETH is $10021.45\n"
     ]
    }
   ],
   "source": [
    "# Fetch current BTC price\n",
    "btc_price = response.json()['data']['1']['quotes']['USD']['price']\n",
    "\n",
    "# Display sample data\n",
    "btc_price\n",
    "\n",
    "# Fetch current ETH price\n",
    "eth_price = response2.json()['data']['1027']['quotes']['USD']['price']\n",
    "# Compute current value of my crpto\n",
    "btc_quantity = 1.2\n",
    "eth_quantity = 5.3\n",
    "#Calculating current value of btc & eth\n",
    "my_btc_value = btc_price * btc_quantity\n",
    "my_eth_value = eth_quantity * eth_price\n",
    "\n",
    "# Print current crypto wallet balance\n",
    "print(f\"The current value of your BTC is ${my_btc_value:0.2f}\")\n",
    "print(f\"The current value of your ETH is ${my_eth_value:0.2f}\")"
   ]
  },
  {
   "cell_type": "markdown",
   "metadata": {},
   "source": [
    "### Collect Investments Data Using Alpaca: `SPY` (stocks) and `AGG` (bonds)"
   ]
  },
  {
   "cell_type": "code",
   "execution_count": 12,
   "metadata": {},
   "outputs": [],
   "source": [
    "# Setting the current amount of shares\n",
    "my_agg = 200\n",
    "my_spy = 50"
   ]
  },
  {
   "cell_type": "code",
   "execution_count": 13,
   "metadata": {},
   "outputs": [],
   "source": [
    "# Setting the Alpaca API key and secret\n",
    "alpaca_api_key = os.getenv('ALPACA_API_KEY')\n",
    "alpaca_secret_key = os.getenv('ALPACA_SECRET_KEY')\n",
    "\n",
    "# Creating the Alpaca API object\n",
    "alpaca = tradeapi.REST(\n",
    "    alpaca_api_key,\n",
    "    alpaca_secret_key,\n",
    "    api_version=\"v2\"\n",
    ")"
   ]
  },
  {
   "cell_type": "code",
   "execution_count": 14,
   "metadata": {},
   "outputs": [
    {
     "ename": "HTTPError",
     "evalue": "403 Client Error: Forbidden for url: https://data.alpaca.markets/v2/stocks/bars?timeframe=1Day&adjustment=raw&start=2023-10-20T00%3A00%3A00-04%3A00&end=2023-10-20T00%3A00%3A00-04%3A00&symbols=AGG%2CSPY",
     "output_type": "error",
     "traceback": [
      "\u001b[1;31m---------------------------------------------------------------------------\u001b[0m",
      "\u001b[1;31mHTTPError\u001b[0m                                 Traceback (most recent call last)",
      "Cell \u001b[1;32mIn[14], line 11\u001b[0m\n\u001b[0;32m      8\u001b[0m timeframe \u001b[38;5;241m=\u001b[39m \u001b[38;5;124m\"\u001b[39m\u001b[38;5;124m1Day\u001b[39m\u001b[38;5;124m\"\u001b[39m\n\u001b[0;32m     10\u001b[0m \u001b[38;5;66;03m# Get current closing prices for SPY and AGG\u001b[39;00m\n\u001b[1;32m---> 11\u001b[0m df_portfolio \u001b[38;5;241m=\u001b[39m \u001b[43malpaca\u001b[49m\u001b[38;5;241;43m.\u001b[39;49m\u001b[43mget_bars\u001b[49m\u001b[43m(\u001b[49m\n\u001b[0;32m     12\u001b[0m \u001b[43m    \u001b[49m\u001b[43mtickers\u001b[49m\u001b[43m,\u001b[49m\n\u001b[0;32m     13\u001b[0m \u001b[43m    \u001b[49m\u001b[43mtimeframe\u001b[49m\u001b[43m,\u001b[49m\n\u001b[0;32m     14\u001b[0m \u001b[43m    \u001b[49m\u001b[43mstart\u001b[49m\u001b[43m \u001b[49m\u001b[38;5;241;43m=\u001b[39;49m\u001b[43m \u001b[49m\u001b[43mtoday\u001b[49m\u001b[43m,\u001b[49m\n\u001b[0;32m     15\u001b[0m \u001b[43m    \u001b[49m\u001b[43mend\u001b[49m\u001b[43m \u001b[49m\u001b[38;5;241;43m=\u001b[39;49m\u001b[43m \u001b[49m\u001b[43mtoday\u001b[49m\n\u001b[0;32m     16\u001b[0m \u001b[43m)\u001b[49m\u001b[38;5;241m.\u001b[39mdf\n\u001b[0;32m     17\u001b[0m \u001b[38;5;66;03m# Separate ticker data\u001b[39;00m\n\u001b[0;32m     18\u001b[0m AGG \u001b[38;5;241m=\u001b[39m df_portfolio[df_portfolio[\u001b[38;5;124m'\u001b[39m\u001b[38;5;124msymbol\u001b[39m\u001b[38;5;124m'\u001b[39m]\u001b[38;5;241m==\u001b[39m\u001b[38;5;124m'\u001b[39m\u001b[38;5;124mAGG\u001b[39m\u001b[38;5;124m'\u001b[39m]\u001b[38;5;241m.\u001b[39mdrop(\u001b[38;5;124m'\u001b[39m\u001b[38;5;124msymbol\u001b[39m\u001b[38;5;124m'\u001b[39m, axis \u001b[38;5;241m=\u001b[39m \u001b[38;5;241m1\u001b[39m)\n",
      "File \u001b[1;32m~\\anaconda3\\lib\\site-packages\\alpaca_trade_api\\rest.py:718\u001b[0m, in \u001b[0;36mREST.get_bars\u001b[1;34m(self, symbol, timeframe, start, end, adjustment, limit, feed, asof)\u001b[0m\n\u001b[0;32m    708\u001b[0m \u001b[38;5;28;01mdef\u001b[39;00m \u001b[38;5;21mget_bars\u001b[39m(\u001b[38;5;28mself\u001b[39m,\n\u001b[0;32m    709\u001b[0m              symbol: Union[\u001b[38;5;28mstr\u001b[39m, List[\u001b[38;5;28mstr\u001b[39m]],\n\u001b[0;32m    710\u001b[0m              timeframe: TimeFrame,\n\u001b[1;32m   (...)\u001b[0m\n\u001b[0;32m    716\u001b[0m              asof: Optional[\u001b[38;5;28mstr\u001b[39m] \u001b[38;5;241m=\u001b[39m \u001b[38;5;28;01mNone\u001b[39;00m,\n\u001b[0;32m    717\u001b[0m              ) \u001b[38;5;241m-\u001b[39m\u001b[38;5;241m>\u001b[39m BarsV2:\n\u001b[1;32m--> 718\u001b[0m     bars \u001b[38;5;241m=\u001b[39m \u001b[38;5;28;43mlist\u001b[39;49m\u001b[43m(\u001b[49m\u001b[38;5;28;43mself\u001b[39;49m\u001b[38;5;241;43m.\u001b[39;49m\u001b[43mget_bars_iter\u001b[49m\u001b[43m(\u001b[49m\u001b[43msymbol\u001b[49m\u001b[43m,\u001b[49m\n\u001b[0;32m    719\u001b[0m \u001b[43m                                   \u001b[49m\u001b[43mtimeframe\u001b[49m\u001b[43m,\u001b[49m\n\u001b[0;32m    720\u001b[0m \u001b[43m                                   \u001b[49m\u001b[43mstart\u001b[49m\u001b[43m,\u001b[49m\n\u001b[0;32m    721\u001b[0m \u001b[43m                                   \u001b[49m\u001b[43mend\u001b[49m\u001b[43m,\u001b[49m\n\u001b[0;32m    722\u001b[0m \u001b[43m                                   \u001b[49m\u001b[43madjustment\u001b[49m\u001b[43m,\u001b[49m\n\u001b[0;32m    723\u001b[0m \u001b[43m                                   \u001b[49m\u001b[43mlimit\u001b[49m\u001b[43m,\u001b[49m\n\u001b[0;32m    724\u001b[0m \u001b[43m                                   \u001b[49m\u001b[43mfeed\u001b[49m\u001b[38;5;241;43m=\u001b[39;49m\u001b[43mfeed\u001b[49m\u001b[43m,\u001b[49m\n\u001b[0;32m    725\u001b[0m \u001b[43m                                   \u001b[49m\u001b[43masof\u001b[49m\u001b[38;5;241;43m=\u001b[39;49m\u001b[43masof\u001b[49m\u001b[43m,\u001b[49m\n\u001b[0;32m    726\u001b[0m \u001b[43m                                   \u001b[49m\u001b[43mraw\u001b[49m\u001b[38;5;241;43m=\u001b[39;49m\u001b[38;5;28;43;01mTrue\u001b[39;49;00m\u001b[43m)\u001b[49m\u001b[43m)\u001b[49m\n\u001b[0;32m    727\u001b[0m     \u001b[38;5;28;01mreturn\u001b[39;00m BarsV2(bars)\n",
      "File \u001b[1;32m~\\anaconda3\\lib\\site-packages\\alpaca_trade_api\\rest.py:702\u001b[0m, in \u001b[0;36mREST.get_bars_iter\u001b[1;34m(self, symbol, timeframe, start, end, adjustment, limit, feed, asof, raw)\u001b[0m\n\u001b[0;32m    684\u001b[0m \u001b[38;5;28;01mdef\u001b[39;00m \u001b[38;5;21mget_bars_iter\u001b[39m(\u001b[38;5;28mself\u001b[39m,\n\u001b[0;32m    685\u001b[0m                   symbol: Union[\u001b[38;5;28mstr\u001b[39m, List[\u001b[38;5;28mstr\u001b[39m]],\n\u001b[0;32m    686\u001b[0m                   timeframe: TimeFrame,\n\u001b[1;32m   (...)\u001b[0m\n\u001b[0;32m    692\u001b[0m                   asof: Optional[\u001b[38;5;28mstr\u001b[39m] \u001b[38;5;241m=\u001b[39m \u001b[38;5;28;01mNone\u001b[39;00m,\n\u001b[0;32m    693\u001b[0m                   raw\u001b[38;5;241m=\u001b[39m\u001b[38;5;28;01mFalse\u001b[39;00m) \u001b[38;5;241m-\u001b[39m\u001b[38;5;241m>\u001b[39m BarIterator:\n\u001b[0;32m    694\u001b[0m     bars \u001b[38;5;241m=\u001b[39m \u001b[38;5;28mself\u001b[39m\u001b[38;5;241m.\u001b[39m_data_get(\u001b[38;5;124m'\u001b[39m\u001b[38;5;124mbars\u001b[39m\u001b[38;5;124m'\u001b[39m, symbol,\n\u001b[0;32m    695\u001b[0m                           timeframe\u001b[38;5;241m=\u001b[39mtimeframe,\n\u001b[0;32m    696\u001b[0m                           adjustment\u001b[38;5;241m=\u001b[39madjustment,\n\u001b[1;32m   (...)\u001b[0m\n\u001b[0;32m    700\u001b[0m                           feed\u001b[38;5;241m=\u001b[39mfeed,\n\u001b[0;32m    701\u001b[0m                           asof\u001b[38;5;241m=\u001b[39masof)\n\u001b[1;32m--> 702\u001b[0m     \u001b[38;5;28;01mfor\u001b[39;00m bar \u001b[38;5;129;01min\u001b[39;00m bars:\n\u001b[0;32m    703\u001b[0m         \u001b[38;5;28;01mif\u001b[39;00m raw:\n\u001b[0;32m    704\u001b[0m             \u001b[38;5;28;01myield\u001b[39;00m bar\n",
      "File \u001b[1;32m~\\anaconda3\\lib\\site-packages\\alpaca_trade_api\\rest.py:589\u001b[0m, in \u001b[0;36mREST._data_get\u001b[1;34m(self, endpoint, symbol_or_symbols, api_version, endpoint_base, resp_grouped_by_symbol, page_limit, feed, asof, loc, **kwargs)\u001b[0m\n\u001b[0;32m    587\u001b[0m \u001b[38;5;28;01mif\u001b[39;00m endpoint:\n\u001b[0;32m    588\u001b[0m     path \u001b[38;5;241m+\u001b[39m\u001b[38;5;241m=\u001b[39m \u001b[38;5;124mf\u001b[39m\u001b[38;5;124m'\u001b[39m\u001b[38;5;124m/\u001b[39m\u001b[38;5;132;01m{\u001b[39;00mendpoint\u001b[38;5;132;01m}\u001b[39;00m\u001b[38;5;124m'\u001b[39m\n\u001b[1;32m--> 589\u001b[0m resp \u001b[38;5;241m=\u001b[39m \u001b[38;5;28;43mself\u001b[39;49m\u001b[38;5;241;43m.\u001b[39;49m\u001b[43mdata_get\u001b[49m\u001b[43m(\u001b[49m\u001b[43mpath\u001b[49m\u001b[43m,\u001b[49m\u001b[43m \u001b[49m\u001b[43mdata\u001b[49m\u001b[38;5;241;43m=\u001b[39;49m\u001b[43mdata\u001b[49m\u001b[43m,\u001b[49m\u001b[43m \u001b[49m\u001b[43mfeed\u001b[49m\u001b[38;5;241;43m=\u001b[39;49m\u001b[43mfeed\u001b[49m\u001b[43m,\u001b[49m\n\u001b[0;32m    590\u001b[0m \u001b[43m                     \u001b[49m\u001b[43mapi_version\u001b[49m\u001b[38;5;241;43m=\u001b[39;49m\u001b[43mapi_version\u001b[49m\u001b[43m)\u001b[49m\n\u001b[0;32m    591\u001b[0m \u001b[38;5;28;01mif\u001b[39;00m \u001b[38;5;129;01mnot\u001b[39;00m resp_grouped_by_symbol:\n\u001b[0;32m    592\u001b[0m     k \u001b[38;5;241m=\u001b[39m endpoint \u001b[38;5;129;01mor\u001b[39;00m endpoint_base\n",
      "File \u001b[1;32m~\\anaconda3\\lib\\site-packages\\alpaca_trade_api\\rest.py:270\u001b[0m, in \u001b[0;36mREST.data_get\u001b[1;34m(self, path, data, feed, api_version)\u001b[0m\n\u001b[0;32m    268\u001b[0m     data \u001b[38;5;241m=\u001b[39m data \u001b[38;5;129;01mor\u001b[39;00m {}\n\u001b[0;32m    269\u001b[0m     data[\u001b[38;5;124m'\u001b[39m\u001b[38;5;124mfeed\u001b[39m\u001b[38;5;124m'\u001b[39m] \u001b[38;5;241m=\u001b[39m feed\n\u001b[1;32m--> 270\u001b[0m \u001b[38;5;28;01mreturn\u001b[39;00m \u001b[38;5;28;43mself\u001b[39;49m\u001b[38;5;241;43m.\u001b[39;49m\u001b[43m_request\u001b[49m\u001b[43m(\u001b[49m\n\u001b[0;32m    271\u001b[0m \u001b[43m    \u001b[49m\u001b[38;5;124;43m'\u001b[39;49m\u001b[38;5;124;43mGET\u001b[39;49m\u001b[38;5;124;43m'\u001b[39;49m\u001b[43m,\u001b[49m\u001b[43m \u001b[49m\u001b[43mpath\u001b[49m\u001b[43m,\u001b[49m\u001b[43m \u001b[49m\u001b[43mdata\u001b[49m\u001b[43m,\u001b[49m\u001b[43m \u001b[49m\u001b[43mbase_url\u001b[49m\u001b[38;5;241;43m=\u001b[39;49m\u001b[43mbase_url\u001b[49m\u001b[43m,\u001b[49m\u001b[43m \u001b[49m\u001b[43mapi_version\u001b[49m\u001b[38;5;241;43m=\u001b[39;49m\u001b[43mapi_version\u001b[49m\u001b[43m,\u001b[49m\n\u001b[0;32m    272\u001b[0m \u001b[43m\u001b[49m\u001b[43m)\u001b[49m\n",
      "File \u001b[1;32m~\\anaconda3\\lib\\site-packages\\alpaca_trade_api\\rest.py:213\u001b[0m, in \u001b[0;36mREST._request\u001b[1;34m(self, method, path, data, base_url, api_version)\u001b[0m\n\u001b[0;32m    211\u001b[0m \u001b[38;5;28;01mwhile\u001b[39;00m retry \u001b[38;5;241m>\u001b[39m\u001b[38;5;241m=\u001b[39m \u001b[38;5;241m0\u001b[39m:\n\u001b[0;32m    212\u001b[0m     \u001b[38;5;28;01mtry\u001b[39;00m:\n\u001b[1;32m--> 213\u001b[0m         \u001b[38;5;28;01mreturn\u001b[39;00m \u001b[38;5;28;43mself\u001b[39;49m\u001b[38;5;241;43m.\u001b[39;49m\u001b[43m_one_request\u001b[49m\u001b[43m(\u001b[49m\u001b[43mmethod\u001b[49m\u001b[43m,\u001b[49m\u001b[43m \u001b[49m\u001b[43murl\u001b[49m\u001b[43m,\u001b[49m\u001b[43m \u001b[49m\u001b[43mopts\u001b[49m\u001b[43m,\u001b[49m\u001b[43m \u001b[49m\u001b[43mretry\u001b[49m\u001b[43m)\u001b[49m\n\u001b[0;32m    214\u001b[0m     \u001b[38;5;28;01mexcept\u001b[39;00m RetryException:\n\u001b[0;32m    215\u001b[0m         retry_wait \u001b[38;5;241m=\u001b[39m \u001b[38;5;28mself\u001b[39m\u001b[38;5;241m.\u001b[39m_retry_wait\n",
      "File \u001b[1;32m~\\anaconda3\\lib\\site-packages\\alpaca_trade_api\\rest.py:234\u001b[0m, in \u001b[0;36mREST._one_request\u001b[1;34m(self, method, url, opts, retry)\u001b[0m\n\u001b[0;32m    232\u001b[0m resp \u001b[38;5;241m=\u001b[39m \u001b[38;5;28mself\u001b[39m\u001b[38;5;241m.\u001b[39m_session\u001b[38;5;241m.\u001b[39mrequest(method, url, \u001b[38;5;241m*\u001b[39m\u001b[38;5;241m*\u001b[39mopts)\n\u001b[0;32m    233\u001b[0m \u001b[38;5;28;01mtry\u001b[39;00m:\n\u001b[1;32m--> 234\u001b[0m     \u001b[43mresp\u001b[49m\u001b[38;5;241;43m.\u001b[39;49m\u001b[43mraise_for_status\u001b[49m\u001b[43m(\u001b[49m\u001b[43m)\u001b[49m\n\u001b[0;32m    235\u001b[0m \u001b[38;5;28;01mexcept\u001b[39;00m HTTPError \u001b[38;5;28;01mas\u001b[39;00m http_error:\n\u001b[0;32m    236\u001b[0m     \u001b[38;5;66;03m# retry if we hit Rate Limit\u001b[39;00m\n\u001b[0;32m    237\u001b[0m     \u001b[38;5;28;01mif\u001b[39;00m resp\u001b[38;5;241m.\u001b[39mstatus_code \u001b[38;5;129;01min\u001b[39;00m retry_codes \u001b[38;5;129;01mand\u001b[39;00m retry \u001b[38;5;241m>\u001b[39m \u001b[38;5;241m0\u001b[39m:\n",
      "File \u001b[1;32m~\\anaconda3\\lib\\site-packages\\requests\\models.py:1021\u001b[0m, in \u001b[0;36mResponse.raise_for_status\u001b[1;34m(self)\u001b[0m\n\u001b[0;32m   1016\u001b[0m     http_error_msg \u001b[38;5;241m=\u001b[39m (\n\u001b[0;32m   1017\u001b[0m         \u001b[38;5;124mf\u001b[39m\u001b[38;5;124m\"\u001b[39m\u001b[38;5;132;01m{\u001b[39;00m\u001b[38;5;28mself\u001b[39m\u001b[38;5;241m.\u001b[39mstatus_code\u001b[38;5;132;01m}\u001b[39;00m\u001b[38;5;124m Server Error: \u001b[39m\u001b[38;5;132;01m{\u001b[39;00mreason\u001b[38;5;132;01m}\u001b[39;00m\u001b[38;5;124m for url: \u001b[39m\u001b[38;5;132;01m{\u001b[39;00m\u001b[38;5;28mself\u001b[39m\u001b[38;5;241m.\u001b[39murl\u001b[38;5;132;01m}\u001b[39;00m\u001b[38;5;124m\"\u001b[39m\n\u001b[0;32m   1018\u001b[0m     )\n\u001b[0;32m   1020\u001b[0m \u001b[38;5;28;01mif\u001b[39;00m http_error_msg:\n\u001b[1;32m-> 1021\u001b[0m     \u001b[38;5;28;01mraise\u001b[39;00m HTTPError(http_error_msg, response\u001b[38;5;241m=\u001b[39m\u001b[38;5;28mself\u001b[39m)\n",
      "\u001b[1;31mHTTPError\u001b[0m: 403 Client Error: Forbidden for url: https://data.alpaca.markets/v2/stocks/bars?timeframe=1Day&adjustment=raw&start=2023-10-20T00%3A00%3A00-04%3A00&end=2023-10-20T00%3A00%3A00-04%3A00&symbols=AGG%2CSPY"
     ]
    }
   ],
   "source": [
    "# Format current date as ISO format\n",
    "today = pd.Timestamp(\"2023-10-20\", tz=\"America/New_York\").isoformat()\n",
    "\n",
    "# Set the tickers\n",
    "tickers = [\"AGG\", \"SPY\"]\n",
    "\n",
    "# Set timeframe to \"1Day\" for Alpaca API\n",
    "timeframe = \"1Day\"\n",
    "\n",
    "# Get current closing prices for SPY and AGG\n",
    "df_portfolio = alpaca.get_bars(\n",
    "    tickers,\n",
    "    timeframe,\n",
    "    start = today,\n",
    "    end = today\n",
    ").df\n",
    "# Separate ticker data\n",
    "AGG = df_portfolio[df_portfolio['symbol']=='AGG'].drop('symbol', axis = 1)\n",
    "SPY = df_portfolio[df_portfolio['symbol']=='SPY'].drop('symbol', axis = 1)\n",
    "\n",
    "# Concatenate the ticker DataFrames\n",
    "df_portfolio = pd.concat([AGG, SPY],axis=1, keys = ['AGG','SPY'])\n",
    "\n",
    "# Preview DataFrame\n",
    "df_portfolio.head()"
   ]
  },
  {
   "cell_type": "code",
   "execution_count": 15,
   "metadata": {},
   "outputs": [
    {
     "name": "stdout",
     "output_type": "stream",
     "text": [
      "Current AGG closing price: $92.0\n",
      "Current SPY closing price: $421.19\n"
     ]
    }
   ],
   "source": [
    "# Pick AGG and SPY close prices\n",
    "agg_close_price = float(df_portfolio[\"AGG\"][\"close\"])\n",
    "spy_close_price = float(df_portfolio[\"SPY\"][\"close\"])\n",
    "\n",
    "# Print AGG and SPY close prices\n",
    "print(f\"Current AGG closing price: ${agg_close_price}\")\n",
    "print(f\"Current SPY closing price: ${spy_close_price}\")"
   ]
  },
  {
   "cell_type": "code",
   "execution_count": 16,
   "metadata": {},
   "outputs": [
    {
     "name": "stdout",
     "output_type": "stream",
     "text": [
      "The current value of your 50 SPY shares is $21059.50\n",
      "The current value of your 200 AGG shares is $18400.00\n"
     ]
    }
   ],
   "source": [
    "# Compute the current value of shares\n",
    "my_agg_value = agg_close_price * my_agg\n",
    "my_spy_value = spy_close_price * my_spy\n",
    "# Print current value of shares\n",
    "print(f\"The current value of your {my_spy} SPY shares is ${my_spy_value:0.2f}\")\n",
    "print(f\"The current value of your {my_agg} AGG shares is ${my_agg_value:0.2f}\")"
   ]
  },
  {
   "cell_type": "markdown",
   "metadata": {},
   "source": [
    "### Savings Health Analysis"
   ]
  },
  {
   "cell_type": "code",
   "execution_count": 17,
   "metadata": {},
   "outputs": [
    {
     "name": "stdout",
     "output_type": "stream",
     "text": [
      "               amount\n",
      "crypto      85320.034\n",
      "stock/bond   6000.000\n"
     ]
    }
   ],
   "source": [
    "# Set monthly household income\n",
    "monthly_income = 6000 \n",
    "\n",
    "# Consolidate financial assets data\n",
    "consolidated_asset = my_btc_value + my_eth_value + my_spy_value + my_agg_value\n",
    "\n",
    "# Create savings DataFrame\n",
    "savings_data = {\n",
    "    'amount': [consolidated_asset, monthly_income],\n",
    "}\n",
    "\n",
    "# Specify the columns and index\n",
    "columns = ['amount']\n",
    "index = ['crypto', 'stock/bond']\n",
    "\n",
    "savings_df = pd.DataFrame(savings_data, columns=columns, index=index)\n",
    "\n",
    "# Display savings DataFrame\n",
    "print(savings_df)\n"
   ]
  },
  {
   "cell_type": "code",
   "execution_count": 18,
   "metadata": {},
   "outputs": [
    {
     "data": {
      "image/png": "[encoded data removed]",
      "text/plain": [
       "<Figure size 800x800 with 1 Axes>"
      ]
     },
     "metadata": {},
     "output_type": "display_data"
    }
   ],
   "source": [
    "# Plot savings pie chart\n",
    "plt.figure(figsize=(8, 8))\n",
    "plt.pie(savings_df['amount'], labels=savings_df.index, autopct='%1.1f%%', colors=['lightblue', 'lightgreen'])\n",
    "plt.title('Portfolio Breakdown')\n",
    "plt.show()\n"
   ]
  },
  {
   "cell_type": "code",
   "execution_count": 25,
   "metadata": {},
   "outputs": [
    {
     "name": "stdout",
     "output_type": "stream",
     "text": [
      "Congratulations! You have enough savings for the ideal emergency fund.\n"
     ]
    }
   ],
   "source": [
    "# Set ideal emergency fund\n",
    "emergency_fund_value = monthly_income * 3\n",
    "\n",
    "# Calculate total amount of savings\n",
    "total_savings = savings_df['amount'].sum()\n",
    "\n",
    "# Validate saving health\n",
    "if total_savings > emergency_fund_value:\n",
    "    print(\"Congratulations! You have enough savings for the ideal emergency fund.\")\n",
    "elif total_savings == emergency_fund_value:\n",
    "    print(\"Congratulations! You have reached the important financial goal of the ideal emergency fund.\")\n",
    "else:\n",
    "    shortfall = emergency_fund_value - total_savings\n",
    "    print(f\"You need ${shortfall:0.2f} more to reach the ideal emergency fund.\")\n"
   ]
  },
  {
   "cell_type": "markdown",
   "metadata": {},
   "source": [
    "## Part 2 - Retirement Planning\n",
    "\n",
    "### Monte Carlo Simulation"
   ]
  },
  {
   "cell_type": "code",
   "execution_count": 26,
   "metadata": {},
   "outputs": [],
   "source": [
    "api = tradeapi.REST(\n",
    "    alpaca_api_key,\n",
    "    alpaca_secret_key,\n",
    "    api_version=\"v2\"\n",
    ")"
   ]
  },
  {
   "cell_type": "code",
   "execution_count": 27,
   "metadata": {},
   "outputs": [],
   "source": [
    "#Setting variables for Dataframe\n",
    "ticker = [\"AGG\", \"SPY\"]\n",
    "\n",
    "timerframes = \"1Day\"\n",
    "# Set start and end dates back five years from today.\n",
    "start_date = pd.Timestamp('2018-10-19', tz='America/New_York').isoformat()\n",
    "end_date = pd.Timestamp('2023-10-20', tz='America/New_York').isoformat()"
   ]
  },
  {
   "cell_type": "code",
   "execution_count": 28,
   "metadata": {},
   "outputs": [
    {
     "data": {
      "text/html": [
       "<div>\n",
       "<style scoped>\n",
       "    .dataframe tbody tr th:only-of-type {\n",
       "        vertical-align: middle;\n",
       "    }\n",
       "\n",
       "    .dataframe tbody tr th {\n",
       "        vertical-align: top;\n",
       "    }\n",
       "\n",
       "    .dataframe thead tr th {\n",
       "        text-align: left;\n",
       "    }\n",
       "\n",
       "    .dataframe thead tr:last-of-type th {\n",
       "        text-align: right;\n",
       "    }\n",
       "</style>\n",
       "<table border=\"1\" class=\"dataframe\">\n",
       "  <thead>\n",
       "    <tr>\n",
       "      <th></th>\n",
       "      <th colspan=\"7\" halign=\"left\">SPY</th>\n",
       "      <th colspan=\"7\" halign=\"left\">AGG</th>\n",
       "    </tr>\n",
       "    <tr>\n",
       "      <th></th>\n",
       "      <th>close</th>\n",
       "      <th>high</th>\n",
       "      <th>low</th>\n",
       "      <th>trade_count</th>\n",
       "      <th>open</th>\n",
       "      <th>volume</th>\n",
       "      <th>vwap</th>\n",
       "      <th>close</th>\n",
       "      <th>high</th>\n",
       "      <th>low</th>\n",
       "      <th>trade_count</th>\n",
       "      <th>open</th>\n",
       "      <th>volume</th>\n",
       "      <th>vwap</th>\n",
       "    </tr>\n",
       "    <tr>\n",
       "      <th>timestamp</th>\n",
       "      <th></th>\n",
       "      <th></th>\n",
       "      <th></th>\n",
       "      <th></th>\n",
       "      <th></th>\n",
       "      <th></th>\n",
       "      <th></th>\n",
       "      <th></th>\n",
       "      <th></th>\n",
       "      <th></th>\n",
       "      <th></th>\n",
       "      <th></th>\n",
       "      <th></th>\n",
       "      <th></th>\n",
       "    </tr>\n",
       "  </thead>\n",
       "  <tbody>\n",
       "    <tr>\n",
       "      <th>2018-10-19 04:00:00+00:00</th>\n",
       "      <td>104.37</td>\n",
       "      <td>104.5500</td>\n",
       "      <td>104.3400</td>\n",
       "      <td>13175</td>\n",
       "      <td>104.47</td>\n",
       "      <td>3105921</td>\n",
       "      <td>104.390878</td>\n",
       "      <td>276.1797</td>\n",
       "      <td>279.300</td>\n",
       "      <td>275.4700</td>\n",
       "      <td>582243</td>\n",
       "      <td>277.13</td>\n",
       "      <td>140662678</td>\n",
       "      <td>277.063759</td>\n",
       "    </tr>\n",
       "    <tr>\n",
       "      <th>2018-10-22 04:00:00+00:00</th>\n",
       "      <td>104.35</td>\n",
       "      <td>104.5200</td>\n",
       "      <td>104.3400</td>\n",
       "      <td>11391</td>\n",
       "      <td>104.47</td>\n",
       "      <td>2948119</td>\n",
       "      <td>104.408492</td>\n",
       "      <td>275.0300</td>\n",
       "      <td>277.360</td>\n",
       "      <td>274.4100</td>\n",
       "      <td>449535</td>\n",
       "      <td>277.00</td>\n",
       "      <td>83420677</td>\n",
       "      <td>275.565255</td>\n",
       "    </tr>\n",
       "    <tr>\n",
       "      <th>2018-10-23 04:00:00+00:00</th>\n",
       "      <td>104.48</td>\n",
       "      <td>104.7400</td>\n",
       "      <td>104.4750</td>\n",
       "      <td>14144</td>\n",
       "      <td>104.67</td>\n",
       "      <td>3695313</td>\n",
       "      <td>104.605860</td>\n",
       "      <td>273.5200</td>\n",
       "      <td>274.870</td>\n",
       "      <td>268.6100</td>\n",
       "      <td>837023</td>\n",
       "      <td>270.95</td>\n",
       "      <td>148031789</td>\n",
       "      <td>271.959702</td>\n",
       "    </tr>\n",
       "    <tr>\n",
       "      <th>2018-10-24 04:00:00+00:00</th>\n",
       "      <td>104.75</td>\n",
       "      <td>104.8100</td>\n",
       "      <td>104.6700</td>\n",
       "      <td>17520</td>\n",
       "      <td>104.69</td>\n",
       "      <td>4849462</td>\n",
       "      <td>104.742653</td>\n",
       "      <td>265.2100</td>\n",
       "      <td>273.760</td>\n",
       "      <td>264.7000</td>\n",
       "      <td>938613</td>\n",
       "      <td>273.33</td>\n",
       "      <td>180061325</td>\n",
       "      <td>269.071189</td>\n",
       "    </tr>\n",
       "    <tr>\n",
       "      <th>2018-10-25 04:00:00+00:00</th>\n",
       "      <td>104.66</td>\n",
       "      <td>104.7700</td>\n",
       "      <td>104.6100</td>\n",
       "      <td>15828</td>\n",
       "      <td>104.71</td>\n",
       "      <td>12638378</td>\n",
       "      <td>104.664656</td>\n",
       "      <td>270.0100</td>\n",
       "      <td>271.810</td>\n",
       "      <td>266.2300</td>\n",
       "      <td>733954</td>\n",
       "      <td>267.38</td>\n",
       "      <td>140353452</td>\n",
       "      <td>269.146254</td>\n",
       "    </tr>\n",
       "    <tr>\n",
       "      <th>2018-10-26 04:00:00+00:00</th>\n",
       "      <td>104.90</td>\n",
       "      <td>105.0500</td>\n",
       "      <td>104.8700</td>\n",
       "      <td>15037</td>\n",
       "      <td>104.88</td>\n",
       "      <td>7199420</td>\n",
       "      <td>104.931247</td>\n",
       "      <td>265.2200</td>\n",
       "      <td>271.000</td>\n",
       "      <td>262.2900</td>\n",
       "      <td>1111846</td>\n",
       "      <td>265.92</td>\n",
       "      <td>203923040</td>\n",
       "      <td>265.531968</td>\n",
       "    </tr>\n",
       "    <tr>\n",
       "      <th>2018-10-29 04:00:00+00:00</th>\n",
       "      <td>104.79</td>\n",
       "      <td>104.8900</td>\n",
       "      <td>104.7200</td>\n",
       "      <td>13689</td>\n",
       "      <td>104.86</td>\n",
       "      <td>6547859</td>\n",
       "      <td>104.797963</td>\n",
       "      <td>263.6900</td>\n",
       "      <td>270.250</td>\n",
       "      <td>259.8500</td>\n",
       "      <td>861685</td>\n",
       "      <td>268.80</td>\n",
       "      <td>162968623</td>\n",
       "      <td>265.472007</td>\n",
       "    </tr>\n",
       "    <tr>\n",
       "      <th>2018-10-30 04:00:00+00:00</th>\n",
       "      <td>104.64</td>\n",
       "      <td>104.7800</td>\n",
       "      <td>104.6400</td>\n",
       "      <td>12042</td>\n",
       "      <td>104.68</td>\n",
       "      <td>2831276</td>\n",
       "      <td>104.689661</td>\n",
       "      <td>267.8800</td>\n",
       "      <td>268.120</td>\n",
       "      <td>263.1200</td>\n",
       "      <td>868960</td>\n",
       "      <td>263.67</td>\n",
       "      <td>159696059</td>\n",
       "      <td>265.831549</td>\n",
       "    </tr>\n",
       "    <tr>\n",
       "      <th>2018-10-31 04:00:00+00:00</th>\n",
       "      <td>104.59</td>\n",
       "      <td>104.7000</td>\n",
       "      <td>104.5000</td>\n",
       "      <td>40210</td>\n",
       "      <td>104.50</td>\n",
       "      <td>16458695</td>\n",
       "      <td>104.598448</td>\n",
       "      <td>270.6900</td>\n",
       "      <td>273.230</td>\n",
       "      <td>270.1200</td>\n",
       "      <td>602207</td>\n",
       "      <td>270.65</td>\n",
       "      <td>131674297</td>\n",
       "      <td>271.428010</td>\n",
       "    </tr>\n",
       "    <tr>\n",
       "      <th>2018-11-01 04:00:00+00:00</th>\n",
       "      <td>104.34</td>\n",
       "      <td>104.4100</td>\n",
       "      <td>104.2100</td>\n",
       "      <td>21872</td>\n",
       "      <td>104.22</td>\n",
       "      <td>8799790</td>\n",
       "      <td>104.334351</td>\n",
       "      <td>273.3700</td>\n",
       "      <td>273.730</td>\n",
       "      <td>270.3800</td>\n",
       "      <td>460604</td>\n",
       "      <td>271.60</td>\n",
       "      <td>101051621</td>\n",
       "      <td>272.367233</td>\n",
       "    </tr>\n",
       "    <tr>\n",
       "      <th>2018-11-02 04:00:00+00:00</th>\n",
       "      <td>104.03</td>\n",
       "      <td>104.2900</td>\n",
       "      <td>103.9400</td>\n",
       "      <td>15973</td>\n",
       "      <td>104.25</td>\n",
       "      <td>4620690</td>\n",
       "      <td>104.066112</td>\n",
       "      <td>271.8000</td>\n",
       "      <td>275.230</td>\n",
       "      <td>269.5900</td>\n",
       "      <td>612382</td>\n",
       "      <td>274.75</td>\n",
       "      <td>124249254</td>\n",
       "      <td>272.157261</td>\n",
       "    </tr>\n",
       "    <tr>\n",
       "      <th>2018-11-05 05:00:00+00:00</th>\n",
       "      <td>104.10</td>\n",
       "      <td>104.1700</td>\n",
       "      <td>104.0700</td>\n",
       "      <td>11362</td>\n",
       "      <td>104.14</td>\n",
       "      <td>3951758</td>\n",
       "      <td>104.109446</td>\n",
       "      <td>273.4700</td>\n",
       "      <td>274.010</td>\n",
       "      <td>271.3500</td>\n",
       "      <td>319136</td>\n",
       "      <td>272.44</td>\n",
       "      <td>69873066</td>\n",
       "      <td>272.869097</td>\n",
       "    </tr>\n",
       "    <tr>\n",
       "      <th>2018-11-06 05:00:00+00:00</th>\n",
       "      <td>104.11</td>\n",
       "      <td>104.1699</td>\n",
       "      <td>104.0635</td>\n",
       "      <td>10446</td>\n",
       "      <td>104.09</td>\n",
       "      <td>2672159</td>\n",
       "      <td>104.109635</td>\n",
       "      <td>275.1100</td>\n",
       "      <td>275.300</td>\n",
       "      <td>273.2500</td>\n",
       "      <td>285373</td>\n",
       "      <td>273.32</td>\n",
       "      <td>60827084</td>\n",
       "      <td>274.496925</td>\n",
       "    </tr>\n",
       "    <tr>\n",
       "      <th>2018-11-07 05:00:00+00:00</th>\n",
       "      <td>104.20</td>\n",
       "      <td>104.3600</td>\n",
       "      <td>104.1400</td>\n",
       "      <td>15114</td>\n",
       "      <td>104.25</td>\n",
       "      <td>5003115</td>\n",
       "      <td>104.234319</td>\n",
       "      <td>281.0000</td>\n",
       "      <td>281.100</td>\n",
       "      <td>277.0800</td>\n",
       "      <td>437245</td>\n",
       "      <td>277.56</td>\n",
       "      <td>104778528</td>\n",
       "      <td>279.401829</td>\n",
       "    </tr>\n",
       "    <tr>\n",
       "      <th>2018-11-08 05:00:00+00:00</th>\n",
       "      <td>104.01</td>\n",
       "      <td>104.2200</td>\n",
       "      <td>104.0000</td>\n",
       "      <td>11544</td>\n",
       "      <td>104.19</td>\n",
       "      <td>3542707</td>\n",
       "      <td>104.127309</td>\n",
       "      <td>280.4800</td>\n",
       "      <td>281.220</td>\n",
       "      <td>279.2200</td>\n",
       "      <td>317905</td>\n",
       "      <td>280.11</td>\n",
       "      <td>67444757</td>\n",
       "      <td>280.349295</td>\n",
       "    </tr>\n",
       "    <tr>\n",
       "      <th>2018-11-09 05:00:00+00:00</th>\n",
       "      <td>104.14</td>\n",
       "      <td>104.2500</td>\n",
       "      <td>104.0700</td>\n",
       "      <td>11156</td>\n",
       "      <td>104.07</td>\n",
       "      <td>3111268</td>\n",
       "      <td>104.155367</td>\n",
       "      <td>277.8200</td>\n",
       "      <td>279.240</td>\n",
       "      <td>276.1800</td>\n",
       "      <td>426782</td>\n",
       "      <td>279.03</td>\n",
       "      <td>101244637</td>\n",
       "      <td>277.898707</td>\n",
       "    </tr>\n",
       "    <tr>\n",
       "      <th>2018-11-12 05:00:00+00:00</th>\n",
       "      <td>104.31</td>\n",
       "      <td>104.3500</td>\n",
       "      <td>104.2500</td>\n",
       "      <td>9473</td>\n",
       "      <td>104.31</td>\n",
       "      <td>3274844</td>\n",
       "      <td>104.309290</td>\n",
       "      <td>272.4795</td>\n",
       "      <td>277.460</td>\n",
       "      <td>271.9900</td>\n",
       "      <td>501900</td>\n",
       "      <td>277.19</td>\n",
       "      <td>101689304</td>\n",
       "      <td>273.928487</td>\n",
       "    </tr>\n",
       "    <tr>\n",
       "      <th>2018-11-13 05:00:00+00:00</th>\n",
       "      <td>104.35</td>\n",
       "      <td>104.3700</td>\n",
       "      <td>104.2131</td>\n",
       "      <td>12681</td>\n",
       "      <td>104.30</td>\n",
       "      <td>3054248</td>\n",
       "      <td>104.303009</td>\n",
       "      <td>272.0400</td>\n",
       "      <td>275.325</td>\n",
       "      <td>271.2500</td>\n",
       "      <td>515440</td>\n",
       "      <td>273.09</td>\n",
       "      <td>99239981</td>\n",
       "      <td>272.881763</td>\n",
       "    </tr>\n",
       "    <tr>\n",
       "      <th>2018-11-14 05:00:00+00:00</th>\n",
       "      <td>104.36</td>\n",
       "      <td>104.5000</td>\n",
       "      <td>104.2000</td>\n",
       "      <td>14144</td>\n",
       "      <td>104.22</td>\n",
       "      <td>3635975</td>\n",
       "      <td>104.366271</td>\n",
       "      <td>270.1500</td>\n",
       "      <td>274.610</td>\n",
       "      <td>268.4500</td>\n",
       "      <td>608599</td>\n",
       "      <td>274.16</td>\n",
       "      <td>128960318</td>\n",
       "      <td>271.000644</td>\n",
       "    </tr>\n",
       "    <tr>\n",
       "      <th>2018-11-15 05:00:00+00:00</th>\n",
       "      <td>104.49</td>\n",
       "      <td>104.5100</td>\n",
       "      <td>104.3101</td>\n",
       "      <td>13033</td>\n",
       "      <td>104.48</td>\n",
       "      <td>4046649</td>\n",
       "      <td>104.423564</td>\n",
       "      <td>273.0100</td>\n",
       "      <td>273.540</td>\n",
       "      <td>267.0102</td>\n",
       "      <td>671211</td>\n",
       "      <td>268.78</td>\n",
       "      <td>136215785</td>\n",
       "      <td>270.885842</td>\n",
       "    </tr>\n",
       "  </tbody>\n",
       "</table>\n",
       "</div>"
      ],
      "text/plain": [
       "                              SPY                                          \\\n",
       "                            close      high       low trade_count    open   \n",
       "timestamp                                                                   \n",
       "2018-10-19 04:00:00+00:00  104.37  104.5500  104.3400       13175  104.47   \n",
       "2018-10-22 04:00:00+00:00  104.35  104.5200  104.3400       11391  104.47   \n",
       "2018-10-23 04:00:00+00:00  104.48  104.7400  104.4750       14144  104.67   \n",
       "2018-10-24 04:00:00+00:00  104.75  104.8100  104.6700       17520  104.69   \n",
       "2018-10-25 04:00:00+00:00  104.66  104.7700  104.6100       15828  104.71   \n",
       "2018-10-26 04:00:00+00:00  104.90  105.0500  104.8700       15037  104.88   \n",
       "2018-10-29 04:00:00+00:00  104.79  104.8900  104.7200       13689  104.86   \n",
       "2018-10-30 04:00:00+00:00  104.64  104.7800  104.6400       12042  104.68   \n",
       "2018-10-31 04:00:00+00:00  104.59  104.7000  104.5000       40210  104.50   \n",
       "2018-11-01 04:00:00+00:00  104.34  104.4100  104.2100       21872  104.22   \n",
       "2018-11-02 04:00:00+00:00  104.03  104.2900  103.9400       15973  104.25   \n",
       "2018-11-05 05:00:00+00:00  104.10  104.1700  104.0700       11362  104.14   \n",
       "2018-11-06 05:00:00+00:00  104.11  104.1699  104.0635       10446  104.09   \n",
       "2018-11-07 05:00:00+00:00  104.20  104.3600  104.1400       15114  104.25   \n",
       "2018-11-08 05:00:00+00:00  104.01  104.2200  104.0000       11544  104.19   \n",
       "2018-11-09 05:00:00+00:00  104.14  104.2500  104.0700       11156  104.07   \n",
       "2018-11-12 05:00:00+00:00  104.31  104.3500  104.2500        9473  104.31   \n",
       "2018-11-13 05:00:00+00:00  104.35  104.3700  104.2131       12681  104.30   \n",
       "2018-11-14 05:00:00+00:00  104.36  104.5000  104.2000       14144  104.22   \n",
       "2018-11-15 05:00:00+00:00  104.49  104.5100  104.3101       13033  104.48   \n",
       "\n",
       "                                                      AGG                     \\\n",
       "                             volume        vwap     close     high       low   \n",
       "timestamp                                                                      \n",
       "2018-10-19 04:00:00+00:00   3105921  104.390878  276.1797  279.300  275.4700   \n",
       "2018-10-22 04:00:00+00:00   2948119  104.408492  275.0300  277.360  274.4100   \n",
       "2018-10-23 04:00:00+00:00   3695313  104.605860  273.5200  274.870  268.6100   \n",
       "2018-10-24 04:00:00+00:00   4849462  104.742653  265.2100  273.760  264.7000   \n",
       "2018-10-25 04:00:00+00:00  12638378  104.664656  270.0100  271.810  266.2300   \n",
       "2018-10-26 04:00:00+00:00   7199420  104.931247  265.2200  271.000  262.2900   \n",
       "2018-10-29 04:00:00+00:00   6547859  104.797963  263.6900  270.250  259.8500   \n",
       "2018-10-30 04:00:00+00:00   2831276  104.689661  267.8800  268.120  263.1200   \n",
       "2018-10-31 04:00:00+00:00  16458695  104.598448  270.6900  273.230  270.1200   \n",
       "2018-11-01 04:00:00+00:00   8799790  104.334351  273.3700  273.730  270.3800   \n",
       "2018-11-02 04:00:00+00:00   4620690  104.066112  271.8000  275.230  269.5900   \n",
       "2018-11-05 05:00:00+00:00   3951758  104.109446  273.4700  274.010  271.3500   \n",
       "2018-11-06 05:00:00+00:00   2672159  104.109635  275.1100  275.300  273.2500   \n",
       "2018-11-07 05:00:00+00:00   5003115  104.234319  281.0000  281.100  277.0800   \n",
       "2018-11-08 05:00:00+00:00   3542707  104.127309  280.4800  281.220  279.2200   \n",
       "2018-11-09 05:00:00+00:00   3111268  104.155367  277.8200  279.240  276.1800   \n",
       "2018-11-12 05:00:00+00:00   3274844  104.309290  272.4795  277.460  271.9900   \n",
       "2018-11-13 05:00:00+00:00   3054248  104.303009  272.0400  275.325  271.2500   \n",
       "2018-11-14 05:00:00+00:00   3635975  104.366271  270.1500  274.610  268.4500   \n",
       "2018-11-15 05:00:00+00:00   4046649  104.423564  273.0100  273.540  267.0102   \n",
       "\n",
       "                                                                      \n",
       "                          trade_count    open     volume        vwap  \n",
       "timestamp                                                             \n",
       "2018-10-19 04:00:00+00:00      582243  277.13  140662678  277.063759  \n",
       "2018-10-22 04:00:00+00:00      449535  277.00   83420677  275.565255  \n",
       "2018-10-23 04:00:00+00:00      837023  270.95  148031789  271.959702  \n",
       "2018-10-24 04:00:00+00:00      938613  273.33  180061325  269.071189  \n",
       "2018-10-25 04:00:00+00:00      733954  267.38  140353452  269.146254  \n",
       "2018-10-26 04:00:00+00:00     1111846  265.92  203923040  265.531968  \n",
       "2018-10-29 04:00:00+00:00      861685  268.80  162968623  265.472007  \n",
       "2018-10-30 04:00:00+00:00      868960  263.67  159696059  265.831549  \n",
       "2018-10-31 04:00:00+00:00      602207  270.65  131674297  271.428010  \n",
       "2018-11-01 04:00:00+00:00      460604  271.60  101051621  272.367233  \n",
       "2018-11-02 04:00:00+00:00      612382  274.75  124249254  272.157261  \n",
       "2018-11-05 05:00:00+00:00      319136  272.44   69873066  272.869097  \n",
       "2018-11-06 05:00:00+00:00      285373  273.32   60827084  274.496925  \n",
       "2018-11-07 05:00:00+00:00      437245  277.56  104778528  279.401829  \n",
       "2018-11-08 05:00:00+00:00      317905  280.11   67444757  280.349295  \n",
       "2018-11-09 05:00:00+00:00      426782  279.03  101244637  277.898707  \n",
       "2018-11-12 05:00:00+00:00      501900  277.19  101689304  273.928487  \n",
       "2018-11-13 05:00:00+00:00      515440  273.09   99239981  272.881763  \n",
       "2018-11-14 05:00:00+00:00      608599  274.16  128960318  271.000644  \n",
       "2018-11-15 05:00:00+00:00      671211  268.78  136215785  270.885842  "
      ]
     },
     "execution_count": 28,
     "metadata": {},
     "output_type": "execute_result"
    }
   ],
   "source": [
    "# Getting 5 years' worth of historical data for SPY and AGG\n",
    "historic_data = api.get_bars(\n",
    "    ticker,\n",
    "    timeframe,\n",
    "    start=start_date,\n",
    "    end=end_date\n",
    ").df\n",
    "#Filtering historic_data to get SPY & AGG\n",
    "historic_data = historic_data[historic_data['symbol'].isin(['SPY', 'AGG'])]\n",
    "\n",
    "# Separate ticker data\n",
    "AGG_tick = historic_data[historic_data[\"symbol\"]==\"AGG\"].drop(\"symbol\", axis=1)\n",
    "SPY_tick = historic_data[historic_data[\"symbol\"]==\"SPY\"].drop(\"symbol\", axis=1)\n",
    "\n",
    "\n",
    "\n",
    "# Concatenate the ticker DataFrames\n",
    "historic_data = pd.concat([AGG_tick, SPY_tick], axis=1, keys=['SPY', 'AGG'])\n",
    "# Display sample data\n",
    "historic_data.head(20)\n"
   ]
  },
  {
   "cell_type": "code",
   "execution_count": 29,
   "metadata": {},
   "outputs": [],
   "source": [
    "# Configuring a Monte Carlo simulation to forecast 30 years cumulative returns\n",
    "MC_agg_spy = MCSimulation(\n",
    "    portfolio_data = historic_data,\n",
    "    weights = [.60, .40],\n",
    "    num_simulation = 500,\n",
    "    num_trading_days = 252*30\n",
    ")\n"
   ]
  },
  {
   "cell_type": "code",
   "execution_count": 30,
   "metadata": {},
   "outputs": [
    {
     "data": {
      "text/html": [
       "<div>\n",
       "<style scoped>\n",
       "    .dataframe tbody tr th:only-of-type {\n",
       "        vertical-align: middle;\n",
       "    }\n",
       "\n",
       "    .dataframe tbody tr th {\n",
       "        vertical-align: top;\n",
       "    }\n",
       "\n",
       "    .dataframe thead tr th {\n",
       "        text-align: left;\n",
       "    }\n",
       "\n",
       "    .dataframe thead tr:last-of-type th {\n",
       "        text-align: right;\n",
       "    }\n",
       "</style>\n",
       "<table border=\"1\" class=\"dataframe\">\n",
       "  <thead>\n",
       "    <tr>\n",
       "      <th></th>\n",
       "      <th colspan=\"8\" halign=\"left\">SPY</th>\n",
       "      <th colspan=\"8\" halign=\"left\">AGG</th>\n",
       "    </tr>\n",
       "    <tr>\n",
       "      <th></th>\n",
       "      <th>close</th>\n",
       "      <th>high</th>\n",
       "      <th>low</th>\n",
       "      <th>trade_count</th>\n",
       "      <th>open</th>\n",
       "      <th>volume</th>\n",
       "      <th>vwap</th>\n",
       "      <th>daily_return</th>\n",
       "      <th>close</th>\n",
       "      <th>high</th>\n",
       "      <th>low</th>\n",
       "      <th>trade_count</th>\n",
       "      <th>open</th>\n",
       "      <th>volume</th>\n",
       "      <th>vwap</th>\n",
       "      <th>daily_return</th>\n",
       "    </tr>\n",
       "    <tr>\n",
       "      <th>timestamp</th>\n",
       "      <th></th>\n",
       "      <th></th>\n",
       "      <th></th>\n",
       "      <th></th>\n",
       "      <th></th>\n",
       "      <th></th>\n",
       "      <th></th>\n",
       "      <th></th>\n",
       "      <th></th>\n",
       "      <th></th>\n",
       "      <th></th>\n",
       "      <th></th>\n",
       "      <th></th>\n",
       "      <th></th>\n",
       "      <th></th>\n",
       "      <th></th>\n",
       "    </tr>\n",
       "  </thead>\n",
       "  <tbody>\n",
       "    <tr>\n",
       "      <th>2018-10-19 04:00:00+00:00</th>\n",
       "      <td>104.37</td>\n",
       "      <td>104.55</td>\n",
       "      <td>104.340</td>\n",
       "      <td>13175</td>\n",
       "      <td>104.47</td>\n",
       "      <td>3105921</td>\n",
       "      <td>104.390878</td>\n",
       "      <td>NaN</td>\n",
       "      <td>276.1797</td>\n",
       "      <td>279.30</td>\n",
       "      <td>275.47</td>\n",
       "      <td>582243</td>\n",
       "      <td>277.13</td>\n",
       "      <td>140662678</td>\n",
       "      <td>277.063759</td>\n",
       "      <td>NaN</td>\n",
       "    </tr>\n",
       "    <tr>\n",
       "      <th>2018-10-22 04:00:00+00:00</th>\n",
       "      <td>104.35</td>\n",
       "      <td>104.52</td>\n",
       "      <td>104.340</td>\n",
       "      <td>11391</td>\n",
       "      <td>104.47</td>\n",
       "      <td>2948119</td>\n",
       "      <td>104.408492</td>\n",
       "      <td>-0.000192</td>\n",
       "      <td>275.0300</td>\n",
       "      <td>277.36</td>\n",
       "      <td>274.41</td>\n",
       "      <td>449535</td>\n",
       "      <td>277.00</td>\n",
       "      <td>83420677</td>\n",
       "      <td>275.565255</td>\n",
       "      <td>-0.004163</td>\n",
       "    </tr>\n",
       "    <tr>\n",
       "      <th>2018-10-23 04:00:00+00:00</th>\n",
       "      <td>104.48</td>\n",
       "      <td>104.74</td>\n",
       "      <td>104.475</td>\n",
       "      <td>14144</td>\n",
       "      <td>104.67</td>\n",
       "      <td>3695313</td>\n",
       "      <td>104.605860</td>\n",
       "      <td>0.001246</td>\n",
       "      <td>273.5200</td>\n",
       "      <td>274.87</td>\n",
       "      <td>268.61</td>\n",
       "      <td>837023</td>\n",
       "      <td>270.95</td>\n",
       "      <td>148031789</td>\n",
       "      <td>271.959702</td>\n",
       "      <td>-0.005490</td>\n",
       "    </tr>\n",
       "    <tr>\n",
       "      <th>2018-10-24 04:00:00+00:00</th>\n",
       "      <td>104.75</td>\n",
       "      <td>104.81</td>\n",
       "      <td>104.670</td>\n",
       "      <td>17520</td>\n",
       "      <td>104.69</td>\n",
       "      <td>4849462</td>\n",
       "      <td>104.742653</td>\n",
       "      <td>0.002584</td>\n",
       "      <td>265.2100</td>\n",
       "      <td>273.76</td>\n",
       "      <td>264.70</td>\n",
       "      <td>938613</td>\n",
       "      <td>273.33</td>\n",
       "      <td>180061325</td>\n",
       "      <td>269.071189</td>\n",
       "      <td>-0.030382</td>\n",
       "    </tr>\n",
       "    <tr>\n",
       "      <th>2018-10-25 04:00:00+00:00</th>\n",
       "      <td>104.66</td>\n",
       "      <td>104.77</td>\n",
       "      <td>104.610</td>\n",
       "      <td>15828</td>\n",
       "      <td>104.71</td>\n",
       "      <td>12638378</td>\n",
       "      <td>104.664656</td>\n",
       "      <td>-0.000859</td>\n",
       "      <td>270.0100</td>\n",
       "      <td>271.81</td>\n",
       "      <td>266.23</td>\n",
       "      <td>733954</td>\n",
       "      <td>267.38</td>\n",
       "      <td>140353452</td>\n",
       "      <td>269.146254</td>\n",
       "      <td>0.018099</td>\n",
       "    </tr>\n",
       "  </tbody>\n",
       "</table>\n",
       "</div>"
      ],
      "text/plain": [
       "                              SPY                                       \\\n",
       "                            close    high      low trade_count    open   \n",
       "timestamp                                                                \n",
       "2018-10-19 04:00:00+00:00  104.37  104.55  104.340       13175  104.47   \n",
       "2018-10-22 04:00:00+00:00  104.35  104.52  104.340       11391  104.47   \n",
       "2018-10-23 04:00:00+00:00  104.48  104.74  104.475       14144  104.67   \n",
       "2018-10-24 04:00:00+00:00  104.75  104.81  104.670       17520  104.69   \n",
       "2018-10-25 04:00:00+00:00  104.66  104.77  104.610       15828  104.71   \n",
       "\n",
       "                                                                   AGG  \\\n",
       "                             volume        vwap daily_return     close   \n",
       "timestamp                                                                \n",
       "2018-10-19 04:00:00+00:00   3105921  104.390878          NaN  276.1797   \n",
       "2018-10-22 04:00:00+00:00   2948119  104.408492    -0.000192  275.0300   \n",
       "2018-10-23 04:00:00+00:00   3695313  104.605860     0.001246  273.5200   \n",
       "2018-10-24 04:00:00+00:00   4849462  104.742653     0.002584  265.2100   \n",
       "2018-10-25 04:00:00+00:00  12638378  104.664656    -0.000859  270.0100   \n",
       "\n",
       "                                                                          \\\n",
       "                             high     low trade_count    open     volume   \n",
       "timestamp                                                                  \n",
       "2018-10-19 04:00:00+00:00  279.30  275.47      582243  277.13  140662678   \n",
       "2018-10-22 04:00:00+00:00  277.36  274.41      449535  277.00   83420677   \n",
       "2018-10-23 04:00:00+00:00  274.87  268.61      837023  270.95  148031789   \n",
       "2018-10-24 04:00:00+00:00  273.76  264.70      938613  273.33  180061325   \n",
       "2018-10-25 04:00:00+00:00  271.81  266.23      733954  267.38  140353452   \n",
       "\n",
       "                                                    \n",
       "                                 vwap daily_return  \n",
       "timestamp                                           \n",
       "2018-10-19 04:00:00+00:00  277.063759          NaN  \n",
       "2018-10-22 04:00:00+00:00  275.565255    -0.004163  \n",
       "2018-10-23 04:00:00+00:00  271.959702    -0.005490  \n",
       "2018-10-24 04:00:00+00:00  269.071189    -0.030382  \n",
       "2018-10-25 04:00:00+00:00  269.146254     0.018099  "
      ]
     },
     "execution_count": 30,
     "metadata": {},
     "output_type": "execute_result"
    }
   ],
   "source": [
    "# Printing the simulation input data\n",
    "MC_agg_spy.portfolio_data.head()"
   ]
  },
  {
   "cell_type": "code",
   "execution_count": 32,
   "metadata": {},
   "outputs": [
    {
     "name": "stdout",
     "output_type": "stream",
     "text": [
      "Running Monte Carlo simulation number 0.\n",
      "Running Monte Carlo simulation number 10.\n",
      "Running Monte Carlo simulation number 20.\n",
      "Running Monte Carlo simulation number 30.\n",
      "Running Monte Carlo simulation number 40.\n",
      "Running Monte Carlo simulation number 50.\n",
      "Running Monte Carlo simulation number 60.\n",
      "Running Monte Carlo simulation number 70.\n",
      "Running Monte Carlo simulation number 80.\n",
      "Running Monte Carlo simulation number 90.\n",
      "Running Monte Carlo simulation number 100.\n"
     ]
    },
    {
     "name": "stderr",
     "output_type": "stream",
     "text": [
      "C:\\Users\\ryans\\Ryans\\Finanacial Planner\\MCForecastTools.py:117: PerformanceWarning: DataFrame is highly fragmented.  This is usually the result of calling `frame.insert` many times, which has poor performance.  Consider joining all columns at once using pd.concat(axis=1) instead. To get a de-fragmented frame, use `newframe = frame.copy()`\n",
      "  portfolio_cumulative_returns[n] = (1 + sim_df.fillna(0)).cumprod()\n",
      "C:\\Users\\ryans\\Ryans\\Finanacial Planner\\MCForecastTools.py:117: PerformanceWarning: DataFrame is highly fragmented.  This is usually the result of calling `frame.insert` many times, which has poor performance.  Consider joining all columns at once using pd.concat(axis=1) instead. To get a de-fragmented frame, use `newframe = frame.copy()`\n",
      "  portfolio_cumulative_returns[n] = (1 + sim_df.fillna(0)).cumprod()\n",
      "C:\\Users\\ryans\\Ryans\\Finanacial Planner\\MCForecastTools.py:117: PerformanceWarning: DataFrame is highly fragmented.  This is usually the result of calling `frame.insert` many times, which has poor performance.  Consider joining all columns at once using pd.concat(axis=1) instead. To get a de-fragmented frame, use `newframe = frame.copy()`\n",
      "  portfolio_cumulative_returns[n] = (1 + sim_df.fillna(0)).cumprod()\n",
      "C:\\Users\\ryans\\Ryans\\Finanacial Planner\\MCForecastTools.py:117: PerformanceWarning: DataFrame is highly fragmented.  This is usually the result of calling `frame.insert` many times, which has poor performance.  Consider joining all columns at once using pd.concat(axis=1) instead. To get a de-fragmented frame, use `newframe = frame.copy()`\n",
      "  portfolio_cumulative_returns[n] = (1 + sim_df.fillna(0)).cumprod()\n",
      "C:\\Users\\ryans\\Ryans\\Finanacial Planner\\MCForecastTools.py:117: PerformanceWarning: DataFrame is highly fragmented.  This is usually the result of calling `frame.insert` many times, which has poor performance.  Consider joining all columns at once using pd.concat(axis=1) instead. To get a de-fragmented frame, use `newframe = frame.copy()`\n",
      "  portfolio_cumulative_returns[n] = (1 + sim_df.fillna(0)).cumprod()\n",
      "C:\\Users\\ryans\\Ryans\\Finanacial Planner\\MCForecastTools.py:117: PerformanceWarning: DataFrame is highly fragmented.  This is usually the result of calling `frame.insert` many times, which has poor performance.  Consider joining all columns at once using pd.concat(axis=1) instead. To get a de-fragmented frame, use `newframe = frame.copy()`\n",
      "  portfolio_cumulative_returns[n] = (1 + sim_df.fillna(0)).cumprod()\n",
      "C:\\Users\\ryans\\Ryans\\Finanacial Planner\\MCForecastTools.py:117: PerformanceWarning: DataFrame is highly fragmented.  This is usually the result of calling `frame.insert` many times, which has poor performance.  Consider joining all columns at once using pd.concat(axis=1) instead. To get a de-fragmented frame, use `newframe = frame.copy()`\n",
      "  portfolio_cumulative_returns[n] = (1 + sim_df.fillna(0)).cumprod()\n",
      "C:\\Users\\ryans\\Ryans\\Finanacial Planner\\MCForecastTools.py:117: PerformanceWarning: DataFrame is highly fragmented.  This is usually the result of calling `frame.insert` many times, which has poor performance.  Consider joining all columns at once using pd.concat(axis=1) instead. To get a de-fragmented frame, use `newframe = frame.copy()`\n",
      "  portfolio_cumulative_returns[n] = (1 + sim_df.fillna(0)).cumprod()\n",
      "C:\\Users\\ryans\\Ryans\\Finanacial Planner\\MCForecastTools.py:117: PerformanceWarning: DataFrame is highly fragmented.  This is usually the result of calling `frame.insert` many times, which has poor performance.  Consider joining all columns at once using pd.concat(axis=1) instead. To get a de-fragmented frame, use `newframe = frame.copy()`\n",
      "  portfolio_cumulative_returns[n] = (1 + sim_df.fillna(0)).cumprod()\n",
      "C:\\Users\\ryans\\Ryans\\Finanacial Planner\\MCForecastTools.py:117: PerformanceWarning: DataFrame is highly fragmented.  This is usually the result of calling `frame.insert` many times, which has poor performance.  Consider joining all columns at once using pd.concat(axis=1) instead. To get a de-fragmented frame, use `newframe = frame.copy()`\n",
      "  portfolio_cumulative_returns[n] = (1 + sim_df.fillna(0)).cumprod()\n",
      "C:\\Users\\ryans\\Ryans\\Finanacial Planner\\MCForecastTools.py:117: PerformanceWarning: DataFrame is highly fragmented.  This is usually the result of calling `frame.insert` many times, which has poor performance.  Consider joining all columns at once using pd.concat(axis=1) instead. To get a de-fragmented frame, use `newframe = frame.copy()`\n",
      "  portfolio_cumulative_returns[n] = (1 + sim_df.fillna(0)).cumprod()\n",
      "C:\\Users\\ryans\\Ryans\\Finanacial Planner\\MCForecastTools.py:117: PerformanceWarning: DataFrame is highly fragmented.  This is usually the result of calling `frame.insert` many times, which has poor performance.  Consider joining all columns at once using pd.concat(axis=1) instead. To get a de-fragmented frame, use `newframe = frame.copy()`\n",
      "  portfolio_cumulative_returns[n] = (1 + sim_df.fillna(0)).cumprod()\n"
     ]
    },
    {
     "name": "stdout",
     "output_type": "stream",
     "text": [
      "Running Monte Carlo simulation number 110.\n"
     ]
    },
    {
     "name": "stderr",
     "output_type": "stream",
     "text": [
      "C:\\Users\\ryans\\Ryans\\Finanacial Planner\\MCForecastTools.py:117: PerformanceWarning: DataFrame is highly fragmented.  This is usually the result of calling `frame.insert` many times, which has poor performance.  Consider joining all columns at once using pd.concat(axis=1) instead. To get a de-fragmented frame, use `newframe = frame.copy()`\n",
      "  portfolio_cumulative_returns[n] = (1 + sim_df.fillna(0)).cumprod()\n",
      "C:\\Users\\ryans\\Ryans\\Finanacial Planner\\MCForecastTools.py:117: PerformanceWarning: DataFrame is highly fragmented.  This is usually the result of calling `frame.insert` many times, which has poor performance.  Consider joining all columns at once using pd.concat(axis=1) instead. To get a de-fragmented frame, use `newframe = frame.copy()`\n",
      "  portfolio_cumulative_returns[n] = (1 + sim_df.fillna(0)).cumprod()\n",
      "C:\\Users\\ryans\\Ryans\\Finanacial Planner\\MCForecastTools.py:117: PerformanceWarning: DataFrame is highly fragmented.  This is usually the result of calling `frame.insert` many times, which has poor performance.  Consider joining all columns at once using pd.concat(axis=1) instead. To get a de-fragmented frame, use `newframe = frame.copy()`\n",
      "  portfolio_cumulative_returns[n] = (1 + sim_df.fillna(0)).cumprod()\n",
      "C:\\Users\\ryans\\Ryans\\Finanacial Planner\\MCForecastTools.py:117: PerformanceWarning: DataFrame is highly fragmented.  This is usually the result of calling `frame.insert` many times, which has poor performance.  Consider joining all columns at once using pd.concat(axis=1) instead. To get a de-fragmented frame, use `newframe = frame.copy()`\n",
      "  portfolio_cumulative_returns[n] = (1 + sim_df.fillna(0)).cumprod()\n",
      "C:\\Users\\ryans\\Ryans\\Finanacial Planner\\MCForecastTools.py:117: PerformanceWarning: DataFrame is highly fragmented.  This is usually the result of calling `frame.insert` many times, which has poor performance.  Consider joining all columns at once using pd.concat(axis=1) instead. To get a de-fragmented frame, use `newframe = frame.copy()`\n",
      "  portfolio_cumulative_returns[n] = (1 + sim_df.fillna(0)).cumprod()\n",
      "C:\\Users\\ryans\\Ryans\\Finanacial Planner\\MCForecastTools.py:117: PerformanceWarning: DataFrame is highly fragmented.  This is usually the result of calling `frame.insert` many times, which has poor performance.  Consider joining all columns at once using pd.concat(axis=1) instead. To get a de-fragmented frame, use `newframe = frame.copy()`\n",
      "  portfolio_cumulative_returns[n] = (1 + sim_df.fillna(0)).cumprod()\n",
      "C:\\Users\\ryans\\Ryans\\Finanacial Planner\\MCForecastTools.py:117: PerformanceWarning: DataFrame is highly fragmented.  This is usually the result of calling `frame.insert` many times, which has poor performance.  Consider joining all columns at once using pd.concat(axis=1) instead. To get a de-fragmented frame, use `newframe = frame.copy()`\n",
      "  portfolio_cumulative_returns[n] = (1 + sim_df.fillna(0)).cumprod()\n",
      "C:\\Users\\ryans\\Ryans\\Finanacial Planner\\MCForecastTools.py:117: PerformanceWarning: DataFrame is highly fragmented.  This is usually the result of calling `frame.insert` many times, which has poor performance.  Consider joining all columns at once using pd.concat(axis=1) instead. To get a de-fragmented frame, use `newframe = frame.copy()`\n",
      "  portfolio_cumulative_returns[n] = (1 + sim_df.fillna(0)).cumprod()\n"
     ]
    },
    {
     "name": "stdout",
     "output_type": "stream",
     "text": [
      "Running Monte Carlo simulation number 120.\n"
     ]
    },
    {
     "name": "stderr",
     "output_type": "stream",
     "text": [
      "C:\\Users\\ryans\\Ryans\\Finanacial Planner\\MCForecastTools.py:117: PerformanceWarning: DataFrame is highly fragmented.  This is usually the result of calling `frame.insert` many times, which has poor performance.  Consider joining all columns at once using pd.concat(axis=1) instead. To get a de-fragmented frame, use `newframe = frame.copy()`\n",
      "  portfolio_cumulative_returns[n] = (1 + sim_df.fillna(0)).cumprod()\n",
      "C:\\Users\\ryans\\Ryans\\Finanacial Planner\\MCForecastTools.py:117: PerformanceWarning: DataFrame is highly fragmented.  This is usually the result of calling `frame.insert` many times, which has poor performance.  Consider joining all columns at once using pd.concat(axis=1) instead. To get a de-fragmented frame, use `newframe = frame.copy()`\n",
      "  portfolio_cumulative_returns[n] = (1 + sim_df.fillna(0)).cumprod()\n",
      "C:\\Users\\ryans\\Ryans\\Finanacial Planner\\MCForecastTools.py:117: PerformanceWarning: DataFrame is highly fragmented.  This is usually the result of calling `frame.insert` many times, which has poor performance.  Consider joining all columns at once using pd.concat(axis=1) instead. To get a de-fragmented frame, use `newframe = frame.copy()`\n",
      "  portfolio_cumulative_returns[n] = (1 + sim_df.fillna(0)).cumprod()\n",
      "C:\\Users\\ryans\\Ryans\\Finanacial Planner\\MCForecastTools.py:117: PerformanceWarning: DataFrame is highly fragmented.  This is usually the result of calling `frame.insert` many times, which has poor performance.  Consider joining all columns at once using pd.concat(axis=1) instead. To get a de-fragmented frame, use `newframe = frame.copy()`\n",
      "  portfolio_cumulative_returns[n] = (1 + sim_df.fillna(0)).cumprod()\n",
      "C:\\Users\\ryans\\Ryans\\Finanacial Planner\\MCForecastTools.py:117: PerformanceWarning: DataFrame is highly fragmented.  This is usually the result of calling `frame.insert` many times, which has poor performance.  Consider joining all columns at once using pd.concat(axis=1) instead. To get a de-fragmented frame, use `newframe = frame.copy()`\n",
      "  portfolio_cumulative_returns[n] = (1 + sim_df.fillna(0)).cumprod()\n",
      "C:\\Users\\ryans\\Ryans\\Finanacial Planner\\MCForecastTools.py:117: PerformanceWarning: DataFrame is highly fragmented.  This is usually the result of calling `frame.insert` many times, which has poor performance.  Consider joining all columns at once using pd.concat(axis=1) instead. To get a de-fragmented frame, use `newframe = frame.copy()`\n",
      "  portfolio_cumulative_returns[n] = (1 + sim_df.fillna(0)).cumprod()\n",
      "C:\\Users\\ryans\\Ryans\\Finanacial Planner\\MCForecastTools.py:117: PerformanceWarning: DataFrame is highly fragmented.  This is usually the result of calling `frame.insert` many times, which has poor performance.  Consider joining all columns at once using pd.concat(axis=1) instead. To get a de-fragmented frame, use `newframe = frame.copy()`\n",
      "  portfolio_cumulative_returns[n] = (1 + sim_df.fillna(0)).cumprod()\n",
      "C:\\Users\\ryans\\Ryans\\Finanacial Planner\\MCForecastTools.py:117: PerformanceWarning: DataFrame is highly fragmented.  This is usually the result of calling `frame.insert` many times, which has poor performance.  Consider joining all columns at once using pd.concat(axis=1) instead. To get a de-fragmented frame, use `newframe = frame.copy()`\n",
      "  portfolio_cumulative_returns[n] = (1 + sim_df.fillna(0)).cumprod()\n",
      "C:\\Users\\ryans\\Ryans\\Finanacial Planner\\MCForecastTools.py:117: PerformanceWarning: DataFrame is highly fragmented.  This is usually the result of calling `frame.insert` many times, which has poor performance.  Consider joining all columns at once using pd.concat(axis=1) instead. To get a de-fragmented frame, use `newframe = frame.copy()`\n",
      "  portfolio_cumulative_returns[n] = (1 + sim_df.fillna(0)).cumprod()\n",
      "C:\\Users\\ryans\\Ryans\\Finanacial Planner\\MCForecastTools.py:117: PerformanceWarning: DataFrame is highly fragmented.  This is usually the result of calling `frame.insert` many times, which has poor performance.  Consider joining all columns at once using pd.concat(axis=1) instead. To get a de-fragmented frame, use `newframe = frame.copy()`\n",
      "  portfolio_cumulative_returns[n] = (1 + sim_df.fillna(0)).cumprod()\n",
      "C:\\Users\\ryans\\Ryans\\Finanacial Planner\\MCForecastTools.py:117: PerformanceWarning: DataFrame is highly fragmented.  This is usually the result of calling `frame.insert` many times, which has poor performance.  Consider joining all columns at once using pd.concat(axis=1) instead. To get a de-fragmented frame, use `newframe = frame.copy()`\n",
      "  portfolio_cumulative_returns[n] = (1 + sim_df.fillna(0)).cumprod()\n"
     ]
    },
    {
     "name": "stdout",
     "output_type": "stream",
     "text": [
      "Running Monte Carlo simulation number 130.\n"
     ]
    },
    {
     "name": "stderr",
     "output_type": "stream",
     "text": [
      "C:\\Users\\ryans\\Ryans\\Finanacial Planner\\MCForecastTools.py:117: PerformanceWarning: DataFrame is highly fragmented.  This is usually the result of calling `frame.insert` many times, which has poor performance.  Consider joining all columns at once using pd.concat(axis=1) instead. To get a de-fragmented frame, use `newframe = frame.copy()`\n",
      "  portfolio_cumulative_returns[n] = (1 + sim_df.fillna(0)).cumprod()\n",
      "C:\\Users\\ryans\\Ryans\\Finanacial Planner\\MCForecastTools.py:117: PerformanceWarning: DataFrame is highly fragmented.  This is usually the result of calling `frame.insert` many times, which has poor performance.  Consider joining all columns at once using pd.concat(axis=1) instead. To get a de-fragmented frame, use `newframe = frame.copy()`\n",
      "  portfolio_cumulative_returns[n] = (1 + sim_df.fillna(0)).cumprod()\n",
      "C:\\Users\\ryans\\Ryans\\Finanacial Planner\\MCForecastTools.py:117: PerformanceWarning: DataFrame is highly fragmented.  This is usually the result of calling `frame.insert` many times, which has poor performance.  Consider joining all columns at once using pd.concat(axis=1) instead. To get a de-fragmented frame, use `newframe = frame.copy()`\n",
      "  portfolio_cumulative_returns[n] = (1 + sim_df.fillna(0)).cumprod()\n",
      "C:\\Users\\ryans\\Ryans\\Finanacial Planner\\MCForecastTools.py:117: PerformanceWarning: DataFrame is highly fragmented.  This is usually the result of calling `frame.insert` many times, which has poor performance.  Consider joining all columns at once using pd.concat(axis=1) instead. To get a de-fragmented frame, use `newframe = frame.copy()`\n",
      "  portfolio_cumulative_returns[n] = (1 + sim_df.fillna(0)).cumprod()\n",
      "C:\\Users\\ryans\\Ryans\\Finanacial Planner\\MCForecastTools.py:117: PerformanceWarning: DataFrame is highly fragmented.  This is usually the result of calling `frame.insert` many times, which has poor performance.  Consider joining all columns at once using pd.concat(axis=1) instead. To get a de-fragmented frame, use `newframe = frame.copy()`\n",
      "  portfolio_cumulative_returns[n] = (1 + sim_df.fillna(0)).cumprod()\n",
      "C:\\Users\\ryans\\Ryans\\Finanacial Planner\\MCForecastTools.py:117: PerformanceWarning: DataFrame is highly fragmented.  This is usually the result of calling `frame.insert` many times, which has poor performance.  Consider joining all columns at once using pd.concat(axis=1) instead. To get a de-fragmented frame, use `newframe = frame.copy()`\n",
      "  portfolio_cumulative_returns[n] = (1 + sim_df.fillna(0)).cumprod()\n",
      "C:\\Users\\ryans\\Ryans\\Finanacial Planner\\MCForecastTools.py:117: PerformanceWarning: DataFrame is highly fragmented.  This is usually the result of calling `frame.insert` many times, which has poor performance.  Consider joining all columns at once using pd.concat(axis=1) instead. To get a de-fragmented frame, use `newframe = frame.copy()`\n",
      "  portfolio_cumulative_returns[n] = (1 + sim_df.fillna(0)).cumprod()\n",
      "C:\\Users\\ryans\\Ryans\\Finanacial Planner\\MCForecastTools.py:117: PerformanceWarning: DataFrame is highly fragmented.  This is usually the result of calling `frame.insert` many times, which has poor performance.  Consider joining all columns at once using pd.concat(axis=1) instead. To get a de-fragmented frame, use `newframe = frame.copy()`\n",
      "  portfolio_cumulative_returns[n] = (1 + sim_df.fillna(0)).cumprod()\n",
      "C:\\Users\\ryans\\Ryans\\Finanacial Planner\\MCForecastTools.py:117: PerformanceWarning: DataFrame is highly fragmented.  This is usually the result of calling `frame.insert` many times, which has poor performance.  Consider joining all columns at once using pd.concat(axis=1) instead. To get a de-fragmented frame, use `newframe = frame.copy()`\n",
      "  portfolio_cumulative_returns[n] = (1 + sim_df.fillna(0)).cumprod()\n"
     ]
    },
    {
     "name": "stdout",
     "output_type": "stream",
     "text": [
      "Running Monte Carlo simulation number 140.\n"
     ]
    },
    {
     "name": "stderr",
     "output_type": "stream",
     "text": [
      "C:\\Users\\ryans\\Ryans\\Finanacial Planner\\MCForecastTools.py:117: PerformanceWarning: DataFrame is highly fragmented.  This is usually the result of calling `frame.insert` many times, which has poor performance.  Consider joining all columns at once using pd.concat(axis=1) instead. To get a de-fragmented frame, use `newframe = frame.copy()`\n",
      "  portfolio_cumulative_returns[n] = (1 + sim_df.fillna(0)).cumprod()\n",
      "C:\\Users\\ryans\\Ryans\\Finanacial Planner\\MCForecastTools.py:117: PerformanceWarning: DataFrame is highly fragmented.  This is usually the result of calling `frame.insert` many times, which has poor performance.  Consider joining all columns at once using pd.concat(axis=1) instead. To get a de-fragmented frame, use `newframe = frame.copy()`\n",
      "  portfolio_cumulative_returns[n] = (1 + sim_df.fillna(0)).cumprod()\n",
      "C:\\Users\\ryans\\Ryans\\Finanacial Planner\\MCForecastTools.py:117: PerformanceWarning: DataFrame is highly fragmented.  This is usually the result of calling `frame.insert` many times, which has poor performance.  Consider joining all columns at once using pd.concat(axis=1) instead. To get a de-fragmented frame, use `newframe = frame.copy()`\n",
      "  portfolio_cumulative_returns[n] = (1 + sim_df.fillna(0)).cumprod()\n",
      "C:\\Users\\ryans\\Ryans\\Finanacial Planner\\MCForecastTools.py:117: PerformanceWarning: DataFrame is highly fragmented.  This is usually the result of calling `frame.insert` many times, which has poor performance.  Consider joining all columns at once using pd.concat(axis=1) instead. To get a de-fragmented frame, use `newframe = frame.copy()`\n",
      "  portfolio_cumulative_returns[n] = (1 + sim_df.fillna(0)).cumprod()\n",
      "C:\\Users\\ryans\\Ryans\\Finanacial Planner\\MCForecastTools.py:117: PerformanceWarning: DataFrame is highly fragmented.  This is usually the result of calling `frame.insert` many times, which has poor performance.  Consider joining all columns at once using pd.concat(axis=1) instead. To get a de-fragmented frame, use `newframe = frame.copy()`\n",
      "  portfolio_cumulative_returns[n] = (1 + sim_df.fillna(0)).cumprod()\n",
      "C:\\Users\\ryans\\Ryans\\Finanacial Planner\\MCForecastTools.py:117: PerformanceWarning: DataFrame is highly fragmented.  This is usually the result of calling `frame.insert` many times, which has poor performance.  Consider joining all columns at once using pd.concat(axis=1) instead. To get a de-fragmented frame, use `newframe = frame.copy()`\n",
      "  portfolio_cumulative_returns[n] = (1 + sim_df.fillna(0)).cumprod()\n",
      "C:\\Users\\ryans\\Ryans\\Finanacial Planner\\MCForecastTools.py:117: PerformanceWarning: DataFrame is highly fragmented.  This is usually the result of calling `frame.insert` many times, which has poor performance.  Consider joining all columns at once using pd.concat(axis=1) instead. To get a de-fragmented frame, use `newframe = frame.copy()`\n",
      "  portfolio_cumulative_returns[n] = (1 + sim_df.fillna(0)).cumprod()\n",
      "C:\\Users\\ryans\\Ryans\\Finanacial Planner\\MCForecastTools.py:117: PerformanceWarning: DataFrame is highly fragmented.  This is usually the result of calling `frame.insert` many times, which has poor performance.  Consider joining all columns at once using pd.concat(axis=1) instead. To get a de-fragmented frame, use `newframe = frame.copy()`\n",
      "  portfolio_cumulative_returns[n] = (1 + sim_df.fillna(0)).cumprod()\n",
      "C:\\Users\\ryans\\Ryans\\Finanacial Planner\\MCForecastTools.py:117: PerformanceWarning: DataFrame is highly fragmented.  This is usually the result of calling `frame.insert` many times, which has poor performance.  Consider joining all columns at once using pd.concat(axis=1) instead. To get a de-fragmented frame, use `newframe = frame.copy()`\n",
      "  portfolio_cumulative_returns[n] = (1 + sim_df.fillna(0)).cumprod()\n",
      "C:\\Users\\ryans\\Ryans\\Finanacial Planner\\MCForecastTools.py:117: PerformanceWarning: DataFrame is highly fragmented.  This is usually the result of calling `frame.insert` many times, which has poor performance.  Consider joining all columns at once using pd.concat(axis=1) instead. To get a de-fragmented frame, use `newframe = frame.copy()`\n",
      "  portfolio_cumulative_returns[n] = (1 + sim_df.fillna(0)).cumprod()\n",
      "C:\\Users\\ryans\\Ryans\\Finanacial Planner\\MCForecastTools.py:117: PerformanceWarning: DataFrame is highly fragmented.  This is usually the result of calling `frame.insert` many times, which has poor performance.  Consider joining all columns at once using pd.concat(axis=1) instead. To get a de-fragmented frame, use `newframe = frame.copy()`\n",
      "  portfolio_cumulative_returns[n] = (1 + sim_df.fillna(0)).cumprod()\n",
      "C:\\Users\\ryans\\Ryans\\Finanacial Planner\\MCForecastTools.py:117: PerformanceWarning: DataFrame is highly fragmented.  This is usually the result of calling `frame.insert` many times, which has poor performance.  Consider joining all columns at once using pd.concat(axis=1) instead. To get a de-fragmented frame, use `newframe = frame.copy()`\n",
      "  portfolio_cumulative_returns[n] = (1 + sim_df.fillna(0)).cumprod()\n"
     ]
    },
    {
     "name": "stdout",
     "output_type": "stream",
     "text": [
      "Running Monte Carlo simulation number 150.\n"
     ]
    },
    {
     "name": "stderr",
     "output_type": "stream",
     "text": [
      "C:\\Users\\ryans\\Ryans\\Finanacial Planner\\MCForecastTools.py:117: PerformanceWarning: DataFrame is highly fragmented.  This is usually the result of calling `frame.insert` many times, which has poor performance.  Consider joining all columns at once using pd.concat(axis=1) instead. To get a de-fragmented frame, use `newframe = frame.copy()`\n",
      "  portfolio_cumulative_returns[n] = (1 + sim_df.fillna(0)).cumprod()\n",
      "C:\\Users\\ryans\\Ryans\\Finanacial Planner\\MCForecastTools.py:117: PerformanceWarning: DataFrame is highly fragmented.  This is usually the result of calling `frame.insert` many times, which has poor performance.  Consider joining all columns at once using pd.concat(axis=1) instead. To get a de-fragmented frame, use `newframe = frame.copy()`\n",
      "  portfolio_cumulative_returns[n] = (1 + sim_df.fillna(0)).cumprod()\n",
      "C:\\Users\\ryans\\Ryans\\Finanacial Planner\\MCForecastTools.py:117: PerformanceWarning: DataFrame is highly fragmented.  This is usually the result of calling `frame.insert` many times, which has poor performance.  Consider joining all columns at once using pd.concat(axis=1) instead. To get a de-fragmented frame, use `newframe = frame.copy()`\n",
      "  portfolio_cumulative_returns[n] = (1 + sim_df.fillna(0)).cumprod()\n",
      "C:\\Users\\ryans\\Ryans\\Finanacial Planner\\MCForecastTools.py:117: PerformanceWarning: DataFrame is highly fragmented.  This is usually the result of calling `frame.insert` many times, which has poor performance.  Consider joining all columns at once using pd.concat(axis=1) instead. To get a de-fragmented frame, use `newframe = frame.copy()`\n",
      "  portfolio_cumulative_returns[n] = (1 + sim_df.fillna(0)).cumprod()\n",
      "C:\\Users\\ryans\\Ryans\\Finanacial Planner\\MCForecastTools.py:117: PerformanceWarning: DataFrame is highly fragmented.  This is usually the result of calling `frame.insert` many times, which has poor performance.  Consider joining all columns at once using pd.concat(axis=1) instead. To get a de-fragmented frame, use `newframe = frame.copy()`\n",
      "  portfolio_cumulative_returns[n] = (1 + sim_df.fillna(0)).cumprod()\n",
      "C:\\Users\\ryans\\Ryans\\Finanacial Planner\\MCForecastTools.py:117: PerformanceWarning: DataFrame is highly fragmented.  This is usually the result of calling `frame.insert` many times, which has poor performance.  Consider joining all columns at once using pd.concat(axis=1) instead. To get a de-fragmented frame, use `newframe = frame.copy()`\n",
      "  portfolio_cumulative_returns[n] = (1 + sim_df.fillna(0)).cumprod()\n",
      "C:\\Users\\ryans\\Ryans\\Finanacial Planner\\MCForecastTools.py:117: PerformanceWarning: DataFrame is highly fragmented.  This is usually the result of calling `frame.insert` many times, which has poor performance.  Consider joining all columns at once using pd.concat(axis=1) instead. To get a de-fragmented frame, use `newframe = frame.copy()`\n",
      "  portfolio_cumulative_returns[n] = (1 + sim_df.fillna(0)).cumprod()\n",
      "C:\\Users\\ryans\\Ryans\\Finanacial Planner\\MCForecastTools.py:117: PerformanceWarning: DataFrame is highly fragmented.  This is usually the result of calling `frame.insert` many times, which has poor performance.  Consider joining all columns at once using pd.concat(axis=1) instead. To get a de-fragmented frame, use `newframe = frame.copy()`\n",
      "  portfolio_cumulative_returns[n] = (1 + sim_df.fillna(0)).cumprod()\n",
      "C:\\Users\\ryans\\Ryans\\Finanacial Planner\\MCForecastTools.py:117: PerformanceWarning: DataFrame is highly fragmented.  This is usually the result of calling `frame.insert` many times, which has poor performance.  Consider joining all columns at once using pd.concat(axis=1) instead. To get a de-fragmented frame, use `newframe = frame.copy()`\n",
      "  portfolio_cumulative_returns[n] = (1 + sim_df.fillna(0)).cumprod()\n"
     ]
    },
    {
     "name": "stdout",
     "output_type": "stream",
     "text": [
      "Running Monte Carlo simulation number 160.\n"
     ]
    },
    {
     "name": "stderr",
     "output_type": "stream",
     "text": [
      "C:\\Users\\ryans\\Ryans\\Finanacial Planner\\MCForecastTools.py:117: PerformanceWarning: DataFrame is highly fragmented.  This is usually the result of calling `frame.insert` many times, which has poor performance.  Consider joining all columns at once using pd.concat(axis=1) instead. To get a de-fragmented frame, use `newframe = frame.copy()`\n",
      "  portfolio_cumulative_returns[n] = (1 + sim_df.fillna(0)).cumprod()\n",
      "C:\\Users\\ryans\\Ryans\\Finanacial Planner\\MCForecastTools.py:117: PerformanceWarning: DataFrame is highly fragmented.  This is usually the result of calling `frame.insert` many times, which has poor performance.  Consider joining all columns at once using pd.concat(axis=1) instead. To get a de-fragmented frame, use `newframe = frame.copy()`\n",
      "  portfolio_cumulative_returns[n] = (1 + sim_df.fillna(0)).cumprod()\n",
      "C:\\Users\\ryans\\Ryans\\Finanacial Planner\\MCForecastTools.py:117: PerformanceWarning: DataFrame is highly fragmented.  This is usually the result of calling `frame.insert` many times, which has poor performance.  Consider joining all columns at once using pd.concat(axis=1) instead. To get a de-fragmented frame, use `newframe = frame.copy()`\n",
      "  portfolio_cumulative_returns[n] = (1 + sim_df.fillna(0)).cumprod()\n",
      "C:\\Users\\ryans\\Ryans\\Finanacial Planner\\MCForecastTools.py:117: PerformanceWarning: DataFrame is highly fragmented.  This is usually the result of calling `frame.insert` many times, which has poor performance.  Consider joining all columns at once using pd.concat(axis=1) instead. To get a de-fragmented frame, use `newframe = frame.copy()`\n",
      "  portfolio_cumulative_returns[n] = (1 + sim_df.fillna(0)).cumprod()\n",
      "C:\\Users\\ryans\\Ryans\\Finanacial Planner\\MCForecastTools.py:117: PerformanceWarning: DataFrame is highly fragmented.  This is usually the result of calling `frame.insert` many times, which has poor performance.  Consider joining all columns at once using pd.concat(axis=1) instead. To get a de-fragmented frame, use `newframe = frame.copy()`\n",
      "  portfolio_cumulative_returns[n] = (1 + sim_df.fillna(0)).cumprod()\n",
      "C:\\Users\\ryans\\Ryans\\Finanacial Planner\\MCForecastTools.py:117: PerformanceWarning: DataFrame is highly fragmented.  This is usually the result of calling `frame.insert` many times, which has poor performance.  Consider joining all columns at once using pd.concat(axis=1) instead. To get a de-fragmented frame, use `newframe = frame.copy()`\n",
      "  portfolio_cumulative_returns[n] = (1 + sim_df.fillna(0)).cumprod()\n",
      "C:\\Users\\ryans\\Ryans\\Finanacial Planner\\MCForecastTools.py:117: PerformanceWarning: DataFrame is highly fragmented.  This is usually the result of calling `frame.insert` many times, which has poor performance.  Consider joining all columns at once using pd.concat(axis=1) instead. To get a de-fragmented frame, use `newframe = frame.copy()`\n",
      "  portfolio_cumulative_returns[n] = (1 + sim_df.fillna(0)).cumprod()\n",
      "C:\\Users\\ryans\\Ryans\\Finanacial Planner\\MCForecastTools.py:117: PerformanceWarning: DataFrame is highly fragmented.  This is usually the result of calling `frame.insert` many times, which has poor performance.  Consider joining all columns at once using pd.concat(axis=1) instead. To get a de-fragmented frame, use `newframe = frame.copy()`\n",
      "  portfolio_cumulative_returns[n] = (1 + sim_df.fillna(0)).cumprod()\n",
      "C:\\Users\\ryans\\Ryans\\Finanacial Planner\\MCForecastTools.py:117: PerformanceWarning: DataFrame is highly fragmented.  This is usually the result of calling `frame.insert` many times, which has poor performance.  Consider joining all columns at once using pd.concat(axis=1) instead. To get a de-fragmented frame, use `newframe = frame.copy()`\n",
      "  portfolio_cumulative_returns[n] = (1 + sim_df.fillna(0)).cumprod()\n"
     ]
    },
    {
     "name": "stdout",
     "output_type": "stream",
     "text": [
      "Running Monte Carlo simulation number 170.\n"
     ]
    },
    {
     "name": "stderr",
     "output_type": "stream",
     "text": [
      "C:\\Users\\ryans\\Ryans\\Finanacial Planner\\MCForecastTools.py:117: PerformanceWarning: DataFrame is highly fragmented.  This is usually the result of calling `frame.insert` many times, which has poor performance.  Consider joining all columns at once using pd.concat(axis=1) instead. To get a de-fragmented frame, use `newframe = frame.copy()`\n",
      "  portfolio_cumulative_returns[n] = (1 + sim_df.fillna(0)).cumprod()\n",
      "C:\\Users\\ryans\\Ryans\\Finanacial Planner\\MCForecastTools.py:117: PerformanceWarning: DataFrame is highly fragmented.  This is usually the result of calling `frame.insert` many times, which has poor performance.  Consider joining all columns at once using pd.concat(axis=1) instead. To get a de-fragmented frame, use `newframe = frame.copy()`\n",
      "  portfolio_cumulative_returns[n] = (1 + sim_df.fillna(0)).cumprod()\n",
      "C:\\Users\\ryans\\Ryans\\Finanacial Planner\\MCForecastTools.py:117: PerformanceWarning: DataFrame is highly fragmented.  This is usually the result of calling `frame.insert` many times, which has poor performance.  Consider joining all columns at once using pd.concat(axis=1) instead. To get a de-fragmented frame, use `newframe = frame.copy()`\n",
      "  portfolio_cumulative_returns[n] = (1 + sim_df.fillna(0)).cumprod()\n",
      "C:\\Users\\ryans\\Ryans\\Finanacial Planner\\MCForecastTools.py:117: PerformanceWarning: DataFrame is highly fragmented.  This is usually the result of calling `frame.insert` many times, which has poor performance.  Consider joining all columns at once using pd.concat(axis=1) instead. To get a de-fragmented frame, use `newframe = frame.copy()`\n",
      "  portfolio_cumulative_returns[n] = (1 + sim_df.fillna(0)).cumprod()\n",
      "C:\\Users\\ryans\\Ryans\\Finanacial Planner\\MCForecastTools.py:117: PerformanceWarning: DataFrame is highly fragmented.  This is usually the result of calling `frame.insert` many times, which has poor performance.  Consider joining all columns at once using pd.concat(axis=1) instead. To get a de-fragmented frame, use `newframe = frame.copy()`\n",
      "  portfolio_cumulative_returns[n] = (1 + sim_df.fillna(0)).cumprod()\n",
      "C:\\Users\\ryans\\Ryans\\Finanacial Planner\\MCForecastTools.py:117: PerformanceWarning: DataFrame is highly fragmented.  This is usually the result of calling `frame.insert` many times, which has poor performance.  Consider joining all columns at once using pd.concat(axis=1) instead. To get a de-fragmented frame, use `newframe = frame.copy()`\n",
      "  portfolio_cumulative_returns[n] = (1 + sim_df.fillna(0)).cumprod()\n",
      "C:\\Users\\ryans\\Ryans\\Finanacial Planner\\MCForecastTools.py:117: PerformanceWarning: DataFrame is highly fragmented.  This is usually the result of calling `frame.insert` many times, which has poor performance.  Consider joining all columns at once using pd.concat(axis=1) instead. To get a de-fragmented frame, use `newframe = frame.copy()`\n",
      "  portfolio_cumulative_returns[n] = (1 + sim_df.fillna(0)).cumprod()\n",
      "C:\\Users\\ryans\\Ryans\\Finanacial Planner\\MCForecastTools.py:117: PerformanceWarning: DataFrame is highly fragmented.  This is usually the result of calling `frame.insert` many times, which has poor performance.  Consider joining all columns at once using pd.concat(axis=1) instead. To get a de-fragmented frame, use `newframe = frame.copy()`\n",
      "  portfolio_cumulative_returns[n] = (1 + sim_df.fillna(0)).cumprod()\n",
      "C:\\Users\\ryans\\Ryans\\Finanacial Planner\\MCForecastTools.py:117: PerformanceWarning: DataFrame is highly fragmented.  This is usually the result of calling `frame.insert` many times, which has poor performance.  Consider joining all columns at once using pd.concat(axis=1) instead. To get a de-fragmented frame, use `newframe = frame.copy()`\n",
      "  portfolio_cumulative_returns[n] = (1 + sim_df.fillna(0)).cumprod()\n",
      "C:\\Users\\ryans\\Ryans\\Finanacial Planner\\MCForecastTools.py:117: PerformanceWarning: DataFrame is highly fragmented.  This is usually the result of calling `frame.insert` many times, which has poor performance.  Consider joining all columns at once using pd.concat(axis=1) instead. To get a de-fragmented frame, use `newframe = frame.copy()`\n",
      "  portfolio_cumulative_returns[n] = (1 + sim_df.fillna(0)).cumprod()\n",
      "C:\\Users\\ryans\\Ryans\\Finanacial Planner\\MCForecastTools.py:117: PerformanceWarning: DataFrame is highly fragmented.  This is usually the result of calling `frame.insert` many times, which has poor performance.  Consider joining all columns at once using pd.concat(axis=1) instead. To get a de-fragmented frame, use `newframe = frame.copy()`\n",
      "  portfolio_cumulative_returns[n] = (1 + sim_df.fillna(0)).cumprod()\n",
      "C:\\Users\\ryans\\Ryans\\Finanacial Planner\\MCForecastTools.py:117: PerformanceWarning: DataFrame is highly fragmented.  This is usually the result of calling `frame.insert` many times, which has poor performance.  Consider joining all columns at once using pd.concat(axis=1) instead. To get a de-fragmented frame, use `newframe = frame.copy()`\n",
      "  portfolio_cumulative_returns[n] = (1 + sim_df.fillna(0)).cumprod()\n"
     ]
    },
    {
     "name": "stdout",
     "output_type": "stream",
     "text": [
      "Running Monte Carlo simulation number 180.\n"
     ]
    },
    {
     "name": "stderr",
     "output_type": "stream",
     "text": [
      "C:\\Users\\ryans\\Ryans\\Finanacial Planner\\MCForecastTools.py:117: PerformanceWarning: DataFrame is highly fragmented.  This is usually the result of calling `frame.insert` many times, which has poor performance.  Consider joining all columns at once using pd.concat(axis=1) instead. To get a de-fragmented frame, use `newframe = frame.copy()`\n",
      "  portfolio_cumulative_returns[n] = (1 + sim_df.fillna(0)).cumprod()\n",
      "C:\\Users\\ryans\\Ryans\\Finanacial Planner\\MCForecastTools.py:117: PerformanceWarning: DataFrame is highly fragmented.  This is usually the result of calling `frame.insert` many times, which has poor performance.  Consider joining all columns at once using pd.concat(axis=1) instead. To get a de-fragmented frame, use `newframe = frame.copy()`\n",
      "  portfolio_cumulative_returns[n] = (1 + sim_df.fillna(0)).cumprod()\n",
      "C:\\Users\\ryans\\Ryans\\Finanacial Planner\\MCForecastTools.py:117: PerformanceWarning: DataFrame is highly fragmented.  This is usually the result of calling `frame.insert` many times, which has poor performance.  Consider joining all columns at once using pd.concat(axis=1) instead. To get a de-fragmented frame, use `newframe = frame.copy()`\n",
      "  portfolio_cumulative_returns[n] = (1 + sim_df.fillna(0)).cumprod()\n",
      "C:\\Users\\ryans\\Ryans\\Finanacial Planner\\MCForecastTools.py:117: PerformanceWarning: DataFrame is highly fragmented.  This is usually the result of calling `frame.insert` many times, which has poor performance.  Consider joining all columns at once using pd.concat(axis=1) instead. To get a de-fragmented frame, use `newframe = frame.copy()`\n",
      "  portfolio_cumulative_returns[n] = (1 + sim_df.fillna(0)).cumprod()\n",
      "C:\\Users\\ryans\\Ryans\\Finanacial Planner\\MCForecastTools.py:117: PerformanceWarning: DataFrame is highly fragmented.  This is usually the result of calling `frame.insert` many times, which has poor performance.  Consider joining all columns at once using pd.concat(axis=1) instead. To get a de-fragmented frame, use `newframe = frame.copy()`\n",
      "  portfolio_cumulative_returns[n] = (1 + sim_df.fillna(0)).cumprod()\n",
      "C:\\Users\\ryans\\Ryans\\Finanacial Planner\\MCForecastTools.py:117: PerformanceWarning: DataFrame is highly fragmented.  This is usually the result of calling `frame.insert` many times, which has poor performance.  Consider joining all columns at once using pd.concat(axis=1) instead. To get a de-fragmented frame, use `newframe = frame.copy()`\n",
      "  portfolio_cumulative_returns[n] = (1 + sim_df.fillna(0)).cumprod()\n",
      "C:\\Users\\ryans\\Ryans\\Finanacial Planner\\MCForecastTools.py:117: PerformanceWarning: DataFrame is highly fragmented.  This is usually the result of calling `frame.insert` many times, which has poor performance.  Consider joining all columns at once using pd.concat(axis=1) instead. To get a de-fragmented frame, use `newframe = frame.copy()`\n",
      "  portfolio_cumulative_returns[n] = (1 + sim_df.fillna(0)).cumprod()\n",
      "C:\\Users\\ryans\\Ryans\\Finanacial Planner\\MCForecastTools.py:117: PerformanceWarning: DataFrame is highly fragmented.  This is usually the result of calling `frame.insert` many times, which has poor performance.  Consider joining all columns at once using pd.concat(axis=1) instead. To get a de-fragmented frame, use `newframe = frame.copy()`\n",
      "  portfolio_cumulative_returns[n] = (1 + sim_df.fillna(0)).cumprod()\n"
     ]
    },
    {
     "name": "stdout",
     "output_type": "stream",
     "text": [
      "Running Monte Carlo simulation number 190.\n"
     ]
    },
    {
     "name": "stderr",
     "output_type": "stream",
     "text": [
      "C:\\Users\\ryans\\Ryans\\Finanacial Planner\\MCForecastTools.py:117: PerformanceWarning: DataFrame is highly fragmented.  This is usually the result of calling `frame.insert` many times, which has poor performance.  Consider joining all columns at once using pd.concat(axis=1) instead. To get a de-fragmented frame, use `newframe = frame.copy()`\n",
      "  portfolio_cumulative_returns[n] = (1 + sim_df.fillna(0)).cumprod()\n",
      "C:\\Users\\ryans\\Ryans\\Finanacial Planner\\MCForecastTools.py:117: PerformanceWarning: DataFrame is highly fragmented.  This is usually the result of calling `frame.insert` many times, which has poor performance.  Consider joining all columns at once using pd.concat(axis=1) instead. To get a de-fragmented frame, use `newframe = frame.copy()`\n",
      "  portfolio_cumulative_returns[n] = (1 + sim_df.fillna(0)).cumprod()\n",
      "C:\\Users\\ryans\\Ryans\\Finanacial Planner\\MCForecastTools.py:117: PerformanceWarning: DataFrame is highly fragmented.  This is usually the result of calling `frame.insert` many times, which has poor performance.  Consider joining all columns at once using pd.concat(axis=1) instead. To get a de-fragmented frame, use `newframe = frame.copy()`\n",
      "  portfolio_cumulative_returns[n] = (1 + sim_df.fillna(0)).cumprod()\n",
      "C:\\Users\\ryans\\Ryans\\Finanacial Planner\\MCForecastTools.py:117: PerformanceWarning: DataFrame is highly fragmented.  This is usually the result of calling `frame.insert` many times, which has poor performance.  Consider joining all columns at once using pd.concat(axis=1) instead. To get a de-fragmented frame, use `newframe = frame.copy()`\n",
      "  portfolio_cumulative_returns[n] = (1 + sim_df.fillna(0)).cumprod()\n",
      "C:\\Users\\ryans\\Ryans\\Finanacial Planner\\MCForecastTools.py:117: PerformanceWarning: DataFrame is highly fragmented.  This is usually the result of calling `frame.insert` many times, which has poor performance.  Consider joining all columns at once using pd.concat(axis=1) instead. To get a de-fragmented frame, use `newframe = frame.copy()`\n",
      "  portfolio_cumulative_returns[n] = (1 + sim_df.fillna(0)).cumprod()\n",
      "C:\\Users\\ryans\\Ryans\\Finanacial Planner\\MCForecastTools.py:117: PerformanceWarning: DataFrame is highly fragmented.  This is usually the result of calling `frame.insert` many times, which has poor performance.  Consider joining all columns at once using pd.concat(axis=1) instead. To get a de-fragmented frame, use `newframe = frame.copy()`\n",
      "  portfolio_cumulative_returns[n] = (1 + sim_df.fillna(0)).cumprod()\n",
      "C:\\Users\\ryans\\Ryans\\Finanacial Planner\\MCForecastTools.py:117: PerformanceWarning: DataFrame is highly fragmented.  This is usually the result of calling `frame.insert` many times, which has poor performance.  Consider joining all columns at once using pd.concat(axis=1) instead. To get a de-fragmented frame, use `newframe = frame.copy()`\n",
      "  portfolio_cumulative_returns[n] = (1 + sim_df.fillna(0)).cumprod()\n",
      "C:\\Users\\ryans\\Ryans\\Finanacial Planner\\MCForecastTools.py:117: PerformanceWarning: DataFrame is highly fragmented.  This is usually the result of calling `frame.insert` many times, which has poor performance.  Consider joining all columns at once using pd.concat(axis=1) instead. To get a de-fragmented frame, use `newframe = frame.copy()`\n",
      "  portfolio_cumulative_returns[n] = (1 + sim_df.fillna(0)).cumprod()\n",
      "C:\\Users\\ryans\\Ryans\\Finanacial Planner\\MCForecastTools.py:117: PerformanceWarning: DataFrame is highly fragmented.  This is usually the result of calling `frame.insert` many times, which has poor performance.  Consider joining all columns at once using pd.concat(axis=1) instead. To get a de-fragmented frame, use `newframe = frame.copy()`\n",
      "  portfolio_cumulative_returns[n] = (1 + sim_df.fillna(0)).cumprod()\n",
      "C:\\Users\\ryans\\Ryans\\Finanacial Planner\\MCForecastTools.py:117: PerformanceWarning: DataFrame is highly fragmented.  This is usually the result of calling `frame.insert` many times, which has poor performance.  Consider joining all columns at once using pd.concat(axis=1) instead. To get a de-fragmented frame, use `newframe = frame.copy()`\n",
      "  portfolio_cumulative_returns[n] = (1 + sim_df.fillna(0)).cumprod()\n",
      "C:\\Users\\ryans\\Ryans\\Finanacial Planner\\MCForecastTools.py:117: PerformanceWarning: DataFrame is highly fragmented.  This is usually the result of calling `frame.insert` many times, which has poor performance.  Consider joining all columns at once using pd.concat(axis=1) instead. To get a de-fragmented frame, use `newframe = frame.copy()`\n",
      "  portfolio_cumulative_returns[n] = (1 + sim_df.fillna(0)).cumprod()\n",
      "C:\\Users\\ryans\\Ryans\\Finanacial Planner\\MCForecastTools.py:117: PerformanceWarning: DataFrame is highly fragmented.  This is usually the result of calling `frame.insert` many times, which has poor performance.  Consider joining all columns at once using pd.concat(axis=1) instead. To get a de-fragmented frame, use `newframe = frame.copy()`\n",
      "  portfolio_cumulative_returns[n] = (1 + sim_df.fillna(0)).cumprod()\n"
     ]
    },
    {
     "name": "stdout",
     "output_type": "stream",
     "text": [
      "Running Monte Carlo simulation number 200.\n"
     ]
    },
    {
     "name": "stderr",
     "output_type": "stream",
     "text": [
      "C:\\Users\\ryans\\Ryans\\Finanacial Planner\\MCForecastTools.py:117: PerformanceWarning: DataFrame is highly fragmented.  This is usually the result of calling `frame.insert` many times, which has poor performance.  Consider joining all columns at once using pd.concat(axis=1) instead. To get a de-fragmented frame, use `newframe = frame.copy()`\n",
      "  portfolio_cumulative_returns[n] = (1 + sim_df.fillna(0)).cumprod()\n",
      "C:\\Users\\ryans\\Ryans\\Finanacial Planner\\MCForecastTools.py:117: PerformanceWarning: DataFrame is highly fragmented.  This is usually the result of calling `frame.insert` many times, which has poor performance.  Consider joining all columns at once using pd.concat(axis=1) instead. To get a de-fragmented frame, use `newframe = frame.copy()`\n",
      "  portfolio_cumulative_returns[n] = (1 + sim_df.fillna(0)).cumprod()\n",
      "C:\\Users\\ryans\\Ryans\\Finanacial Planner\\MCForecastTools.py:117: PerformanceWarning: DataFrame is highly fragmented.  This is usually the result of calling `frame.insert` many times, which has poor performance.  Consider joining all columns at once using pd.concat(axis=1) instead. To get a de-fragmented frame, use `newframe = frame.copy()`\n",
      "  portfolio_cumulative_returns[n] = (1 + sim_df.fillna(0)).cumprod()\n",
      "C:\\Users\\ryans\\Ryans\\Finanacial Planner\\MCForecastTools.py:117: PerformanceWarning: DataFrame is highly fragmented.  This is usually the result of calling `frame.insert` many times, which has poor performance.  Consider joining all columns at once using pd.concat(axis=1) instead. To get a de-fragmented frame, use `newframe = frame.copy()`\n",
      "  portfolio_cumulative_returns[n] = (1 + sim_df.fillna(0)).cumprod()\n",
      "C:\\Users\\ryans\\Ryans\\Finanacial Planner\\MCForecastTools.py:117: PerformanceWarning: DataFrame is highly fragmented.  This is usually the result of calling `frame.insert` many times, which has poor performance.  Consider joining all columns at once using pd.concat(axis=1) instead. To get a de-fragmented frame, use `newframe = frame.copy()`\n",
      "  portfolio_cumulative_returns[n] = (1 + sim_df.fillna(0)).cumprod()\n",
      "C:\\Users\\ryans\\Ryans\\Finanacial Planner\\MCForecastTools.py:117: PerformanceWarning: DataFrame is highly fragmented.  This is usually the result of calling `frame.insert` many times, which has poor performance.  Consider joining all columns at once using pd.concat(axis=1) instead. To get a de-fragmented frame, use `newframe = frame.copy()`\n",
      "  portfolio_cumulative_returns[n] = (1 + sim_df.fillna(0)).cumprod()\n",
      "C:\\Users\\ryans\\Ryans\\Finanacial Planner\\MCForecastTools.py:117: PerformanceWarning: DataFrame is highly fragmented.  This is usually the result of calling `frame.insert` many times, which has poor performance.  Consider joining all columns at once using pd.concat(axis=1) instead. To get a de-fragmented frame, use `newframe = frame.copy()`\n",
      "  portfolio_cumulative_returns[n] = (1 + sim_df.fillna(0)).cumprod()\n",
      "C:\\Users\\ryans\\Ryans\\Finanacial Planner\\MCForecastTools.py:117: PerformanceWarning: DataFrame is highly fragmented.  This is usually the result of calling `frame.insert` many times, which has poor performance.  Consider joining all columns at once using pd.concat(axis=1) instead. To get a de-fragmented frame, use `newframe = frame.copy()`\n",
      "  portfolio_cumulative_returns[n] = (1 + sim_df.fillna(0)).cumprod()\n"
     ]
    },
    {
     "name": "stdout",
     "output_type": "stream",
     "text": [
      "Running Monte Carlo simulation number 210.\n"
     ]
    },
    {
     "name": "stderr",
     "output_type": "stream",
     "text": [
      "C:\\Users\\ryans\\Ryans\\Finanacial Planner\\MCForecastTools.py:117: PerformanceWarning: DataFrame is highly fragmented.  This is usually the result of calling `frame.insert` many times, which has poor performance.  Consider joining all columns at once using pd.concat(axis=1) instead. To get a de-fragmented frame, use `newframe = frame.copy()`\n",
      "  portfolio_cumulative_returns[n] = (1 + sim_df.fillna(0)).cumprod()\n",
      "C:\\Users\\ryans\\Ryans\\Finanacial Planner\\MCForecastTools.py:117: PerformanceWarning: DataFrame is highly fragmented.  This is usually the result of calling `frame.insert` many times, which has poor performance.  Consider joining all columns at once using pd.concat(axis=1) instead. To get a de-fragmented frame, use `newframe = frame.copy()`\n",
      "  portfolio_cumulative_returns[n] = (1 + sim_df.fillna(0)).cumprod()\n",
      "C:\\Users\\ryans\\Ryans\\Finanacial Planner\\MCForecastTools.py:117: PerformanceWarning: DataFrame is highly fragmented.  This is usually the result of calling `frame.insert` many times, which has poor performance.  Consider joining all columns at once using pd.concat(axis=1) instead. To get a de-fragmented frame, use `newframe = frame.copy()`\n",
      "  portfolio_cumulative_returns[n] = (1 + sim_df.fillna(0)).cumprod()\n",
      "C:\\Users\\ryans\\Ryans\\Finanacial Planner\\MCForecastTools.py:117: PerformanceWarning: DataFrame is highly fragmented.  This is usually the result of calling `frame.insert` many times, which has poor performance.  Consider joining all columns at once using pd.concat(axis=1) instead. To get a de-fragmented frame, use `newframe = frame.copy()`\n",
      "  portfolio_cumulative_returns[n] = (1 + sim_df.fillna(0)).cumprod()\n",
      "C:\\Users\\ryans\\Ryans\\Finanacial Planner\\MCForecastTools.py:117: PerformanceWarning: DataFrame is highly fragmented.  This is usually the result of calling `frame.insert` many times, which has poor performance.  Consider joining all columns at once using pd.concat(axis=1) instead. To get a de-fragmented frame, use `newframe = frame.copy()`\n",
      "  portfolio_cumulative_returns[n] = (1 + sim_df.fillna(0)).cumprod()\n",
      "C:\\Users\\ryans\\Ryans\\Finanacial Planner\\MCForecastTools.py:117: PerformanceWarning: DataFrame is highly fragmented.  This is usually the result of calling `frame.insert` many times, which has poor performance.  Consider joining all columns at once using pd.concat(axis=1) instead. To get a de-fragmented frame, use `newframe = frame.copy()`\n",
      "  portfolio_cumulative_returns[n] = (1 + sim_df.fillna(0)).cumprod()\n",
      "C:\\Users\\ryans\\Ryans\\Finanacial Planner\\MCForecastTools.py:117: PerformanceWarning: DataFrame is highly fragmented.  This is usually the result of calling `frame.insert` many times, which has poor performance.  Consider joining all columns at once using pd.concat(axis=1) instead. To get a de-fragmented frame, use `newframe = frame.copy()`\n",
      "  portfolio_cumulative_returns[n] = (1 + sim_df.fillna(0)).cumprod()\n",
      "C:\\Users\\ryans\\Ryans\\Finanacial Planner\\MCForecastTools.py:117: PerformanceWarning: DataFrame is highly fragmented.  This is usually the result of calling `frame.insert` many times, which has poor performance.  Consider joining all columns at once using pd.concat(axis=1) instead. To get a de-fragmented frame, use `newframe = frame.copy()`\n",
      "  portfolio_cumulative_returns[n] = (1 + sim_df.fillna(0)).cumprod()\n",
      "C:\\Users\\ryans\\Ryans\\Finanacial Planner\\MCForecastTools.py:117: PerformanceWarning: DataFrame is highly fragmented.  This is usually the result of calling `frame.insert` many times, which has poor performance.  Consider joining all columns at once using pd.concat(axis=1) instead. To get a de-fragmented frame, use `newframe = frame.copy()`\n",
      "  portfolio_cumulative_returns[n] = (1 + sim_df.fillna(0)).cumprod()\n",
      "C:\\Users\\ryans\\Ryans\\Finanacial Planner\\MCForecastTools.py:117: PerformanceWarning: DataFrame is highly fragmented.  This is usually the result of calling `frame.insert` many times, which has poor performance.  Consider joining all columns at once using pd.concat(axis=1) instead. To get a de-fragmented frame, use `newframe = frame.copy()`\n",
      "  portfolio_cumulative_returns[n] = (1 + sim_df.fillna(0)).cumprod()\n",
      "C:\\Users\\ryans\\Ryans\\Finanacial Planner\\MCForecastTools.py:117: PerformanceWarning: DataFrame is highly fragmented.  This is usually the result of calling `frame.insert` many times, which has poor performance.  Consider joining all columns at once using pd.concat(axis=1) instead. To get a de-fragmented frame, use `newframe = frame.copy()`\n",
      "  portfolio_cumulative_returns[n] = (1 + sim_df.fillna(0)).cumprod()\n"
     ]
    },
    {
     "name": "stdout",
     "output_type": "stream",
     "text": [
      "Running Monte Carlo simulation number 220.\n"
     ]
    },
    {
     "name": "stderr",
     "output_type": "stream",
     "text": [
      "C:\\Users\\ryans\\Ryans\\Finanacial Planner\\MCForecastTools.py:117: PerformanceWarning: DataFrame is highly fragmented.  This is usually the result of calling `frame.insert` many times, which has poor performance.  Consider joining all columns at once using pd.concat(axis=1) instead. To get a de-fragmented frame, use `newframe = frame.copy()`\n",
      "  portfolio_cumulative_returns[n] = (1 + sim_df.fillna(0)).cumprod()\n",
      "C:\\Users\\ryans\\Ryans\\Finanacial Planner\\MCForecastTools.py:117: PerformanceWarning: DataFrame is highly fragmented.  This is usually the result of calling `frame.insert` many times, which has poor performance.  Consider joining all columns at once using pd.concat(axis=1) instead. To get a de-fragmented frame, use `newframe = frame.copy()`\n",
      "  portfolio_cumulative_returns[n] = (1 + sim_df.fillna(0)).cumprod()\n",
      "C:\\Users\\ryans\\Ryans\\Finanacial Planner\\MCForecastTools.py:117: PerformanceWarning: DataFrame is highly fragmented.  This is usually the result of calling `frame.insert` many times, which has poor performance.  Consider joining all columns at once using pd.concat(axis=1) instead. To get a de-fragmented frame, use `newframe = frame.copy()`\n",
      "  portfolio_cumulative_returns[n] = (1 + sim_df.fillna(0)).cumprod()\n",
      "C:\\Users\\ryans\\Ryans\\Finanacial Planner\\MCForecastTools.py:117: PerformanceWarning: DataFrame is highly fragmented.  This is usually the result of calling `frame.insert` many times, which has poor performance.  Consider joining all columns at once using pd.concat(axis=1) instead. To get a de-fragmented frame, use `newframe = frame.copy()`\n",
      "  portfolio_cumulative_returns[n] = (1 + sim_df.fillna(0)).cumprod()\n",
      "C:\\Users\\ryans\\Ryans\\Finanacial Planner\\MCForecastTools.py:117: PerformanceWarning: DataFrame is highly fragmented.  This is usually the result of calling `frame.insert` many times, which has poor performance.  Consider joining all columns at once using pd.concat(axis=1) instead. To get a de-fragmented frame, use `newframe = frame.copy()`\n",
      "  portfolio_cumulative_returns[n] = (1 + sim_df.fillna(0)).cumprod()\n",
      "C:\\Users\\ryans\\Ryans\\Finanacial Planner\\MCForecastTools.py:117: PerformanceWarning: DataFrame is highly fragmented.  This is usually the result of calling `frame.insert` many times, which has poor performance.  Consider joining all columns at once using pd.concat(axis=1) instead. To get a de-fragmented frame, use `newframe = frame.copy()`\n",
      "  portfolio_cumulative_returns[n] = (1 + sim_df.fillna(0)).cumprod()\n",
      "C:\\Users\\ryans\\Ryans\\Finanacial Planner\\MCForecastTools.py:117: PerformanceWarning: DataFrame is highly fragmented.  This is usually the result of calling `frame.insert` many times, which has poor performance.  Consider joining all columns at once using pd.concat(axis=1) instead. To get a de-fragmented frame, use `newframe = frame.copy()`\n",
      "  portfolio_cumulative_returns[n] = (1 + sim_df.fillna(0)).cumprod()\n",
      "C:\\Users\\ryans\\Ryans\\Finanacial Planner\\MCForecastTools.py:117: PerformanceWarning: DataFrame is highly fragmented.  This is usually the result of calling `frame.insert` many times, which has poor performance.  Consider joining all columns at once using pd.concat(axis=1) instead. To get a de-fragmented frame, use `newframe = frame.copy()`\n",
      "  portfolio_cumulative_returns[n] = (1 + sim_df.fillna(0)).cumprod()\n",
      "C:\\Users\\ryans\\Ryans\\Finanacial Planner\\MCForecastTools.py:117: PerformanceWarning: DataFrame is highly fragmented.  This is usually the result of calling `frame.insert` many times, which has poor performance.  Consider joining all columns at once using pd.concat(axis=1) instead. To get a de-fragmented frame, use `newframe = frame.copy()`\n",
      "  portfolio_cumulative_returns[n] = (1 + sim_df.fillna(0)).cumprod()\n"
     ]
    },
    {
     "name": "stdout",
     "output_type": "stream",
     "text": [
      "Running Monte Carlo simulation number 230.\n"
     ]
    },
    {
     "name": "stderr",
     "output_type": "stream",
     "text": [
      "C:\\Users\\ryans\\Ryans\\Finanacial Planner\\MCForecastTools.py:117: PerformanceWarning: DataFrame is highly fragmented.  This is usually the result of calling `frame.insert` many times, which has poor performance.  Consider joining all columns at once using pd.concat(axis=1) instead. To get a de-fragmented frame, use `newframe = frame.copy()`\n",
      "  portfolio_cumulative_returns[n] = (1 + sim_df.fillna(0)).cumprod()\n",
      "C:\\Users\\ryans\\Ryans\\Finanacial Planner\\MCForecastTools.py:117: PerformanceWarning: DataFrame is highly fragmented.  This is usually the result of calling `frame.insert` many times, which has poor performance.  Consider joining all columns at once using pd.concat(axis=1) instead. To get a de-fragmented frame, use `newframe = frame.copy()`\n",
      "  portfolio_cumulative_returns[n] = (1 + sim_df.fillna(0)).cumprod()\n",
      "C:\\Users\\ryans\\Ryans\\Finanacial Planner\\MCForecastTools.py:117: PerformanceWarning: DataFrame is highly fragmented.  This is usually the result of calling `frame.insert` many times, which has poor performance.  Consider joining all columns at once using pd.concat(axis=1) instead. To get a de-fragmented frame, use `newframe = frame.copy()`\n",
      "  portfolio_cumulative_returns[n] = (1 + sim_df.fillna(0)).cumprod()\n",
      "C:\\Users\\ryans\\Ryans\\Finanacial Planner\\MCForecastTools.py:117: PerformanceWarning: DataFrame is highly fragmented.  This is usually the result of calling `frame.insert` many times, which has poor performance.  Consider joining all columns at once using pd.concat(axis=1) instead. To get a de-fragmented frame, use `newframe = frame.copy()`\n",
      "  portfolio_cumulative_returns[n] = (1 + sim_df.fillna(0)).cumprod()\n",
      "C:\\Users\\ryans\\Ryans\\Finanacial Planner\\MCForecastTools.py:117: PerformanceWarning: DataFrame is highly fragmented.  This is usually the result of calling `frame.insert` many times, which has poor performance.  Consider joining all columns at once using pd.concat(axis=1) instead. To get a de-fragmented frame, use `newframe = frame.copy()`\n",
      "  portfolio_cumulative_returns[n] = (1 + sim_df.fillna(0)).cumprod()\n",
      "C:\\Users\\ryans\\Ryans\\Finanacial Planner\\MCForecastTools.py:117: PerformanceWarning: DataFrame is highly fragmented.  This is usually the result of calling `frame.insert` many times, which has poor performance.  Consider joining all columns at once using pd.concat(axis=1) instead. To get a de-fragmented frame, use `newframe = frame.copy()`\n",
      "  portfolio_cumulative_returns[n] = (1 + sim_df.fillna(0)).cumprod()\n",
      "C:\\Users\\ryans\\Ryans\\Finanacial Planner\\MCForecastTools.py:117: PerformanceWarning: DataFrame is highly fragmented.  This is usually the result of calling `frame.insert` many times, which has poor performance.  Consider joining all columns at once using pd.concat(axis=1) instead. To get a de-fragmented frame, use `newframe = frame.copy()`\n",
      "  portfolio_cumulative_returns[n] = (1 + sim_df.fillna(0)).cumprod()\n",
      "C:\\Users\\ryans\\Ryans\\Finanacial Planner\\MCForecastTools.py:117: PerformanceWarning: DataFrame is highly fragmented.  This is usually the result of calling `frame.insert` many times, which has poor performance.  Consider joining all columns at once using pd.concat(axis=1) instead. To get a de-fragmented frame, use `newframe = frame.copy()`\n",
      "  portfolio_cumulative_returns[n] = (1 + sim_df.fillna(0)).cumprod()\n",
      "C:\\Users\\ryans\\Ryans\\Finanacial Planner\\MCForecastTools.py:117: PerformanceWarning: DataFrame is highly fragmented.  This is usually the result of calling `frame.insert` many times, which has poor performance.  Consider joining all columns at once using pd.concat(axis=1) instead. To get a de-fragmented frame, use `newframe = frame.copy()`\n",
      "  portfolio_cumulative_returns[n] = (1 + sim_df.fillna(0)).cumprod()\n",
      "C:\\Users\\ryans\\Ryans\\Finanacial Planner\\MCForecastTools.py:117: PerformanceWarning: DataFrame is highly fragmented.  This is usually the result of calling `frame.insert` many times, which has poor performance.  Consider joining all columns at once using pd.concat(axis=1) instead. To get a de-fragmented frame, use `newframe = frame.copy()`\n",
      "  portfolio_cumulative_returns[n] = (1 + sim_df.fillna(0)).cumprod()\n",
      "C:\\Users\\ryans\\Ryans\\Finanacial Planner\\MCForecastTools.py:117: PerformanceWarning: DataFrame is highly fragmented.  This is usually the result of calling `frame.insert` many times, which has poor performance.  Consider joining all columns at once using pd.concat(axis=1) instead. To get a de-fragmented frame, use `newframe = frame.copy()`\n",
      "  portfolio_cumulative_returns[n] = (1 + sim_df.fillna(0)).cumprod()\n"
     ]
    },
    {
     "name": "stdout",
     "output_type": "stream",
     "text": [
      "Running Monte Carlo simulation number 240.\n"
     ]
    },
    {
     "name": "stderr",
     "output_type": "stream",
     "text": [
      "C:\\Users\\ryans\\Ryans\\Finanacial Planner\\MCForecastTools.py:117: PerformanceWarning: DataFrame is highly fragmented.  This is usually the result of calling `frame.insert` many times, which has poor performance.  Consider joining all columns at once using pd.concat(axis=1) instead. To get a de-fragmented frame, use `newframe = frame.copy()`\n",
      "  portfolio_cumulative_returns[n] = (1 + sim_df.fillna(0)).cumprod()\n",
      "C:\\Users\\ryans\\Ryans\\Finanacial Planner\\MCForecastTools.py:117: PerformanceWarning: DataFrame is highly fragmented.  This is usually the result of calling `frame.insert` many times, which has poor performance.  Consider joining all columns at once using pd.concat(axis=1) instead. To get a de-fragmented frame, use `newframe = frame.copy()`\n",
      "  portfolio_cumulative_returns[n] = (1 + sim_df.fillna(0)).cumprod()\n",
      "C:\\Users\\ryans\\Ryans\\Finanacial Planner\\MCForecastTools.py:117: PerformanceWarning: DataFrame is highly fragmented.  This is usually the result of calling `frame.insert` many times, which has poor performance.  Consider joining all columns at once using pd.concat(axis=1) instead. To get a de-fragmented frame, use `newframe = frame.copy()`\n",
      "  portfolio_cumulative_returns[n] = (1 + sim_df.fillna(0)).cumprod()\n",
      "C:\\Users\\ryans\\Ryans\\Finanacial Planner\\MCForecastTools.py:117: PerformanceWarning: DataFrame is highly fragmented.  This is usually the result of calling `frame.insert` many times, which has poor performance.  Consider joining all columns at once using pd.concat(axis=1) instead. To get a de-fragmented frame, use `newframe = frame.copy()`\n",
      "  portfolio_cumulative_returns[n] = (1 + sim_df.fillna(0)).cumprod()\n",
      "C:\\Users\\ryans\\Ryans\\Finanacial Planner\\MCForecastTools.py:117: PerformanceWarning: DataFrame is highly fragmented.  This is usually the result of calling `frame.insert` many times, which has poor performance.  Consider joining all columns at once using pd.concat(axis=1) instead. To get a de-fragmented frame, use `newframe = frame.copy()`\n",
      "  portfolio_cumulative_returns[n] = (1 + sim_df.fillna(0)).cumprod()\n",
      "C:\\Users\\ryans\\Ryans\\Finanacial Planner\\MCForecastTools.py:117: PerformanceWarning: DataFrame is highly fragmented.  This is usually the result of calling `frame.insert` many times, which has poor performance.  Consider joining all columns at once using pd.concat(axis=1) instead. To get a de-fragmented frame, use `newframe = frame.copy()`\n",
      "  portfolio_cumulative_returns[n] = (1 + sim_df.fillna(0)).cumprod()\n",
      "C:\\Users\\ryans\\Ryans\\Finanacial Planner\\MCForecastTools.py:117: PerformanceWarning: DataFrame is highly fragmented.  This is usually the result of calling `frame.insert` many times, which has poor performance.  Consider joining all columns at once using pd.concat(axis=1) instead. To get a de-fragmented frame, use `newframe = frame.copy()`\n",
      "  portfolio_cumulative_returns[n] = (1 + sim_df.fillna(0)).cumprod()\n",
      "C:\\Users\\ryans\\Ryans\\Finanacial Planner\\MCForecastTools.py:117: PerformanceWarning: DataFrame is highly fragmented.  This is usually the result of calling `frame.insert` many times, which has poor performance.  Consider joining all columns at once using pd.concat(axis=1) instead. To get a de-fragmented frame, use `newframe = frame.copy()`\n",
      "  portfolio_cumulative_returns[n] = (1 + sim_df.fillna(0)).cumprod()\n",
      "C:\\Users\\ryans\\Ryans\\Finanacial Planner\\MCForecastTools.py:117: PerformanceWarning: DataFrame is highly fragmented.  This is usually the result of calling `frame.insert` many times, which has poor performance.  Consider joining all columns at once using pd.concat(axis=1) instead. To get a de-fragmented frame, use `newframe = frame.copy()`\n",
      "  portfolio_cumulative_returns[n] = (1 + sim_df.fillna(0)).cumprod()\n"
     ]
    },
    {
     "name": "stdout",
     "output_type": "stream",
     "text": [
      "Running Monte Carlo simulation number 250.\n"
     ]
    },
    {
     "name": "stderr",
     "output_type": "stream",
     "text": [
      "C:\\Users\\ryans\\Ryans\\Finanacial Planner\\MCForecastTools.py:117: PerformanceWarning: DataFrame is highly fragmented.  This is usually the result of calling `frame.insert` many times, which has poor performance.  Consider joining all columns at once using pd.concat(axis=1) instead. To get a de-fragmented frame, use `newframe = frame.copy()`\n",
      "  portfolio_cumulative_returns[n] = (1 + sim_df.fillna(0)).cumprod()\n",
      "C:\\Users\\ryans\\Ryans\\Finanacial Planner\\MCForecastTools.py:117: PerformanceWarning: DataFrame is highly fragmented.  This is usually the result of calling `frame.insert` many times, which has poor performance.  Consider joining all columns at once using pd.concat(axis=1) instead. To get a de-fragmented frame, use `newframe = frame.copy()`\n",
      "  portfolio_cumulative_returns[n] = (1 + sim_df.fillna(0)).cumprod()\n",
      "C:\\Users\\ryans\\Ryans\\Finanacial Planner\\MCForecastTools.py:117: PerformanceWarning: DataFrame is highly fragmented.  This is usually the result of calling `frame.insert` many times, which has poor performance.  Consider joining all columns at once using pd.concat(axis=1) instead. To get a de-fragmented frame, use `newframe = frame.copy()`\n",
      "  portfolio_cumulative_returns[n] = (1 + sim_df.fillna(0)).cumprod()\n",
      "C:\\Users\\ryans\\Ryans\\Finanacial Planner\\MCForecastTools.py:117: PerformanceWarning: DataFrame is highly fragmented.  This is usually the result of calling `frame.insert` many times, which has poor performance.  Consider joining all columns at once using pd.concat(axis=1) instead. To get a de-fragmented frame, use `newframe = frame.copy()`\n",
      "  portfolio_cumulative_returns[n] = (1 + sim_df.fillna(0)).cumprod()\n",
      "C:\\Users\\ryans\\Ryans\\Finanacial Planner\\MCForecastTools.py:117: PerformanceWarning: DataFrame is highly fragmented.  This is usually the result of calling `frame.insert` many times, which has poor performance.  Consider joining all columns at once using pd.concat(axis=1) instead. To get a de-fragmented frame, use `newframe = frame.copy()`\n",
      "  portfolio_cumulative_returns[n] = (1 + sim_df.fillna(0)).cumprod()\n",
      "C:\\Users\\ryans\\Ryans\\Finanacial Planner\\MCForecastTools.py:117: PerformanceWarning: DataFrame is highly fragmented.  This is usually the result of calling `frame.insert` many times, which has poor performance.  Consider joining all columns at once using pd.concat(axis=1) instead. To get a de-fragmented frame, use `newframe = frame.copy()`\n",
      "  portfolio_cumulative_returns[n] = (1 + sim_df.fillna(0)).cumprod()\n",
      "C:\\Users\\ryans\\Ryans\\Finanacial Planner\\MCForecastTools.py:117: PerformanceWarning: DataFrame is highly fragmented.  This is usually the result of calling `frame.insert` many times, which has poor performance.  Consider joining all columns at once using pd.concat(axis=1) instead. To get a de-fragmented frame, use `newframe = frame.copy()`\n",
      "  portfolio_cumulative_returns[n] = (1 + sim_df.fillna(0)).cumprod()\n",
      "C:\\Users\\ryans\\Ryans\\Finanacial Planner\\MCForecastTools.py:117: PerformanceWarning: DataFrame is highly fragmented.  This is usually the result of calling `frame.insert` many times, which has poor performance.  Consider joining all columns at once using pd.concat(axis=1) instead. To get a de-fragmented frame, use `newframe = frame.copy()`\n",
      "  portfolio_cumulative_returns[n] = (1 + sim_df.fillna(0)).cumprod()\n",
      "C:\\Users\\ryans\\Ryans\\Finanacial Planner\\MCForecastTools.py:117: PerformanceWarning: DataFrame is highly fragmented.  This is usually the result of calling `frame.insert` many times, which has poor performance.  Consider joining all columns at once using pd.concat(axis=1) instead. To get a de-fragmented frame, use `newframe = frame.copy()`\n",
      "  portfolio_cumulative_returns[n] = (1 + sim_df.fillna(0)).cumprod()\n",
      "C:\\Users\\ryans\\Ryans\\Finanacial Planner\\MCForecastTools.py:117: PerformanceWarning: DataFrame is highly fragmented.  This is usually the result of calling `frame.insert` many times, which has poor performance.  Consider joining all columns at once using pd.concat(axis=1) instead. To get a de-fragmented frame, use `newframe = frame.copy()`\n",
      "  portfolio_cumulative_returns[n] = (1 + sim_df.fillna(0)).cumprod()\n",
      "C:\\Users\\ryans\\Ryans\\Finanacial Planner\\MCForecastTools.py:117: PerformanceWarning: DataFrame is highly fragmented.  This is usually the result of calling `frame.insert` many times, which has poor performance.  Consider joining all columns at once using pd.concat(axis=1) instead. To get a de-fragmented frame, use `newframe = frame.copy()`\n",
      "  portfolio_cumulative_returns[n] = (1 + sim_df.fillna(0)).cumprod()\n",
      "C:\\Users\\ryans\\Ryans\\Finanacial Planner\\MCForecastTools.py:117: PerformanceWarning: DataFrame is highly fragmented.  This is usually the result of calling `frame.insert` many times, which has poor performance.  Consider joining all columns at once using pd.concat(axis=1) instead. To get a de-fragmented frame, use `newframe = frame.copy()`\n",
      "  portfolio_cumulative_returns[n] = (1 + sim_df.fillna(0)).cumprod()\n"
     ]
    },
    {
     "name": "stdout",
     "output_type": "stream",
     "text": [
      "Running Monte Carlo simulation number 260.\n"
     ]
    },
    {
     "name": "stderr",
     "output_type": "stream",
     "text": [
      "C:\\Users\\ryans\\Ryans\\Finanacial Planner\\MCForecastTools.py:117: PerformanceWarning: DataFrame is highly fragmented.  This is usually the result of calling `frame.insert` many times, which has poor performance.  Consider joining all columns at once using pd.concat(axis=1) instead. To get a de-fragmented frame, use `newframe = frame.copy()`\n",
      "  portfolio_cumulative_returns[n] = (1 + sim_df.fillna(0)).cumprod()\n",
      "C:\\Users\\ryans\\Ryans\\Finanacial Planner\\MCForecastTools.py:117: PerformanceWarning: DataFrame is highly fragmented.  This is usually the result of calling `frame.insert` many times, which has poor performance.  Consider joining all columns at once using pd.concat(axis=1) instead. To get a de-fragmented frame, use `newframe = frame.copy()`\n",
      "  portfolio_cumulative_returns[n] = (1 + sim_df.fillna(0)).cumprod()\n",
      "C:\\Users\\ryans\\Ryans\\Finanacial Planner\\MCForecastTools.py:117: PerformanceWarning: DataFrame is highly fragmented.  This is usually the result of calling `frame.insert` many times, which has poor performance.  Consider joining all columns at once using pd.concat(axis=1) instead. To get a de-fragmented frame, use `newframe = frame.copy()`\n",
      "  portfolio_cumulative_returns[n] = (1 + sim_df.fillna(0)).cumprod()\n",
      "C:\\Users\\ryans\\Ryans\\Finanacial Planner\\MCForecastTools.py:117: PerformanceWarning: DataFrame is highly fragmented.  This is usually the result of calling `frame.insert` many times, which has poor performance.  Consider joining all columns at once using pd.concat(axis=1) instead. To get a de-fragmented frame, use `newframe = frame.copy()`\n",
      "  portfolio_cumulative_returns[n] = (1 + sim_df.fillna(0)).cumprod()\n",
      "C:\\Users\\ryans\\Ryans\\Finanacial Planner\\MCForecastTools.py:117: PerformanceWarning: DataFrame is highly fragmented.  This is usually the result of calling `frame.insert` many times, which has poor performance.  Consider joining all columns at once using pd.concat(axis=1) instead. To get a de-fragmented frame, use `newframe = frame.copy()`\n",
      "  portfolio_cumulative_returns[n] = (1 + sim_df.fillna(0)).cumprod()\n",
      "C:\\Users\\ryans\\Ryans\\Finanacial Planner\\MCForecastTools.py:117: PerformanceWarning: DataFrame is highly fragmented.  This is usually the result of calling `frame.insert` many times, which has poor performance.  Consider joining all columns at once using pd.concat(axis=1) instead. To get a de-fragmented frame, use `newframe = frame.copy()`\n",
      "  portfolio_cumulative_returns[n] = (1 + sim_df.fillna(0)).cumprod()\n",
      "C:\\Users\\ryans\\Ryans\\Finanacial Planner\\MCForecastTools.py:117: PerformanceWarning: DataFrame is highly fragmented.  This is usually the result of calling `frame.insert` many times, which has poor performance.  Consider joining all columns at once using pd.concat(axis=1) instead. To get a de-fragmented frame, use `newframe = frame.copy()`\n",
      "  portfolio_cumulative_returns[n] = (1 + sim_df.fillna(0)).cumprod()\n",
      "C:\\Users\\ryans\\Ryans\\Finanacial Planner\\MCForecastTools.py:117: PerformanceWarning: DataFrame is highly fragmented.  This is usually the result of calling `frame.insert` many times, which has poor performance.  Consider joining all columns at once using pd.concat(axis=1) instead. To get a de-fragmented frame, use `newframe = frame.copy()`\n",
      "  portfolio_cumulative_returns[n] = (1 + sim_df.fillna(0)).cumprod()\n",
      "C:\\Users\\ryans\\Ryans\\Finanacial Planner\\MCForecastTools.py:117: PerformanceWarning: DataFrame is highly fragmented.  This is usually the result of calling `frame.insert` many times, which has poor performance.  Consider joining all columns at once using pd.concat(axis=1) instead. To get a de-fragmented frame, use `newframe = frame.copy()`\n",
      "  portfolio_cumulative_returns[n] = (1 + sim_df.fillna(0)).cumprod()\n"
     ]
    },
    {
     "name": "stdout",
     "output_type": "stream",
     "text": [
      "Running Monte Carlo simulation number 270.\n"
     ]
    },
    {
     "name": "stderr",
     "output_type": "stream",
     "text": [
      "C:\\Users\\ryans\\Ryans\\Finanacial Planner\\MCForecastTools.py:117: PerformanceWarning: DataFrame is highly fragmented.  This is usually the result of calling `frame.insert` many times, which has poor performance.  Consider joining all columns at once using pd.concat(axis=1) instead. To get a de-fragmented frame, use `newframe = frame.copy()`\n",
      "  portfolio_cumulative_returns[n] = (1 + sim_df.fillna(0)).cumprod()\n",
      "C:\\Users\\ryans\\Ryans\\Finanacial Planner\\MCForecastTools.py:117: PerformanceWarning: DataFrame is highly fragmented.  This is usually the result of calling `frame.insert` many times, which has poor performance.  Consider joining all columns at once using pd.concat(axis=1) instead. To get a de-fragmented frame, use `newframe = frame.copy()`\n",
      "  portfolio_cumulative_returns[n] = (1 + sim_df.fillna(0)).cumprod()\n",
      "C:\\Users\\ryans\\Ryans\\Finanacial Planner\\MCForecastTools.py:117: PerformanceWarning: DataFrame is highly fragmented.  This is usually the result of calling `frame.insert` many times, which has poor performance.  Consider joining all columns at once using pd.concat(axis=1) instead. To get a de-fragmented frame, use `newframe = frame.copy()`\n",
      "  portfolio_cumulative_returns[n] = (1 + sim_df.fillna(0)).cumprod()\n",
      "C:\\Users\\ryans\\Ryans\\Finanacial Planner\\MCForecastTools.py:117: PerformanceWarning: DataFrame is highly fragmented.  This is usually the result of calling `frame.insert` many times, which has poor performance.  Consider joining all columns at once using pd.concat(axis=1) instead. To get a de-fragmented frame, use `newframe = frame.copy()`\n",
      "  portfolio_cumulative_returns[n] = (1 + sim_df.fillna(0)).cumprod()\n",
      "C:\\Users\\ryans\\Ryans\\Finanacial Planner\\MCForecastTools.py:117: PerformanceWarning: DataFrame is highly fragmented.  This is usually the result of calling `frame.insert` many times, which has poor performance.  Consider joining all columns at once using pd.concat(axis=1) instead. To get a de-fragmented frame, use `newframe = frame.copy()`\n",
      "  portfolio_cumulative_returns[n] = (1 + sim_df.fillna(0)).cumprod()\n",
      "C:\\Users\\ryans\\Ryans\\Finanacial Planner\\MCForecastTools.py:117: PerformanceWarning: DataFrame is highly fragmented.  This is usually the result of calling `frame.insert` many times, which has poor performance.  Consider joining all columns at once using pd.concat(axis=1) instead. To get a de-fragmented frame, use `newframe = frame.copy()`\n",
      "  portfolio_cumulative_returns[n] = (1 + sim_df.fillna(0)).cumprod()\n",
      "C:\\Users\\ryans\\Ryans\\Finanacial Planner\\MCForecastTools.py:117: PerformanceWarning: DataFrame is highly fragmented.  This is usually the result of calling `frame.insert` many times, which has poor performance.  Consider joining all columns at once using pd.concat(axis=1) instead. To get a de-fragmented frame, use `newframe = frame.copy()`\n",
      "  portfolio_cumulative_returns[n] = (1 + sim_df.fillna(0)).cumprod()\n",
      "C:\\Users\\ryans\\Ryans\\Finanacial Planner\\MCForecastTools.py:117: PerformanceWarning: DataFrame is highly fragmented.  This is usually the result of calling `frame.insert` many times, which has poor performance.  Consider joining all columns at once using pd.concat(axis=1) instead. To get a de-fragmented frame, use `newframe = frame.copy()`\n",
      "  portfolio_cumulative_returns[n] = (1 + sim_df.fillna(0)).cumprod()\n",
      "C:\\Users\\ryans\\Ryans\\Finanacial Planner\\MCForecastTools.py:117: PerformanceWarning: DataFrame is highly fragmented.  This is usually the result of calling `frame.insert` many times, which has poor performance.  Consider joining all columns at once using pd.concat(axis=1) instead. To get a de-fragmented frame, use `newframe = frame.copy()`\n",
      "  portfolio_cumulative_returns[n] = (1 + sim_df.fillna(0)).cumprod()\n",
      "C:\\Users\\ryans\\Ryans\\Finanacial Planner\\MCForecastTools.py:117: PerformanceWarning: DataFrame is highly fragmented.  This is usually the result of calling `frame.insert` many times, which has poor performance.  Consider joining all columns at once using pd.concat(axis=1) instead. To get a de-fragmented frame, use `newframe = frame.copy()`\n",
      "  portfolio_cumulative_returns[n] = (1 + sim_df.fillna(0)).cumprod()\n",
      "C:\\Users\\ryans\\Ryans\\Finanacial Planner\\MCForecastTools.py:117: PerformanceWarning: DataFrame is highly fragmented.  This is usually the result of calling `frame.insert` many times, which has poor performance.  Consider joining all columns at once using pd.concat(axis=1) instead. To get a de-fragmented frame, use `newframe = frame.copy()`\n",
      "  portfolio_cumulative_returns[n] = (1 + sim_df.fillna(0)).cumprod()\n"
     ]
    },
    {
     "name": "stdout",
     "output_type": "stream",
     "text": [
      "Running Monte Carlo simulation number 280.\n"
     ]
    },
    {
     "name": "stderr",
     "output_type": "stream",
     "text": [
      "C:\\Users\\ryans\\Ryans\\Finanacial Planner\\MCForecastTools.py:117: PerformanceWarning: DataFrame is highly fragmented.  This is usually the result of calling `frame.insert` many times, which has poor performance.  Consider joining all columns at once using pd.concat(axis=1) instead. To get a de-fragmented frame, use `newframe = frame.copy()`\n",
      "  portfolio_cumulative_returns[n] = (1 + sim_df.fillna(0)).cumprod()\n",
      "C:\\Users\\ryans\\Ryans\\Finanacial Planner\\MCForecastTools.py:117: PerformanceWarning: DataFrame is highly fragmented.  This is usually the result of calling `frame.insert` many times, which has poor performance.  Consider joining all columns at once using pd.concat(axis=1) instead. To get a de-fragmented frame, use `newframe = frame.copy()`\n",
      "  portfolio_cumulative_returns[n] = (1 + sim_df.fillna(0)).cumprod()\n",
      "C:\\Users\\ryans\\Ryans\\Finanacial Planner\\MCForecastTools.py:117: PerformanceWarning: DataFrame is highly fragmented.  This is usually the result of calling `frame.insert` many times, which has poor performance.  Consider joining all columns at once using pd.concat(axis=1) instead. To get a de-fragmented frame, use `newframe = frame.copy()`\n",
      "  portfolio_cumulative_returns[n] = (1 + sim_df.fillna(0)).cumprod()\n",
      "C:\\Users\\ryans\\Ryans\\Finanacial Planner\\MCForecastTools.py:117: PerformanceWarning: DataFrame is highly fragmented.  This is usually the result of calling `frame.insert` many times, which has poor performance.  Consider joining all columns at once using pd.concat(axis=1) instead. To get a de-fragmented frame, use `newframe = frame.copy()`\n",
      "  portfolio_cumulative_returns[n] = (1 + sim_df.fillna(0)).cumprod()\n",
      "C:\\Users\\ryans\\Ryans\\Finanacial Planner\\MCForecastTools.py:117: PerformanceWarning: DataFrame is highly fragmented.  This is usually the result of calling `frame.insert` many times, which has poor performance.  Consider joining all columns at once using pd.concat(axis=1) instead. To get a de-fragmented frame, use `newframe = frame.copy()`\n",
      "  portfolio_cumulative_returns[n] = (1 + sim_df.fillna(0)).cumprod()\n",
      "C:\\Users\\ryans\\Ryans\\Finanacial Planner\\MCForecastTools.py:117: PerformanceWarning: DataFrame is highly fragmented.  This is usually the result of calling `frame.insert` many times, which has poor performance.  Consider joining all columns at once using pd.concat(axis=1) instead. To get a de-fragmented frame, use `newframe = frame.copy()`\n",
      "  portfolio_cumulative_returns[n] = (1 + sim_df.fillna(0)).cumprod()\n",
      "C:\\Users\\ryans\\Ryans\\Finanacial Planner\\MCForecastTools.py:117: PerformanceWarning: DataFrame is highly fragmented.  This is usually the result of calling `frame.insert` many times, which has poor performance.  Consider joining all columns at once using pd.concat(axis=1) instead. To get a de-fragmented frame, use `newframe = frame.copy()`\n",
      "  portfolio_cumulative_returns[n] = (1 + sim_df.fillna(0)).cumprod()\n",
      "C:\\Users\\ryans\\Ryans\\Finanacial Planner\\MCForecastTools.py:117: PerformanceWarning: DataFrame is highly fragmented.  This is usually the result of calling `frame.insert` many times, which has poor performance.  Consider joining all columns at once using pd.concat(axis=1) instead. To get a de-fragmented frame, use `newframe = frame.copy()`\n",
      "  portfolio_cumulative_returns[n] = (1 + sim_df.fillna(0)).cumprod()\n",
      "C:\\Users\\ryans\\Ryans\\Finanacial Planner\\MCForecastTools.py:117: PerformanceWarning: DataFrame is highly fragmented.  This is usually the result of calling `frame.insert` many times, which has poor performance.  Consider joining all columns at once using pd.concat(axis=1) instead. To get a de-fragmented frame, use `newframe = frame.copy()`\n",
      "  portfolio_cumulative_returns[n] = (1 + sim_df.fillna(0)).cumprod()\n"
     ]
    },
    {
     "name": "stdout",
     "output_type": "stream",
     "text": [
      "Running Monte Carlo simulation number 290.\n"
     ]
    },
    {
     "name": "stderr",
     "output_type": "stream",
     "text": [
      "C:\\Users\\ryans\\Ryans\\Finanacial Planner\\MCForecastTools.py:117: PerformanceWarning: DataFrame is highly fragmented.  This is usually the result of calling `frame.insert` many times, which has poor performance.  Consider joining all columns at once using pd.concat(axis=1) instead. To get a de-fragmented frame, use `newframe = frame.copy()`\n",
      "  portfolio_cumulative_returns[n] = (1 + sim_df.fillna(0)).cumprod()\n",
      "C:\\Users\\ryans\\Ryans\\Finanacial Planner\\MCForecastTools.py:117: PerformanceWarning: DataFrame is highly fragmented.  This is usually the result of calling `frame.insert` many times, which has poor performance.  Consider joining all columns at once using pd.concat(axis=1) instead. To get a de-fragmented frame, use `newframe = frame.copy()`\n",
      "  portfolio_cumulative_returns[n] = (1 + sim_df.fillna(0)).cumprod()\n",
      "C:\\Users\\ryans\\Ryans\\Finanacial Planner\\MCForecastTools.py:117: PerformanceWarning: DataFrame is highly fragmented.  This is usually the result of calling `frame.insert` many times, which has poor performance.  Consider joining all columns at once using pd.concat(axis=1) instead. To get a de-fragmented frame, use `newframe = frame.copy()`\n",
      "  portfolio_cumulative_returns[n] = (1 + sim_df.fillna(0)).cumprod()\n",
      "C:\\Users\\ryans\\Ryans\\Finanacial Planner\\MCForecastTools.py:117: PerformanceWarning: DataFrame is highly fragmented.  This is usually the result of calling `frame.insert` many times, which has poor performance.  Consider joining all columns at once using pd.concat(axis=1) instead. To get a de-fragmented frame, use `newframe = frame.copy()`\n",
      "  portfolio_cumulative_returns[n] = (1 + sim_df.fillna(0)).cumprod()\n",
      "C:\\Users\\ryans\\Ryans\\Finanacial Planner\\MCForecastTools.py:117: PerformanceWarning: DataFrame is highly fragmented.  This is usually the result of calling `frame.insert` many times, which has poor performance.  Consider joining all columns at once using pd.concat(axis=1) instead. To get a de-fragmented frame, use `newframe = frame.copy()`\n",
      "  portfolio_cumulative_returns[n] = (1 + sim_df.fillna(0)).cumprod()\n",
      "C:\\Users\\ryans\\Ryans\\Finanacial Planner\\MCForecastTools.py:117: PerformanceWarning: DataFrame is highly fragmented.  This is usually the result of calling `frame.insert` many times, which has poor performance.  Consider joining all columns at once using pd.concat(axis=1) instead. To get a de-fragmented frame, use `newframe = frame.copy()`\n",
      "  portfolio_cumulative_returns[n] = (1 + sim_df.fillna(0)).cumprod()\n",
      "C:\\Users\\ryans\\Ryans\\Finanacial Planner\\MCForecastTools.py:117: PerformanceWarning: DataFrame is highly fragmented.  This is usually the result of calling `frame.insert` many times, which has poor performance.  Consider joining all columns at once using pd.concat(axis=1) instead. To get a de-fragmented frame, use `newframe = frame.copy()`\n",
      "  portfolio_cumulative_returns[n] = (1 + sim_df.fillna(0)).cumprod()\n",
      "C:\\Users\\ryans\\Ryans\\Finanacial Planner\\MCForecastTools.py:117: PerformanceWarning: DataFrame is highly fragmented.  This is usually the result of calling `frame.insert` many times, which has poor performance.  Consider joining all columns at once using pd.concat(axis=1) instead. To get a de-fragmented frame, use `newframe = frame.copy()`\n",
      "  portfolio_cumulative_returns[n] = (1 + sim_df.fillna(0)).cumprod()\n",
      "C:\\Users\\ryans\\Ryans\\Finanacial Planner\\MCForecastTools.py:117: PerformanceWarning: DataFrame is highly fragmented.  This is usually the result of calling `frame.insert` many times, which has poor performance.  Consider joining all columns at once using pd.concat(axis=1) instead. To get a de-fragmented frame, use `newframe = frame.copy()`\n",
      "  portfolio_cumulative_returns[n] = (1 + sim_df.fillna(0)).cumprod()\n"
     ]
    },
    {
     "name": "stdout",
     "output_type": "stream",
     "text": [
      "Running Monte Carlo simulation number 300.\n"
     ]
    },
    {
     "name": "stderr",
     "output_type": "stream",
     "text": [
      "C:\\Users\\ryans\\Ryans\\Finanacial Planner\\MCForecastTools.py:117: PerformanceWarning: DataFrame is highly fragmented.  This is usually the result of calling `frame.insert` many times, which has poor performance.  Consider joining all columns at once using pd.concat(axis=1) instead. To get a de-fragmented frame, use `newframe = frame.copy()`\n",
      "  portfolio_cumulative_returns[n] = (1 + sim_df.fillna(0)).cumprod()\n",
      "C:\\Users\\ryans\\Ryans\\Finanacial Planner\\MCForecastTools.py:117: PerformanceWarning: DataFrame is highly fragmented.  This is usually the result of calling `frame.insert` many times, which has poor performance.  Consider joining all columns at once using pd.concat(axis=1) instead. To get a de-fragmented frame, use `newframe = frame.copy()`\n",
      "  portfolio_cumulative_returns[n] = (1 + sim_df.fillna(0)).cumprod()\n",
      "C:\\Users\\ryans\\Ryans\\Finanacial Planner\\MCForecastTools.py:117: PerformanceWarning: DataFrame is highly fragmented.  This is usually the result of calling `frame.insert` many times, which has poor performance.  Consider joining all columns at once using pd.concat(axis=1) instead. To get a de-fragmented frame, use `newframe = frame.copy()`\n",
      "  portfolio_cumulative_returns[n] = (1 + sim_df.fillna(0)).cumprod()\n",
      "C:\\Users\\ryans\\Ryans\\Finanacial Planner\\MCForecastTools.py:117: PerformanceWarning: DataFrame is highly fragmented.  This is usually the result of calling `frame.insert` many times, which has poor performance.  Consider joining all columns at once using pd.concat(axis=1) instead. To get a de-fragmented frame, use `newframe = frame.copy()`\n",
      "  portfolio_cumulative_returns[n] = (1 + sim_df.fillna(0)).cumprod()\n",
      "C:\\Users\\ryans\\Ryans\\Finanacial Planner\\MCForecastTools.py:117: PerformanceWarning: DataFrame is highly fragmented.  This is usually the result of calling `frame.insert` many times, which has poor performance.  Consider joining all columns at once using pd.concat(axis=1) instead. To get a de-fragmented frame, use `newframe = frame.copy()`\n",
      "  portfolio_cumulative_returns[n] = (1 + sim_df.fillna(0)).cumprod()\n",
      "C:\\Users\\ryans\\Ryans\\Finanacial Planner\\MCForecastTools.py:117: PerformanceWarning: DataFrame is highly fragmented.  This is usually the result of calling `frame.insert` many times, which has poor performance.  Consider joining all columns at once using pd.concat(axis=1) instead. To get a de-fragmented frame, use `newframe = frame.copy()`\n",
      "  portfolio_cumulative_returns[n] = (1 + sim_df.fillna(0)).cumprod()\n",
      "C:\\Users\\ryans\\Ryans\\Finanacial Planner\\MCForecastTools.py:117: PerformanceWarning: DataFrame is highly fragmented.  This is usually the result of calling `frame.insert` many times, which has poor performance.  Consider joining all columns at once using pd.concat(axis=1) instead. To get a de-fragmented frame, use `newframe = frame.copy()`\n",
      "  portfolio_cumulative_returns[n] = (1 + sim_df.fillna(0)).cumprod()\n",
      "C:\\Users\\ryans\\Ryans\\Finanacial Planner\\MCForecastTools.py:117: PerformanceWarning: DataFrame is highly fragmented.  This is usually the result of calling `frame.insert` many times, which has poor performance.  Consider joining all columns at once using pd.concat(axis=1) instead. To get a de-fragmented frame, use `newframe = frame.copy()`\n",
      "  portfolio_cumulative_returns[n] = (1 + sim_df.fillna(0)).cumprod()\n",
      "C:\\Users\\ryans\\Ryans\\Finanacial Planner\\MCForecastTools.py:117: PerformanceWarning: DataFrame is highly fragmented.  This is usually the result of calling `frame.insert` many times, which has poor performance.  Consider joining all columns at once using pd.concat(axis=1) instead. To get a de-fragmented frame, use `newframe = frame.copy()`\n",
      "  portfolio_cumulative_returns[n] = (1 + sim_df.fillna(0)).cumprod()\n",
      "C:\\Users\\ryans\\Ryans\\Finanacial Planner\\MCForecastTools.py:117: PerformanceWarning: DataFrame is highly fragmented.  This is usually the result of calling `frame.insert` many times, which has poor performance.  Consider joining all columns at once using pd.concat(axis=1) instead. To get a de-fragmented frame, use `newframe = frame.copy()`\n",
      "  portfolio_cumulative_returns[n] = (1 + sim_df.fillna(0)).cumprod()\n",
      "C:\\Users\\ryans\\Ryans\\Finanacial Planner\\MCForecastTools.py:117: PerformanceWarning: DataFrame is highly fragmented.  This is usually the result of calling `frame.insert` many times, which has poor performance.  Consider joining all columns at once using pd.concat(axis=1) instead. To get a de-fragmented frame, use `newframe = frame.copy()`\n",
      "  portfolio_cumulative_returns[n] = (1 + sim_df.fillna(0)).cumprod()\n"
     ]
    },
    {
     "name": "stdout",
     "output_type": "stream",
     "text": [
      "Running Monte Carlo simulation number 310.\n"
     ]
    },
    {
     "name": "stderr",
     "output_type": "stream",
     "text": [
      "C:\\Users\\ryans\\Ryans\\Finanacial Planner\\MCForecastTools.py:117: PerformanceWarning: DataFrame is highly fragmented.  This is usually the result of calling `frame.insert` many times, which has poor performance.  Consider joining all columns at once using pd.concat(axis=1) instead. To get a de-fragmented frame, use `newframe = frame.copy()`\n",
      "  portfolio_cumulative_returns[n] = (1 + sim_df.fillna(0)).cumprod()\n",
      "C:\\Users\\ryans\\Ryans\\Finanacial Planner\\MCForecastTools.py:117: PerformanceWarning: DataFrame is highly fragmented.  This is usually the result of calling `frame.insert` many times, which has poor performance.  Consider joining all columns at once using pd.concat(axis=1) instead. To get a de-fragmented frame, use `newframe = frame.copy()`\n",
      "  portfolio_cumulative_returns[n] = (1 + sim_df.fillna(0)).cumprod()\n",
      "C:\\Users\\ryans\\Ryans\\Finanacial Planner\\MCForecastTools.py:117: PerformanceWarning: DataFrame is highly fragmented.  This is usually the result of calling `frame.insert` many times, which has poor performance.  Consider joining all columns at once using pd.concat(axis=1) instead. To get a de-fragmented frame, use `newframe = frame.copy()`\n",
      "  portfolio_cumulative_returns[n] = (1 + sim_df.fillna(0)).cumprod()\n",
      "C:\\Users\\ryans\\Ryans\\Finanacial Planner\\MCForecastTools.py:117: PerformanceWarning: DataFrame is highly fragmented.  This is usually the result of calling `frame.insert` many times, which has poor performance.  Consider joining all columns at once using pd.concat(axis=1) instead. To get a de-fragmented frame, use `newframe = frame.copy()`\n",
      "  portfolio_cumulative_returns[n] = (1 + sim_df.fillna(0)).cumprod()\n",
      "C:\\Users\\ryans\\Ryans\\Finanacial Planner\\MCForecastTools.py:117: PerformanceWarning: DataFrame is highly fragmented.  This is usually the result of calling `frame.insert` many times, which has poor performance.  Consider joining all columns at once using pd.concat(axis=1) instead. To get a de-fragmented frame, use `newframe = frame.copy()`\n",
      "  portfolio_cumulative_returns[n] = (1 + sim_df.fillna(0)).cumprod()\n",
      "C:\\Users\\ryans\\Ryans\\Finanacial Planner\\MCForecastTools.py:117: PerformanceWarning: DataFrame is highly fragmented.  This is usually the result of calling `frame.insert` many times, which has poor performance.  Consider joining all columns at once using pd.concat(axis=1) instead. To get a de-fragmented frame, use `newframe = frame.copy()`\n",
      "  portfolio_cumulative_returns[n] = (1 + sim_df.fillna(0)).cumprod()\n",
      "C:\\Users\\ryans\\Ryans\\Finanacial Planner\\MCForecastTools.py:117: PerformanceWarning: DataFrame is highly fragmented.  This is usually the result of calling `frame.insert` many times, which has poor performance.  Consider joining all columns at once using pd.concat(axis=1) instead. To get a de-fragmented frame, use `newframe = frame.copy()`\n",
      "  portfolio_cumulative_returns[n] = (1 + sim_df.fillna(0)).cumprod()\n",
      "C:\\Users\\ryans\\Ryans\\Finanacial Planner\\MCForecastTools.py:117: PerformanceWarning: DataFrame is highly fragmented.  This is usually the result of calling `frame.insert` many times, which has poor performance.  Consider joining all columns at once using pd.concat(axis=1) instead. To get a de-fragmented frame, use `newframe = frame.copy()`\n",
      "  portfolio_cumulative_returns[n] = (1 + sim_df.fillna(0)).cumprod()\n",
      "C:\\Users\\ryans\\Ryans\\Finanacial Planner\\MCForecastTools.py:117: PerformanceWarning: DataFrame is highly fragmented.  This is usually the result of calling `frame.insert` many times, which has poor performance.  Consider joining all columns at once using pd.concat(axis=1) instead. To get a de-fragmented frame, use `newframe = frame.copy()`\n",
      "  portfolio_cumulative_returns[n] = (1 + sim_df.fillna(0)).cumprod()\n"
     ]
    },
    {
     "name": "stdout",
     "output_type": "stream",
     "text": [
      "Running Monte Carlo simulation number 320.\n"
     ]
    },
    {
     "name": "stderr",
     "output_type": "stream",
     "text": [
      "C:\\Users\\ryans\\Ryans\\Finanacial Planner\\MCForecastTools.py:117: PerformanceWarning: DataFrame is highly fragmented.  This is usually the result of calling `frame.insert` many times, which has poor performance.  Consider joining all columns at once using pd.concat(axis=1) instead. To get a de-fragmented frame, use `newframe = frame.copy()`\n",
      "  portfolio_cumulative_returns[n] = (1 + sim_df.fillna(0)).cumprod()\n",
      "C:\\Users\\ryans\\Ryans\\Finanacial Planner\\MCForecastTools.py:117: PerformanceWarning: DataFrame is highly fragmented.  This is usually the result of calling `frame.insert` many times, which has poor performance.  Consider joining all columns at once using pd.concat(axis=1) instead. To get a de-fragmented frame, use `newframe = frame.copy()`\n",
      "  portfolio_cumulative_returns[n] = (1 + sim_df.fillna(0)).cumprod()\n",
      "C:\\Users\\ryans\\Ryans\\Finanacial Planner\\MCForecastTools.py:117: PerformanceWarning: DataFrame is highly fragmented.  This is usually the result of calling `frame.insert` many times, which has poor performance.  Consider joining all columns at once using pd.concat(axis=1) instead. To get a de-fragmented frame, use `newframe = frame.copy()`\n",
      "  portfolio_cumulative_returns[n] = (1 + sim_df.fillna(0)).cumprod()\n",
      "C:\\Users\\ryans\\Ryans\\Finanacial Planner\\MCForecastTools.py:117: PerformanceWarning: DataFrame is highly fragmented.  This is usually the result of calling `frame.insert` many times, which has poor performance.  Consider joining all columns at once using pd.concat(axis=1) instead. To get a de-fragmented frame, use `newframe = frame.copy()`\n",
      "  portfolio_cumulative_returns[n] = (1 + sim_df.fillna(0)).cumprod()\n",
      "C:\\Users\\ryans\\Ryans\\Finanacial Planner\\MCForecastTools.py:117: PerformanceWarning: DataFrame is highly fragmented.  This is usually the result of calling `frame.insert` many times, which has poor performance.  Consider joining all columns at once using pd.concat(axis=1) instead. To get a de-fragmented frame, use `newframe = frame.copy()`\n",
      "  portfolio_cumulative_returns[n] = (1 + sim_df.fillna(0)).cumprod()\n",
      "C:\\Users\\ryans\\Ryans\\Finanacial Planner\\MCForecastTools.py:117: PerformanceWarning: DataFrame is highly fragmented.  This is usually the result of calling `frame.insert` many times, which has poor performance.  Consider joining all columns at once using pd.concat(axis=1) instead. To get a de-fragmented frame, use `newframe = frame.copy()`\n",
      "  portfolio_cumulative_returns[n] = (1 + sim_df.fillna(0)).cumprod()\n",
      "C:\\Users\\ryans\\Ryans\\Finanacial Planner\\MCForecastTools.py:117: PerformanceWarning: DataFrame is highly fragmented.  This is usually the result of calling `frame.insert` many times, which has poor performance.  Consider joining all columns at once using pd.concat(axis=1) instead. To get a de-fragmented frame, use `newframe = frame.copy()`\n",
      "  portfolio_cumulative_returns[n] = (1 + sim_df.fillna(0)).cumprod()\n",
      "C:\\Users\\ryans\\Ryans\\Finanacial Planner\\MCForecastTools.py:117: PerformanceWarning: DataFrame is highly fragmented.  This is usually the result of calling `frame.insert` many times, which has poor performance.  Consider joining all columns at once using pd.concat(axis=1) instead. To get a de-fragmented frame, use `newframe = frame.copy()`\n",
      "  portfolio_cumulative_returns[n] = (1 + sim_df.fillna(0)).cumprod()\n",
      "C:\\Users\\ryans\\Ryans\\Finanacial Planner\\MCForecastTools.py:117: PerformanceWarning: DataFrame is highly fragmented.  This is usually the result of calling `frame.insert` many times, which has poor performance.  Consider joining all columns at once using pd.concat(axis=1) instead. To get a de-fragmented frame, use `newframe = frame.copy()`\n",
      "  portfolio_cumulative_returns[n] = (1 + sim_df.fillna(0)).cumprod()\n",
      "C:\\Users\\ryans\\Ryans\\Finanacial Planner\\MCForecastTools.py:117: PerformanceWarning: DataFrame is highly fragmented.  This is usually the result of calling `frame.insert` many times, which has poor performance.  Consider joining all columns at once using pd.concat(axis=1) instead. To get a de-fragmented frame, use `newframe = frame.copy()`\n",
      "  portfolio_cumulative_returns[n] = (1 + sim_df.fillna(0)).cumprod()\n",
      "C:\\Users\\ryans\\Ryans\\Finanacial Planner\\MCForecastTools.py:117: PerformanceWarning: DataFrame is highly fragmented.  This is usually the result of calling `frame.insert` many times, which has poor performance.  Consider joining all columns at once using pd.concat(axis=1) instead. To get a de-fragmented frame, use `newframe = frame.copy()`\n",
      "  portfolio_cumulative_returns[n] = (1 + sim_df.fillna(0)).cumprod()\n"
     ]
    },
    {
     "name": "stdout",
     "output_type": "stream",
     "text": [
      "Running Monte Carlo simulation number 330.\n"
     ]
    },
    {
     "name": "stderr",
     "output_type": "stream",
     "text": [
      "C:\\Users\\ryans\\Ryans\\Finanacial Planner\\MCForecastTools.py:117: PerformanceWarning: DataFrame is highly fragmented.  This is usually the result of calling `frame.insert` many times, which has poor performance.  Consider joining all columns at once using pd.concat(axis=1) instead. To get a de-fragmented frame, use `newframe = frame.copy()`\n",
      "  portfolio_cumulative_returns[n] = (1 + sim_df.fillna(0)).cumprod()\n",
      "C:\\Users\\ryans\\Ryans\\Finanacial Planner\\MCForecastTools.py:117: PerformanceWarning: DataFrame is highly fragmented.  This is usually the result of calling `frame.insert` many times, which has poor performance.  Consider joining all columns at once using pd.concat(axis=1) instead. To get a de-fragmented frame, use `newframe = frame.copy()`\n",
      "  portfolio_cumulative_returns[n] = (1 + sim_df.fillna(0)).cumprod()\n",
      "C:\\Users\\ryans\\Ryans\\Finanacial Planner\\MCForecastTools.py:117: PerformanceWarning: DataFrame is highly fragmented.  This is usually the result of calling `frame.insert` many times, which has poor performance.  Consider joining all columns at once using pd.concat(axis=1) instead. To get a de-fragmented frame, use `newframe = frame.copy()`\n",
      "  portfolio_cumulative_returns[n] = (1 + sim_df.fillna(0)).cumprod()\n",
      "C:\\Users\\ryans\\Ryans\\Finanacial Planner\\MCForecastTools.py:117: PerformanceWarning: DataFrame is highly fragmented.  This is usually the result of calling `frame.insert` many times, which has poor performance.  Consider joining all columns at once using pd.concat(axis=1) instead. To get a de-fragmented frame, use `newframe = frame.copy()`\n",
      "  portfolio_cumulative_returns[n] = (1 + sim_df.fillna(0)).cumprod()\n",
      "C:\\Users\\ryans\\Ryans\\Finanacial Planner\\MCForecastTools.py:117: PerformanceWarning: DataFrame is highly fragmented.  This is usually the result of calling `frame.insert` many times, which has poor performance.  Consider joining all columns at once using pd.concat(axis=1) instead. To get a de-fragmented frame, use `newframe = frame.copy()`\n",
      "  portfolio_cumulative_returns[n] = (1 + sim_df.fillna(0)).cumprod()\n",
      "C:\\Users\\ryans\\Ryans\\Finanacial Planner\\MCForecastTools.py:117: PerformanceWarning: DataFrame is highly fragmented.  This is usually the result of calling `frame.insert` many times, which has poor performance.  Consider joining all columns at once using pd.concat(axis=1) instead. To get a de-fragmented frame, use `newframe = frame.copy()`\n",
      "  portfolio_cumulative_returns[n] = (1 + sim_df.fillna(0)).cumprod()\n",
      "C:\\Users\\ryans\\Ryans\\Finanacial Planner\\MCForecastTools.py:117: PerformanceWarning: DataFrame is highly fragmented.  This is usually the result of calling `frame.insert` many times, which has poor performance.  Consider joining all columns at once using pd.concat(axis=1) instead. To get a de-fragmented frame, use `newframe = frame.copy()`\n",
      "  portfolio_cumulative_returns[n] = (1 + sim_df.fillna(0)).cumprod()\n",
      "C:\\Users\\ryans\\Ryans\\Finanacial Planner\\MCForecastTools.py:117: PerformanceWarning: DataFrame is highly fragmented.  This is usually the result of calling `frame.insert` many times, which has poor performance.  Consider joining all columns at once using pd.concat(axis=1) instead. To get a de-fragmented frame, use `newframe = frame.copy()`\n",
      "  portfolio_cumulative_returns[n] = (1 + sim_df.fillna(0)).cumprod()\n",
      "C:\\Users\\ryans\\Ryans\\Finanacial Planner\\MCForecastTools.py:117: PerformanceWarning: DataFrame is highly fragmented.  This is usually the result of calling `frame.insert` many times, which has poor performance.  Consider joining all columns at once using pd.concat(axis=1) instead. To get a de-fragmented frame, use `newframe = frame.copy()`\n",
      "  portfolio_cumulative_returns[n] = (1 + sim_df.fillna(0)).cumprod()\n"
     ]
    },
    {
     "name": "stdout",
     "output_type": "stream",
     "text": [
      "Running Monte Carlo simulation number 340.\n"
     ]
    },
    {
     "name": "stderr",
     "output_type": "stream",
     "text": [
      "C:\\Users\\ryans\\Ryans\\Finanacial Planner\\MCForecastTools.py:117: PerformanceWarning: DataFrame is highly fragmented.  This is usually the result of calling `frame.insert` many times, which has poor performance.  Consider joining all columns at once using pd.concat(axis=1) instead. To get a de-fragmented frame, use `newframe = frame.copy()`\n",
      "  portfolio_cumulative_returns[n] = (1 + sim_df.fillna(0)).cumprod()\n",
      "C:\\Users\\ryans\\Ryans\\Finanacial Planner\\MCForecastTools.py:117: PerformanceWarning: DataFrame is highly fragmented.  This is usually the result of calling `frame.insert` many times, which has poor performance.  Consider joining all columns at once using pd.concat(axis=1) instead. To get a de-fragmented frame, use `newframe = frame.copy()`\n",
      "  portfolio_cumulative_returns[n] = (1 + sim_df.fillna(0)).cumprod()\n",
      "C:\\Users\\ryans\\Ryans\\Finanacial Planner\\MCForecastTools.py:117: PerformanceWarning: DataFrame is highly fragmented.  This is usually the result of calling `frame.insert` many times, which has poor performance.  Consider joining all columns at once using pd.concat(axis=1) instead. To get a de-fragmented frame, use `newframe = frame.copy()`\n",
      "  portfolio_cumulative_returns[n] = (1 + sim_df.fillna(0)).cumprod()\n",
      "C:\\Users\\ryans\\Ryans\\Finanacial Planner\\MCForecastTools.py:117: PerformanceWarning: DataFrame is highly fragmented.  This is usually the result of calling `frame.insert` many times, which has poor performance.  Consider joining all columns at once using pd.concat(axis=1) instead. To get a de-fragmented frame, use `newframe = frame.copy()`\n",
      "  portfolio_cumulative_returns[n] = (1 + sim_df.fillna(0)).cumprod()\n",
      "C:\\Users\\ryans\\Ryans\\Finanacial Planner\\MCForecastTools.py:117: PerformanceWarning: DataFrame is highly fragmented.  This is usually the result of calling `frame.insert` many times, which has poor performance.  Consider joining all columns at once using pd.concat(axis=1) instead. To get a de-fragmented frame, use `newframe = frame.copy()`\n",
      "  portfolio_cumulative_returns[n] = (1 + sim_df.fillna(0)).cumprod()\n",
      "C:\\Users\\ryans\\Ryans\\Finanacial Planner\\MCForecastTools.py:117: PerformanceWarning: DataFrame is highly fragmented.  This is usually the result of calling `frame.insert` many times, which has poor performance.  Consider joining all columns at once using pd.concat(axis=1) instead. To get a de-fragmented frame, use `newframe = frame.copy()`\n",
      "  portfolio_cumulative_returns[n] = (1 + sim_df.fillna(0)).cumprod()\n",
      "C:\\Users\\ryans\\Ryans\\Finanacial Planner\\MCForecastTools.py:117: PerformanceWarning: DataFrame is highly fragmented.  This is usually the result of calling `frame.insert` many times, which has poor performance.  Consider joining all columns at once using pd.concat(axis=1) instead. To get a de-fragmented frame, use `newframe = frame.copy()`\n",
      "  portfolio_cumulative_returns[n] = (1 + sim_df.fillna(0)).cumprod()\n",
      "C:\\Users\\ryans\\Ryans\\Finanacial Planner\\MCForecastTools.py:117: PerformanceWarning: DataFrame is highly fragmented.  This is usually the result of calling `frame.insert` many times, which has poor performance.  Consider joining all columns at once using pd.concat(axis=1) instead. To get a de-fragmented frame, use `newframe = frame.copy()`\n",
      "  portfolio_cumulative_returns[n] = (1 + sim_df.fillna(0)).cumprod()\n",
      "C:\\Users\\ryans\\Ryans\\Finanacial Planner\\MCForecastTools.py:117: PerformanceWarning: DataFrame is highly fragmented.  This is usually the result of calling `frame.insert` many times, which has poor performance.  Consider joining all columns at once using pd.concat(axis=1) instead. To get a de-fragmented frame, use `newframe = frame.copy()`\n",
      "  portfolio_cumulative_returns[n] = (1 + sim_df.fillna(0)).cumprod()\n",
      "C:\\Users\\ryans\\Ryans\\Finanacial Planner\\MCForecastTools.py:117: PerformanceWarning: DataFrame is highly fragmented.  This is usually the result of calling `frame.insert` many times, which has poor performance.  Consider joining all columns at once using pd.concat(axis=1) instead. To get a de-fragmented frame, use `newframe = frame.copy()`\n",
      "  portfolio_cumulative_returns[n] = (1 + sim_df.fillna(0)).cumprod()\n",
      "C:\\Users\\ryans\\Ryans\\Finanacial Planner\\MCForecastTools.py:117: PerformanceWarning: DataFrame is highly fragmented.  This is usually the result of calling `frame.insert` many times, which has poor performance.  Consider joining all columns at once using pd.concat(axis=1) instead. To get a de-fragmented frame, use `newframe = frame.copy()`\n",
      "  portfolio_cumulative_returns[n] = (1 + sim_df.fillna(0)).cumprod()\n"
     ]
    },
    {
     "name": "stdout",
     "output_type": "stream",
     "text": [
      "Running Monte Carlo simulation number 350.\n"
     ]
    },
    {
     "name": "stderr",
     "output_type": "stream",
     "text": [
      "C:\\Users\\ryans\\Ryans\\Finanacial Planner\\MCForecastTools.py:117: PerformanceWarning: DataFrame is highly fragmented.  This is usually the result of calling `frame.insert` many times, which has poor performance.  Consider joining all columns at once using pd.concat(axis=1) instead. To get a de-fragmented frame, use `newframe = frame.copy()`\n",
      "  portfolio_cumulative_returns[n] = (1 + sim_df.fillna(0)).cumprod()\n",
      "C:\\Users\\ryans\\Ryans\\Finanacial Planner\\MCForecastTools.py:117: PerformanceWarning: DataFrame is highly fragmented.  This is usually the result of calling `frame.insert` many times, which has poor performance.  Consider joining all columns at once using pd.concat(axis=1) instead. To get a de-fragmented frame, use `newframe = frame.copy()`\n",
      "  portfolio_cumulative_returns[n] = (1 + sim_df.fillna(0)).cumprod()\n",
      "C:\\Users\\ryans\\Ryans\\Finanacial Planner\\MCForecastTools.py:117: PerformanceWarning: DataFrame is highly fragmented.  This is usually the result of calling `frame.insert` many times, which has poor performance.  Consider joining all columns at once using pd.concat(axis=1) instead. To get a de-fragmented frame, use `newframe = frame.copy()`\n",
      "  portfolio_cumulative_returns[n] = (1 + sim_df.fillna(0)).cumprod()\n",
      "C:\\Users\\ryans\\Ryans\\Finanacial Planner\\MCForecastTools.py:117: PerformanceWarning: DataFrame is highly fragmented.  This is usually the result of calling `frame.insert` many times, which has poor performance.  Consider joining all columns at once using pd.concat(axis=1) instead. To get a de-fragmented frame, use `newframe = frame.copy()`\n",
      "  portfolio_cumulative_returns[n] = (1 + sim_df.fillna(0)).cumprod()\n",
      "C:\\Users\\ryans\\Ryans\\Finanacial Planner\\MCForecastTools.py:117: PerformanceWarning: DataFrame is highly fragmented.  This is usually the result of calling `frame.insert` many times, which has poor performance.  Consider joining all columns at once using pd.concat(axis=1) instead. To get a de-fragmented frame, use `newframe = frame.copy()`\n",
      "  portfolio_cumulative_returns[n] = (1 + sim_df.fillna(0)).cumprod()\n",
      "C:\\Users\\ryans\\Ryans\\Finanacial Planner\\MCForecastTools.py:117: PerformanceWarning: DataFrame is highly fragmented.  This is usually the result of calling `frame.insert` many times, which has poor performance.  Consider joining all columns at once using pd.concat(axis=1) instead. To get a de-fragmented frame, use `newframe = frame.copy()`\n",
      "  portfolio_cumulative_returns[n] = (1 + sim_df.fillna(0)).cumprod()\n",
      "C:\\Users\\ryans\\Ryans\\Finanacial Planner\\MCForecastTools.py:117: PerformanceWarning: DataFrame is highly fragmented.  This is usually the result of calling `frame.insert` many times, which has poor performance.  Consider joining all columns at once using pd.concat(axis=1) instead. To get a de-fragmented frame, use `newframe = frame.copy()`\n",
      "  portfolio_cumulative_returns[n] = (1 + sim_df.fillna(0)).cumprod()\n",
      "C:\\Users\\ryans\\Ryans\\Finanacial Planner\\MCForecastTools.py:117: PerformanceWarning: DataFrame is highly fragmented.  This is usually the result of calling `frame.insert` many times, which has poor performance.  Consider joining all columns at once using pd.concat(axis=1) instead. To get a de-fragmented frame, use `newframe = frame.copy()`\n",
      "  portfolio_cumulative_returns[n] = (1 + sim_df.fillna(0)).cumprod()\n",
      "C:\\Users\\ryans\\Ryans\\Finanacial Planner\\MCForecastTools.py:117: PerformanceWarning: DataFrame is highly fragmented.  This is usually the result of calling `frame.insert` many times, which has poor performance.  Consider joining all columns at once using pd.concat(axis=1) instead. To get a de-fragmented frame, use `newframe = frame.copy()`\n",
      "  portfolio_cumulative_returns[n] = (1 + sim_df.fillna(0)).cumprod()\n"
     ]
    },
    {
     "name": "stdout",
     "output_type": "stream",
     "text": [
      "Running Monte Carlo simulation number 360.\n"
     ]
    },
    {
     "name": "stderr",
     "output_type": "stream",
     "text": [
      "C:\\Users\\ryans\\Ryans\\Finanacial Planner\\MCForecastTools.py:117: PerformanceWarning: DataFrame is highly fragmented.  This is usually the result of calling `frame.insert` many times, which has poor performance.  Consider joining all columns at once using pd.concat(axis=1) instead. To get a de-fragmented frame, use `newframe = frame.copy()`\n",
      "  portfolio_cumulative_returns[n] = (1 + sim_df.fillna(0)).cumprod()\n",
      "C:\\Users\\ryans\\Ryans\\Finanacial Planner\\MCForecastTools.py:117: PerformanceWarning: DataFrame is highly fragmented.  This is usually the result of calling `frame.insert` many times, which has poor performance.  Consider joining all columns at once using pd.concat(axis=1) instead. To get a de-fragmented frame, use `newframe = frame.copy()`\n",
      "  portfolio_cumulative_returns[n] = (1 + sim_df.fillna(0)).cumprod()\n",
      "C:\\Users\\ryans\\Ryans\\Finanacial Planner\\MCForecastTools.py:117: PerformanceWarning: DataFrame is highly fragmented.  This is usually the result of calling `frame.insert` many times, which has poor performance.  Consider joining all columns at once using pd.concat(axis=1) instead. To get a de-fragmented frame, use `newframe = frame.copy()`\n",
      "  portfolio_cumulative_returns[n] = (1 + sim_df.fillna(0)).cumprod()\n",
      "C:\\Users\\ryans\\Ryans\\Finanacial Planner\\MCForecastTools.py:117: PerformanceWarning: DataFrame is highly fragmented.  This is usually the result of calling `frame.insert` many times, which has poor performance.  Consider joining all columns at once using pd.concat(axis=1) instead. To get a de-fragmented frame, use `newframe = frame.copy()`\n",
      "  portfolio_cumulative_returns[n] = (1 + sim_df.fillna(0)).cumprod()\n",
      "C:\\Users\\ryans\\Ryans\\Finanacial Planner\\MCForecastTools.py:117: PerformanceWarning: DataFrame is highly fragmented.  This is usually the result of calling `frame.insert` many times, which has poor performance.  Consider joining all columns at once using pd.concat(axis=1) instead. To get a de-fragmented frame, use `newframe = frame.copy()`\n",
      "  portfolio_cumulative_returns[n] = (1 + sim_df.fillna(0)).cumprod()\n",
      "C:\\Users\\ryans\\Ryans\\Finanacial Planner\\MCForecastTools.py:117: PerformanceWarning: DataFrame is highly fragmented.  This is usually the result of calling `frame.insert` many times, which has poor performance.  Consider joining all columns at once using pd.concat(axis=1) instead. To get a de-fragmented frame, use `newframe = frame.copy()`\n",
      "  portfolio_cumulative_returns[n] = (1 + sim_df.fillna(0)).cumprod()\n",
      "C:\\Users\\ryans\\Ryans\\Finanacial Planner\\MCForecastTools.py:117: PerformanceWarning: DataFrame is highly fragmented.  This is usually the result of calling `frame.insert` many times, which has poor performance.  Consider joining all columns at once using pd.concat(axis=1) instead. To get a de-fragmented frame, use `newframe = frame.copy()`\n",
      "  portfolio_cumulative_returns[n] = (1 + sim_df.fillna(0)).cumprod()\n",
      "C:\\Users\\ryans\\Ryans\\Finanacial Planner\\MCForecastTools.py:117: PerformanceWarning: DataFrame is highly fragmented.  This is usually the result of calling `frame.insert` many times, which has poor performance.  Consider joining all columns at once using pd.concat(axis=1) instead. To get a de-fragmented frame, use `newframe = frame.copy()`\n",
      "  portfolio_cumulative_returns[n] = (1 + sim_df.fillna(0)).cumprod()\n",
      "C:\\Users\\ryans\\Ryans\\Finanacial Planner\\MCForecastTools.py:117: PerformanceWarning: DataFrame is highly fragmented.  This is usually the result of calling `frame.insert` many times, which has poor performance.  Consider joining all columns at once using pd.concat(axis=1) instead. To get a de-fragmented frame, use `newframe = frame.copy()`\n",
      "  portfolio_cumulative_returns[n] = (1 + sim_df.fillna(0)).cumprod()\n",
      "C:\\Users\\ryans\\Ryans\\Finanacial Planner\\MCForecastTools.py:117: PerformanceWarning: DataFrame is highly fragmented.  This is usually the result of calling `frame.insert` many times, which has poor performance.  Consider joining all columns at once using pd.concat(axis=1) instead. To get a de-fragmented frame, use `newframe = frame.copy()`\n",
      "  portfolio_cumulative_returns[n] = (1 + sim_df.fillna(0)).cumprod()\n",
      "C:\\Users\\ryans\\Ryans\\Finanacial Planner\\MCForecastTools.py:117: PerformanceWarning: DataFrame is highly fragmented.  This is usually the result of calling `frame.insert` many times, which has poor performance.  Consider joining all columns at once using pd.concat(axis=1) instead. To get a de-fragmented frame, use `newframe = frame.copy()`\n",
      "  portfolio_cumulative_returns[n] = (1 + sim_df.fillna(0)).cumprod()\n"
     ]
    },
    {
     "name": "stdout",
     "output_type": "stream",
     "text": [
      "Running Monte Carlo simulation number 370.\n"
     ]
    },
    {
     "name": "stderr",
     "output_type": "stream",
     "text": [
      "C:\\Users\\ryans\\Ryans\\Finanacial Planner\\MCForecastTools.py:117: PerformanceWarning: DataFrame is highly fragmented.  This is usually the result of calling `frame.insert` many times, which has poor performance.  Consider joining all columns at once using pd.concat(axis=1) instead. To get a de-fragmented frame, use `newframe = frame.copy()`\n",
      "  portfolio_cumulative_returns[n] = (1 + sim_df.fillna(0)).cumprod()\n",
      "C:\\Users\\ryans\\Ryans\\Finanacial Planner\\MCForecastTools.py:117: PerformanceWarning: DataFrame is highly fragmented.  This is usually the result of calling `frame.insert` many times, which has poor performance.  Consider joining all columns at once using pd.concat(axis=1) instead. To get a de-fragmented frame, use `newframe = frame.copy()`\n",
      "  portfolio_cumulative_returns[n] = (1 + sim_df.fillna(0)).cumprod()\n",
      "C:\\Users\\ryans\\Ryans\\Finanacial Planner\\MCForecastTools.py:117: PerformanceWarning: DataFrame is highly fragmented.  This is usually the result of calling `frame.insert` many times, which has poor performance.  Consider joining all columns at once using pd.concat(axis=1) instead. To get a de-fragmented frame, use `newframe = frame.copy()`\n",
      "  portfolio_cumulative_returns[n] = (1 + sim_df.fillna(0)).cumprod()\n",
      "C:\\Users\\ryans\\Ryans\\Finanacial Planner\\MCForecastTools.py:117: PerformanceWarning: DataFrame is highly fragmented.  This is usually the result of calling `frame.insert` many times, which has poor performance.  Consider joining all columns at once using pd.concat(axis=1) instead. To get a de-fragmented frame, use `newframe = frame.copy()`\n",
      "  portfolio_cumulative_returns[n] = (1 + sim_df.fillna(0)).cumprod()\n",
      "C:\\Users\\ryans\\Ryans\\Finanacial Planner\\MCForecastTools.py:117: PerformanceWarning: DataFrame is highly fragmented.  This is usually the result of calling `frame.insert` many times, which has poor performance.  Consider joining all columns at once using pd.concat(axis=1) instead. To get a de-fragmented frame, use `newframe = frame.copy()`\n",
      "  portfolio_cumulative_returns[n] = (1 + sim_df.fillna(0)).cumprod()\n",
      "C:\\Users\\ryans\\Ryans\\Finanacial Planner\\MCForecastTools.py:117: PerformanceWarning: DataFrame is highly fragmented.  This is usually the result of calling `frame.insert` many times, which has poor performance.  Consider joining all columns at once using pd.concat(axis=1) instead. To get a de-fragmented frame, use `newframe = frame.copy()`\n",
      "  portfolio_cumulative_returns[n] = (1 + sim_df.fillna(0)).cumprod()\n",
      "C:\\Users\\ryans\\Ryans\\Finanacial Planner\\MCForecastTools.py:117: PerformanceWarning: DataFrame is highly fragmented.  This is usually the result of calling `frame.insert` many times, which has poor performance.  Consider joining all columns at once using pd.concat(axis=1) instead. To get a de-fragmented frame, use `newframe = frame.copy()`\n",
      "  portfolio_cumulative_returns[n] = (1 + sim_df.fillna(0)).cumprod()\n",
      "C:\\Users\\ryans\\Ryans\\Finanacial Planner\\MCForecastTools.py:117: PerformanceWarning: DataFrame is highly fragmented.  This is usually the result of calling `frame.insert` many times, which has poor performance.  Consider joining all columns at once using pd.concat(axis=1) instead. To get a de-fragmented frame, use `newframe = frame.copy()`\n",
      "  portfolio_cumulative_returns[n] = (1 + sim_df.fillna(0)).cumprod()\n",
      "C:\\Users\\ryans\\Ryans\\Finanacial Planner\\MCForecastTools.py:117: PerformanceWarning: DataFrame is highly fragmented.  This is usually the result of calling `frame.insert` many times, which has poor performance.  Consider joining all columns at once using pd.concat(axis=1) instead. To get a de-fragmented frame, use `newframe = frame.copy()`\n",
      "  portfolio_cumulative_returns[n] = (1 + sim_df.fillna(0)).cumprod()\n"
     ]
    },
    {
     "name": "stdout",
     "output_type": "stream",
     "text": [
      "Running Monte Carlo simulation number 380.\n"
     ]
    },
    {
     "name": "stderr",
     "output_type": "stream",
     "text": [
      "C:\\Users\\ryans\\Ryans\\Finanacial Planner\\MCForecastTools.py:117: PerformanceWarning: DataFrame is highly fragmented.  This is usually the result of calling `frame.insert` many times, which has poor performance.  Consider joining all columns at once using pd.concat(axis=1) instead. To get a de-fragmented frame, use `newframe = frame.copy()`\n",
      "  portfolio_cumulative_returns[n] = (1 + sim_df.fillna(0)).cumprod()\n",
      "C:\\Users\\ryans\\Ryans\\Finanacial Planner\\MCForecastTools.py:117: PerformanceWarning: DataFrame is highly fragmented.  This is usually the result of calling `frame.insert` many times, which has poor performance.  Consider joining all columns at once using pd.concat(axis=1) instead. To get a de-fragmented frame, use `newframe = frame.copy()`\n",
      "  portfolio_cumulative_returns[n] = (1 + sim_df.fillna(0)).cumprod()\n",
      "C:\\Users\\ryans\\Ryans\\Finanacial Planner\\MCForecastTools.py:117: PerformanceWarning: DataFrame is highly fragmented.  This is usually the result of calling `frame.insert` many times, which has poor performance.  Consider joining all columns at once using pd.concat(axis=1) instead. To get a de-fragmented frame, use `newframe = frame.copy()`\n",
      "  portfolio_cumulative_returns[n] = (1 + sim_df.fillna(0)).cumprod()\n",
      "C:\\Users\\ryans\\Ryans\\Finanacial Planner\\MCForecastTools.py:117: PerformanceWarning: DataFrame is highly fragmented.  This is usually the result of calling `frame.insert` many times, which has poor performance.  Consider joining all columns at once using pd.concat(axis=1) instead. To get a de-fragmented frame, use `newframe = frame.copy()`\n",
      "  portfolio_cumulative_returns[n] = (1 + sim_df.fillna(0)).cumprod()\n",
      "C:\\Users\\ryans\\Ryans\\Finanacial Planner\\MCForecastTools.py:117: PerformanceWarning: DataFrame is highly fragmented.  This is usually the result of calling `frame.insert` many times, which has poor performance.  Consider joining all columns at once using pd.concat(axis=1) instead. To get a de-fragmented frame, use `newframe = frame.copy()`\n",
      "  portfolio_cumulative_returns[n] = (1 + sim_df.fillna(0)).cumprod()\n",
      "C:\\Users\\ryans\\Ryans\\Finanacial Planner\\MCForecastTools.py:117: PerformanceWarning: DataFrame is highly fragmented.  This is usually the result of calling `frame.insert` many times, which has poor performance.  Consider joining all columns at once using pd.concat(axis=1) instead. To get a de-fragmented frame, use `newframe = frame.copy()`\n",
      "  portfolio_cumulative_returns[n] = (1 + sim_df.fillna(0)).cumprod()\n",
      "C:\\Users\\ryans\\Ryans\\Finanacial Planner\\MCForecastTools.py:117: PerformanceWarning: DataFrame is highly fragmented.  This is usually the result of calling `frame.insert` many times, which has poor performance.  Consider joining all columns at once using pd.concat(axis=1) instead. To get a de-fragmented frame, use `newframe = frame.copy()`\n",
      "  portfolio_cumulative_returns[n] = (1 + sim_df.fillna(0)).cumprod()\n",
      "C:\\Users\\ryans\\Ryans\\Finanacial Planner\\MCForecastTools.py:117: PerformanceWarning: DataFrame is highly fragmented.  This is usually the result of calling `frame.insert` many times, which has poor performance.  Consider joining all columns at once using pd.concat(axis=1) instead. To get a de-fragmented frame, use `newframe = frame.copy()`\n",
      "  portfolio_cumulative_returns[n] = (1 + sim_df.fillna(0)).cumprod()\n",
      "C:\\Users\\ryans\\Ryans\\Finanacial Planner\\MCForecastTools.py:117: PerformanceWarning: DataFrame is highly fragmented.  This is usually the result of calling `frame.insert` many times, which has poor performance.  Consider joining all columns at once using pd.concat(axis=1) instead. To get a de-fragmented frame, use `newframe = frame.copy()`\n",
      "  portfolio_cumulative_returns[n] = (1 + sim_df.fillna(0)).cumprod()\n",
      "C:\\Users\\ryans\\Ryans\\Finanacial Planner\\MCForecastTools.py:117: PerformanceWarning: DataFrame is highly fragmented.  This is usually the result of calling `frame.insert` many times, which has poor performance.  Consider joining all columns at once using pd.concat(axis=1) instead. To get a de-fragmented frame, use `newframe = frame.copy()`\n",
      "  portfolio_cumulative_returns[n] = (1 + sim_df.fillna(0)).cumprod()\n",
      "C:\\Users\\ryans\\Ryans\\Finanacial Planner\\MCForecastTools.py:117: PerformanceWarning: DataFrame is highly fragmented.  This is usually the result of calling `frame.insert` many times, which has poor performance.  Consider joining all columns at once using pd.concat(axis=1) instead. To get a de-fragmented frame, use `newframe = frame.copy()`\n",
      "  portfolio_cumulative_returns[n] = (1 + sim_df.fillna(0)).cumprod()\n",
      "C:\\Users\\ryans\\Ryans\\Finanacial Planner\\MCForecastTools.py:117: PerformanceWarning: DataFrame is highly fragmented.  This is usually the result of calling `frame.insert` many times, which has poor performance.  Consider joining all columns at once using pd.concat(axis=1) instead. To get a de-fragmented frame, use `newframe = frame.copy()`\n",
      "  portfolio_cumulative_returns[n] = (1 + sim_df.fillna(0)).cumprod()\n"
     ]
    },
    {
     "name": "stdout",
     "output_type": "stream",
     "text": [
      "Running Monte Carlo simulation number 390.\n"
     ]
    },
    {
     "name": "stderr",
     "output_type": "stream",
     "text": [
      "C:\\Users\\ryans\\Ryans\\Finanacial Planner\\MCForecastTools.py:117: PerformanceWarning: DataFrame is highly fragmented.  This is usually the result of calling `frame.insert` many times, which has poor performance.  Consider joining all columns at once using pd.concat(axis=1) instead. To get a de-fragmented frame, use `newframe = frame.copy()`\n",
      "  portfolio_cumulative_returns[n] = (1 + sim_df.fillna(0)).cumprod()\n",
      "C:\\Users\\ryans\\Ryans\\Finanacial Planner\\MCForecastTools.py:117: PerformanceWarning: DataFrame is highly fragmented.  This is usually the result of calling `frame.insert` many times, which has poor performance.  Consider joining all columns at once using pd.concat(axis=1) instead. To get a de-fragmented frame, use `newframe = frame.copy()`\n",
      "  portfolio_cumulative_returns[n] = (1 + sim_df.fillna(0)).cumprod()\n",
      "C:\\Users\\ryans\\Ryans\\Finanacial Planner\\MCForecastTools.py:117: PerformanceWarning: DataFrame is highly fragmented.  This is usually the result of calling `frame.insert` many times, which has poor performance.  Consider joining all columns at once using pd.concat(axis=1) instead. To get a de-fragmented frame, use `newframe = frame.copy()`\n",
      "  portfolio_cumulative_returns[n] = (1 + sim_df.fillna(0)).cumprod()\n",
      "C:\\Users\\ryans\\Ryans\\Finanacial Planner\\MCForecastTools.py:117: PerformanceWarning: DataFrame is highly fragmented.  This is usually the result of calling `frame.insert` many times, which has poor performance.  Consider joining all columns at once using pd.concat(axis=1) instead. To get a de-fragmented frame, use `newframe = frame.copy()`\n",
      "  portfolio_cumulative_returns[n] = (1 + sim_df.fillna(0)).cumprod()\n",
      "C:\\Users\\ryans\\Ryans\\Finanacial Planner\\MCForecastTools.py:117: PerformanceWarning: DataFrame is highly fragmented.  This is usually the result of calling `frame.insert` many times, which has poor performance.  Consider joining all columns at once using pd.concat(axis=1) instead. To get a de-fragmented frame, use `newframe = frame.copy()`\n",
      "  portfolio_cumulative_returns[n] = (1 + sim_df.fillna(0)).cumprod()\n",
      "C:\\Users\\ryans\\Ryans\\Finanacial Planner\\MCForecastTools.py:117: PerformanceWarning: DataFrame is highly fragmented.  This is usually the result of calling `frame.insert` many times, which has poor performance.  Consider joining all columns at once using pd.concat(axis=1) instead. To get a de-fragmented frame, use `newframe = frame.copy()`\n",
      "  portfolio_cumulative_returns[n] = (1 + sim_df.fillna(0)).cumprod()\n",
      "C:\\Users\\ryans\\Ryans\\Finanacial Planner\\MCForecastTools.py:117: PerformanceWarning: DataFrame is highly fragmented.  This is usually the result of calling `frame.insert` many times, which has poor performance.  Consider joining all columns at once using pd.concat(axis=1) instead. To get a de-fragmented frame, use `newframe = frame.copy()`\n",
      "  portfolio_cumulative_returns[n] = (1 + sim_df.fillna(0)).cumprod()\n",
      "C:\\Users\\ryans\\Ryans\\Finanacial Planner\\MCForecastTools.py:117: PerformanceWarning: DataFrame is highly fragmented.  This is usually the result of calling `frame.insert` many times, which has poor performance.  Consider joining all columns at once using pd.concat(axis=1) instead. To get a de-fragmented frame, use `newframe = frame.copy()`\n",
      "  portfolio_cumulative_returns[n] = (1 + sim_df.fillna(0)).cumprod()\n",
      "C:\\Users\\ryans\\Ryans\\Finanacial Planner\\MCForecastTools.py:117: PerformanceWarning: DataFrame is highly fragmented.  This is usually the result of calling `frame.insert` many times, which has poor performance.  Consider joining all columns at once using pd.concat(axis=1) instead. To get a de-fragmented frame, use `newframe = frame.copy()`\n",
      "  portfolio_cumulative_returns[n] = (1 + sim_df.fillna(0)).cumprod()\n"
     ]
    },
    {
     "name": "stdout",
     "output_type": "stream",
     "text": [
      "Running Monte Carlo simulation number 400.\n"
     ]
    },
    {
     "name": "stderr",
     "output_type": "stream",
     "text": [
      "C:\\Users\\ryans\\Ryans\\Finanacial Planner\\MCForecastTools.py:117: PerformanceWarning: DataFrame is highly fragmented.  This is usually the result of calling `frame.insert` many times, which has poor performance.  Consider joining all columns at once using pd.concat(axis=1) instead. To get a de-fragmented frame, use `newframe = frame.copy()`\n",
      "  portfolio_cumulative_returns[n] = (1 + sim_df.fillna(0)).cumprod()\n",
      "C:\\Users\\ryans\\Ryans\\Finanacial Planner\\MCForecastTools.py:117: PerformanceWarning: DataFrame is highly fragmented.  This is usually the result of calling `frame.insert` many times, which has poor performance.  Consider joining all columns at once using pd.concat(axis=1) instead. To get a de-fragmented frame, use `newframe = frame.copy()`\n",
      "  portfolio_cumulative_returns[n] = (1 + sim_df.fillna(0)).cumprod()\n",
      "C:\\Users\\ryans\\Ryans\\Finanacial Planner\\MCForecastTools.py:117: PerformanceWarning: DataFrame is highly fragmented.  This is usually the result of calling `frame.insert` many times, which has poor performance.  Consider joining all columns at once using pd.concat(axis=1) instead. To get a de-fragmented frame, use `newframe = frame.copy()`\n",
      "  portfolio_cumulative_returns[n] = (1 + sim_df.fillna(0)).cumprod()\n",
      "C:\\Users\\ryans\\Ryans\\Finanacial Planner\\MCForecastTools.py:117: PerformanceWarning: DataFrame is highly fragmented.  This is usually the result of calling `frame.insert` many times, which has poor performance.  Consider joining all columns at once using pd.concat(axis=1) instead. To get a de-fragmented frame, use `newframe = frame.copy()`\n",
      "  portfolio_cumulative_returns[n] = (1 + sim_df.fillna(0)).cumprod()\n",
      "C:\\Users\\ryans\\Ryans\\Finanacial Planner\\MCForecastTools.py:117: PerformanceWarning: DataFrame is highly fragmented.  This is usually the result of calling `frame.insert` many times, which has poor performance.  Consider joining all columns at once using pd.concat(axis=1) instead. To get a de-fragmented frame, use `newframe = frame.copy()`\n",
      "  portfolio_cumulative_returns[n] = (1 + sim_df.fillna(0)).cumprod()\n",
      "C:\\Users\\ryans\\Ryans\\Finanacial Planner\\MCForecastTools.py:117: PerformanceWarning: DataFrame is highly fragmented.  This is usually the result of calling `frame.insert` many times, which has poor performance.  Consider joining all columns at once using pd.concat(axis=1) instead. To get a de-fragmented frame, use `newframe = frame.copy()`\n",
      "  portfolio_cumulative_returns[n] = (1 + sim_df.fillna(0)).cumprod()\n",
      "C:\\Users\\ryans\\Ryans\\Finanacial Planner\\MCForecastTools.py:117: PerformanceWarning: DataFrame is highly fragmented.  This is usually the result of calling `frame.insert` many times, which has poor performance.  Consider joining all columns at once using pd.concat(axis=1) instead. To get a de-fragmented frame, use `newframe = frame.copy()`\n",
      "  portfolio_cumulative_returns[n] = (1 + sim_df.fillna(0)).cumprod()\n",
      "C:\\Users\\ryans\\Ryans\\Finanacial Planner\\MCForecastTools.py:117: PerformanceWarning: DataFrame is highly fragmented.  This is usually the result of calling `frame.insert` many times, which has poor performance.  Consider joining all columns at once using pd.concat(axis=1) instead. To get a de-fragmented frame, use `newframe = frame.copy()`\n",
      "  portfolio_cumulative_returns[n] = (1 + sim_df.fillna(0)).cumprod()\n",
      "C:\\Users\\ryans\\Ryans\\Finanacial Planner\\MCForecastTools.py:117: PerformanceWarning: DataFrame is highly fragmented.  This is usually the result of calling `frame.insert` many times, which has poor performance.  Consider joining all columns at once using pd.concat(axis=1) instead. To get a de-fragmented frame, use `newframe = frame.copy()`\n",
      "  portfolio_cumulative_returns[n] = (1 + sim_df.fillna(0)).cumprod()\n"
     ]
    },
    {
     "name": "stdout",
     "output_type": "stream",
     "text": [
      "Running Monte Carlo simulation number 410.\n"
     ]
    },
    {
     "name": "stderr",
     "output_type": "stream",
     "text": [
      "C:\\Users\\ryans\\Ryans\\Finanacial Planner\\MCForecastTools.py:117: PerformanceWarning: DataFrame is highly fragmented.  This is usually the result of calling `frame.insert` many times, which has poor performance.  Consider joining all columns at once using pd.concat(axis=1) instead. To get a de-fragmented frame, use `newframe = frame.copy()`\n",
      "  portfolio_cumulative_returns[n] = (1 + sim_df.fillna(0)).cumprod()\n",
      "C:\\Users\\ryans\\Ryans\\Finanacial Planner\\MCForecastTools.py:117: PerformanceWarning: DataFrame is highly fragmented.  This is usually the result of calling `frame.insert` many times, which has poor performance.  Consider joining all columns at once using pd.concat(axis=1) instead. To get a de-fragmented frame, use `newframe = frame.copy()`\n",
      "  portfolio_cumulative_returns[n] = (1 + sim_df.fillna(0)).cumprod()\n",
      "C:\\Users\\ryans\\Ryans\\Finanacial Planner\\MCForecastTools.py:117: PerformanceWarning: DataFrame is highly fragmented.  This is usually the result of calling `frame.insert` many times, which has poor performance.  Consider joining all columns at once using pd.concat(axis=1) instead. To get a de-fragmented frame, use `newframe = frame.copy()`\n",
      "  portfolio_cumulative_returns[n] = (1 + sim_df.fillna(0)).cumprod()\n",
      "C:\\Users\\ryans\\Ryans\\Finanacial Planner\\MCForecastTools.py:117: PerformanceWarning: DataFrame is highly fragmented.  This is usually the result of calling `frame.insert` many times, which has poor performance.  Consider joining all columns at once using pd.concat(axis=1) instead. To get a de-fragmented frame, use `newframe = frame.copy()`\n",
      "  portfolio_cumulative_returns[n] = (1 + sim_df.fillna(0)).cumprod()\n",
      "C:\\Users\\ryans\\Ryans\\Finanacial Planner\\MCForecastTools.py:117: PerformanceWarning: DataFrame is highly fragmented.  This is usually the result of calling `frame.insert` many times, which has poor performance.  Consider joining all columns at once using pd.concat(axis=1) instead. To get a de-fragmented frame, use `newframe = frame.copy()`\n",
      "  portfolio_cumulative_returns[n] = (1 + sim_df.fillna(0)).cumprod()\n",
      "C:\\Users\\ryans\\Ryans\\Finanacial Planner\\MCForecastTools.py:117: PerformanceWarning: DataFrame is highly fragmented.  This is usually the result of calling `frame.insert` many times, which has poor performance.  Consider joining all columns at once using pd.concat(axis=1) instead. To get a de-fragmented frame, use `newframe = frame.copy()`\n",
      "  portfolio_cumulative_returns[n] = (1 + sim_df.fillna(0)).cumprod()\n",
      "C:\\Users\\ryans\\Ryans\\Finanacial Planner\\MCForecastTools.py:117: PerformanceWarning: DataFrame is highly fragmented.  This is usually the result of calling `frame.insert` many times, which has poor performance.  Consider joining all columns at once using pd.concat(axis=1) instead. To get a de-fragmented frame, use `newframe = frame.copy()`\n",
      "  portfolio_cumulative_returns[n] = (1 + sim_df.fillna(0)).cumprod()\n",
      "C:\\Users\\ryans\\Ryans\\Finanacial Planner\\MCForecastTools.py:117: PerformanceWarning: DataFrame is highly fragmented.  This is usually the result of calling `frame.insert` many times, which has poor performance.  Consider joining all columns at once using pd.concat(axis=1) instead. To get a de-fragmented frame, use `newframe = frame.copy()`\n",
      "  portfolio_cumulative_returns[n] = (1 + sim_df.fillna(0)).cumprod()\n",
      "C:\\Users\\ryans\\Ryans\\Finanacial Planner\\MCForecastTools.py:117: PerformanceWarning: DataFrame is highly fragmented.  This is usually the result of calling `frame.insert` many times, which has poor performance.  Consider joining all columns at once using pd.concat(axis=1) instead. To get a de-fragmented frame, use `newframe = frame.copy()`\n",
      "  portfolio_cumulative_returns[n] = (1 + sim_df.fillna(0)).cumprod()\n",
      "C:\\Users\\ryans\\Ryans\\Finanacial Planner\\MCForecastTools.py:117: PerformanceWarning: DataFrame is highly fragmented.  This is usually the result of calling `frame.insert` many times, which has poor performance.  Consider joining all columns at once using pd.concat(axis=1) instead. To get a de-fragmented frame, use `newframe = frame.copy()`\n",
      "  portfolio_cumulative_returns[n] = (1 + sim_df.fillna(0)).cumprod()\n",
      "C:\\Users\\ryans\\Ryans\\Finanacial Planner\\MCForecastTools.py:117: PerformanceWarning: DataFrame is highly fragmented.  This is usually the result of calling `frame.insert` many times, which has poor performance.  Consider joining all columns at once using pd.concat(axis=1) instead. To get a de-fragmented frame, use `newframe = frame.copy()`\n",
      "  portfolio_cumulative_returns[n] = (1 + sim_df.fillna(0)).cumprod()\n"
     ]
    },
    {
     "name": "stdout",
     "output_type": "stream",
     "text": [
      "Running Monte Carlo simulation number 420.\n"
     ]
    },
    {
     "name": "stderr",
     "output_type": "stream",
     "text": [
      "C:\\Users\\ryans\\Ryans\\Finanacial Planner\\MCForecastTools.py:117: PerformanceWarning: DataFrame is highly fragmented.  This is usually the result of calling `frame.insert` many times, which has poor performance.  Consider joining all columns at once using pd.concat(axis=1) instead. To get a de-fragmented frame, use `newframe = frame.copy()`\n",
      "  portfolio_cumulative_returns[n] = (1 + sim_df.fillna(0)).cumprod()\n",
      "C:\\Users\\ryans\\Ryans\\Finanacial Planner\\MCForecastTools.py:117: PerformanceWarning: DataFrame is highly fragmented.  This is usually the result of calling `frame.insert` many times, which has poor performance.  Consider joining all columns at once using pd.concat(axis=1) instead. To get a de-fragmented frame, use `newframe = frame.copy()`\n",
      "  portfolio_cumulative_returns[n] = (1 + sim_df.fillna(0)).cumprod()\n",
      "C:\\Users\\ryans\\Ryans\\Finanacial Planner\\MCForecastTools.py:117: PerformanceWarning: DataFrame is highly fragmented.  This is usually the result of calling `frame.insert` many times, which has poor performance.  Consider joining all columns at once using pd.concat(axis=1) instead. To get a de-fragmented frame, use `newframe = frame.copy()`\n",
      "  portfolio_cumulative_returns[n] = (1 + sim_df.fillna(0)).cumprod()\n",
      "C:\\Users\\ryans\\Ryans\\Finanacial Planner\\MCForecastTools.py:117: PerformanceWarning: DataFrame is highly fragmented.  This is usually the result of calling `frame.insert` many times, which has poor performance.  Consider joining all columns at once using pd.concat(axis=1) instead. To get a de-fragmented frame, use `newframe = frame.copy()`\n",
      "  portfolio_cumulative_returns[n] = (1 + sim_df.fillna(0)).cumprod()\n",
      "C:\\Users\\ryans\\Ryans\\Finanacial Planner\\MCForecastTools.py:117: PerformanceWarning: DataFrame is highly fragmented.  This is usually the result of calling `frame.insert` many times, which has poor performance.  Consider joining all columns at once using pd.concat(axis=1) instead. To get a de-fragmented frame, use `newframe = frame.copy()`\n",
      "  portfolio_cumulative_returns[n] = (1 + sim_df.fillna(0)).cumprod()\n",
      "C:\\Users\\ryans\\Ryans\\Finanacial Planner\\MCForecastTools.py:117: PerformanceWarning: DataFrame is highly fragmented.  This is usually the result of calling `frame.insert` many times, which has poor performance.  Consider joining all columns at once using pd.concat(axis=1) instead. To get a de-fragmented frame, use `newframe = frame.copy()`\n",
      "  portfolio_cumulative_returns[n] = (1 + sim_df.fillna(0)).cumprod()\n",
      "C:\\Users\\ryans\\Ryans\\Finanacial Planner\\MCForecastTools.py:117: PerformanceWarning: DataFrame is highly fragmented.  This is usually the result of calling `frame.insert` many times, which has poor performance.  Consider joining all columns at once using pd.concat(axis=1) instead. To get a de-fragmented frame, use `newframe = frame.copy()`\n",
      "  portfolio_cumulative_returns[n] = (1 + sim_df.fillna(0)).cumprod()\n",
      "C:\\Users\\ryans\\Ryans\\Finanacial Planner\\MCForecastTools.py:117: PerformanceWarning: DataFrame is highly fragmented.  This is usually the result of calling `frame.insert` many times, which has poor performance.  Consider joining all columns at once using pd.concat(axis=1) instead. To get a de-fragmented frame, use `newframe = frame.copy()`\n",
      "  portfolio_cumulative_returns[n] = (1 + sim_df.fillna(0)).cumprod()\n",
      "C:\\Users\\ryans\\Ryans\\Finanacial Planner\\MCForecastTools.py:117: PerformanceWarning: DataFrame is highly fragmented.  This is usually the result of calling `frame.insert` many times, which has poor performance.  Consider joining all columns at once using pd.concat(axis=1) instead. To get a de-fragmented frame, use `newframe = frame.copy()`\n",
      "  portfolio_cumulative_returns[n] = (1 + sim_df.fillna(0)).cumprod()\n"
     ]
    },
    {
     "name": "stdout",
     "output_type": "stream",
     "text": [
      "Running Monte Carlo simulation number 430.\n"
     ]
    },
    {
     "name": "stderr",
     "output_type": "stream",
     "text": [
      "C:\\Users\\ryans\\Ryans\\Finanacial Planner\\MCForecastTools.py:117: PerformanceWarning: DataFrame is highly fragmented.  This is usually the result of calling `frame.insert` many times, which has poor performance.  Consider joining all columns at once using pd.concat(axis=1) instead. To get a de-fragmented frame, use `newframe = frame.copy()`\n",
      "  portfolio_cumulative_returns[n] = (1 + sim_df.fillna(0)).cumprod()\n",
      "C:\\Users\\ryans\\Ryans\\Finanacial Planner\\MCForecastTools.py:117: PerformanceWarning: DataFrame is highly fragmented.  This is usually the result of calling `frame.insert` many times, which has poor performance.  Consider joining all columns at once using pd.concat(axis=1) instead. To get a de-fragmented frame, use `newframe = frame.copy()`\n",
      "  portfolio_cumulative_returns[n] = (1 + sim_df.fillna(0)).cumprod()\n",
      "C:\\Users\\ryans\\Ryans\\Finanacial Planner\\MCForecastTools.py:117: PerformanceWarning: DataFrame is highly fragmented.  This is usually the result of calling `frame.insert` many times, which has poor performance.  Consider joining all columns at once using pd.concat(axis=1) instead. To get a de-fragmented frame, use `newframe = frame.copy()`\n",
      "  portfolio_cumulative_returns[n] = (1 + sim_df.fillna(0)).cumprod()\n",
      "C:\\Users\\ryans\\Ryans\\Finanacial Planner\\MCForecastTools.py:117: PerformanceWarning: DataFrame is highly fragmented.  This is usually the result of calling `frame.insert` many times, which has poor performance.  Consider joining all columns at once using pd.concat(axis=1) instead. To get a de-fragmented frame, use `newframe = frame.copy()`\n",
      "  portfolio_cumulative_returns[n] = (1 + sim_df.fillna(0)).cumprod()\n",
      "C:\\Users\\ryans\\Ryans\\Finanacial Planner\\MCForecastTools.py:117: PerformanceWarning: DataFrame is highly fragmented.  This is usually the result of calling `frame.insert` many times, which has poor performance.  Consider joining all columns at once using pd.concat(axis=1) instead. To get a de-fragmented frame, use `newframe = frame.copy()`\n",
      "  portfolio_cumulative_returns[n] = (1 + sim_df.fillna(0)).cumprod()\n",
      "C:\\Users\\ryans\\Ryans\\Finanacial Planner\\MCForecastTools.py:117: PerformanceWarning: DataFrame is highly fragmented.  This is usually the result of calling `frame.insert` many times, which has poor performance.  Consider joining all columns at once using pd.concat(axis=1) instead. To get a de-fragmented frame, use `newframe = frame.copy()`\n",
      "  portfolio_cumulative_returns[n] = (1 + sim_df.fillna(0)).cumprod()\n",
      "C:\\Users\\ryans\\Ryans\\Finanacial Planner\\MCForecastTools.py:117: PerformanceWarning: DataFrame is highly fragmented.  This is usually the result of calling `frame.insert` many times, which has poor performance.  Consider joining all columns at once using pd.concat(axis=1) instead. To get a de-fragmented frame, use `newframe = frame.copy()`\n",
      "  portfolio_cumulative_returns[n] = (1 + sim_df.fillna(0)).cumprod()\n",
      "C:\\Users\\ryans\\Ryans\\Finanacial Planner\\MCForecastTools.py:117: PerformanceWarning: DataFrame is highly fragmented.  This is usually the result of calling `frame.insert` many times, which has poor performance.  Consider joining all columns at once using pd.concat(axis=1) instead. To get a de-fragmented frame, use `newframe = frame.copy()`\n",
      "  portfolio_cumulative_returns[n] = (1 + sim_df.fillna(0)).cumprod()\n",
      "C:\\Users\\ryans\\Ryans\\Finanacial Planner\\MCForecastTools.py:117: PerformanceWarning: DataFrame is highly fragmented.  This is usually the result of calling `frame.insert` many times, which has poor performance.  Consider joining all columns at once using pd.concat(axis=1) instead. To get a de-fragmented frame, use `newframe = frame.copy()`\n",
      "  portfolio_cumulative_returns[n] = (1 + sim_df.fillna(0)).cumprod()\n",
      "C:\\Users\\ryans\\Ryans\\Finanacial Planner\\MCForecastTools.py:117: PerformanceWarning: DataFrame is highly fragmented.  This is usually the result of calling `frame.insert` many times, which has poor performance.  Consider joining all columns at once using pd.concat(axis=1) instead. To get a de-fragmented frame, use `newframe = frame.copy()`\n",
      "  portfolio_cumulative_returns[n] = (1 + sim_df.fillna(0)).cumprod()\n",
      "C:\\Users\\ryans\\Ryans\\Finanacial Planner\\MCForecastTools.py:117: PerformanceWarning: DataFrame is highly fragmented.  This is usually the result of calling `frame.insert` many times, which has poor performance.  Consider joining all columns at once using pd.concat(axis=1) instead. To get a de-fragmented frame, use `newframe = frame.copy()`\n",
      "  portfolio_cumulative_returns[n] = (1 + sim_df.fillna(0)).cumprod()\n"
     ]
    },
    {
     "name": "stdout",
     "output_type": "stream",
     "text": [
      "Running Monte Carlo simulation number 440.\n"
     ]
    },
    {
     "name": "stderr",
     "output_type": "stream",
     "text": [
      "C:\\Users\\ryans\\Ryans\\Finanacial Planner\\MCForecastTools.py:117: PerformanceWarning: DataFrame is highly fragmented.  This is usually the result of calling `frame.insert` many times, which has poor performance.  Consider joining all columns at once using pd.concat(axis=1) instead. To get a de-fragmented frame, use `newframe = frame.copy()`\n",
      "  portfolio_cumulative_returns[n] = (1 + sim_df.fillna(0)).cumprod()\n",
      "C:\\Users\\ryans\\Ryans\\Finanacial Planner\\MCForecastTools.py:117: PerformanceWarning: DataFrame is highly fragmented.  This is usually the result of calling `frame.insert` many times, which has poor performance.  Consider joining all columns at once using pd.concat(axis=1) instead. To get a de-fragmented frame, use `newframe = frame.copy()`\n",
      "  portfolio_cumulative_returns[n] = (1 + sim_df.fillna(0)).cumprod()\n",
      "C:\\Users\\ryans\\Ryans\\Finanacial Planner\\MCForecastTools.py:117: PerformanceWarning: DataFrame is highly fragmented.  This is usually the result of calling `frame.insert` many times, which has poor performance.  Consider joining all columns at once using pd.concat(axis=1) instead. To get a de-fragmented frame, use `newframe = frame.copy()`\n",
      "  portfolio_cumulative_returns[n] = (1 + sim_df.fillna(0)).cumprod()\n",
      "C:\\Users\\ryans\\Ryans\\Finanacial Planner\\MCForecastTools.py:117: PerformanceWarning: DataFrame is highly fragmented.  This is usually the result of calling `frame.insert` many times, which has poor performance.  Consider joining all columns at once using pd.concat(axis=1) instead. To get a de-fragmented frame, use `newframe = frame.copy()`\n",
      "  portfolio_cumulative_returns[n] = (1 + sim_df.fillna(0)).cumprod()\n",
      "C:\\Users\\ryans\\Ryans\\Finanacial Planner\\MCForecastTools.py:117: PerformanceWarning: DataFrame is highly fragmented.  This is usually the result of calling `frame.insert` many times, which has poor performance.  Consider joining all columns at once using pd.concat(axis=1) instead. To get a de-fragmented frame, use `newframe = frame.copy()`\n",
      "  portfolio_cumulative_returns[n] = (1 + sim_df.fillna(0)).cumprod()\n",
      "C:\\Users\\ryans\\Ryans\\Finanacial Planner\\MCForecastTools.py:117: PerformanceWarning: DataFrame is highly fragmented.  This is usually the result of calling `frame.insert` many times, which has poor performance.  Consider joining all columns at once using pd.concat(axis=1) instead. To get a de-fragmented frame, use `newframe = frame.copy()`\n",
      "  portfolio_cumulative_returns[n] = (1 + sim_df.fillna(0)).cumprod()\n",
      "C:\\Users\\ryans\\Ryans\\Finanacial Planner\\MCForecastTools.py:117: PerformanceWarning: DataFrame is highly fragmented.  This is usually the result of calling `frame.insert` many times, which has poor performance.  Consider joining all columns at once using pd.concat(axis=1) instead. To get a de-fragmented frame, use `newframe = frame.copy()`\n",
      "  portfolio_cumulative_returns[n] = (1 + sim_df.fillna(0)).cumprod()\n",
      "C:\\Users\\ryans\\Ryans\\Finanacial Planner\\MCForecastTools.py:117: PerformanceWarning: DataFrame is highly fragmented.  This is usually the result of calling `frame.insert` many times, which has poor performance.  Consider joining all columns at once using pd.concat(axis=1) instead. To get a de-fragmented frame, use `newframe = frame.copy()`\n",
      "  portfolio_cumulative_returns[n] = (1 + sim_df.fillna(0)).cumprod()\n",
      "C:\\Users\\ryans\\Ryans\\Finanacial Planner\\MCForecastTools.py:117: PerformanceWarning: DataFrame is highly fragmented.  This is usually the result of calling `frame.insert` many times, which has poor performance.  Consider joining all columns at once using pd.concat(axis=1) instead. To get a de-fragmented frame, use `newframe = frame.copy()`\n",
      "  portfolio_cumulative_returns[n] = (1 + sim_df.fillna(0)).cumprod()\n"
     ]
    },
    {
     "name": "stdout",
     "output_type": "stream",
     "text": [
      "Running Monte Carlo simulation number 450.\n"
     ]
    },
    {
     "name": "stderr",
     "output_type": "stream",
     "text": [
      "C:\\Users\\ryans\\Ryans\\Finanacial Planner\\MCForecastTools.py:117: PerformanceWarning: DataFrame is highly fragmented.  This is usually the result of calling `frame.insert` many times, which has poor performance.  Consider joining all columns at once using pd.concat(axis=1) instead. To get a de-fragmented frame, use `newframe = frame.copy()`\n",
      "  portfolio_cumulative_returns[n] = (1 + sim_df.fillna(0)).cumprod()\n",
      "C:\\Users\\ryans\\Ryans\\Finanacial Planner\\MCForecastTools.py:117: PerformanceWarning: DataFrame is highly fragmented.  This is usually the result of calling `frame.insert` many times, which has poor performance.  Consider joining all columns at once using pd.concat(axis=1) instead. To get a de-fragmented frame, use `newframe = frame.copy()`\n",
      "  portfolio_cumulative_returns[n] = (1 + sim_df.fillna(0)).cumprod()\n",
      "C:\\Users\\ryans\\Ryans\\Finanacial Planner\\MCForecastTools.py:117: PerformanceWarning: DataFrame is highly fragmented.  This is usually the result of calling `frame.insert` many times, which has poor performance.  Consider joining all columns at once using pd.concat(axis=1) instead. To get a de-fragmented frame, use `newframe = frame.copy()`\n",
      "  portfolio_cumulative_returns[n] = (1 + sim_df.fillna(0)).cumprod()\n",
      "C:\\Users\\ryans\\Ryans\\Finanacial Planner\\MCForecastTools.py:117: PerformanceWarning: DataFrame is highly fragmented.  This is usually the result of calling `frame.insert` many times, which has poor performance.  Consider joining all columns at once using pd.concat(axis=1) instead. To get a de-fragmented frame, use `newframe = frame.copy()`\n",
      "  portfolio_cumulative_returns[n] = (1 + sim_df.fillna(0)).cumprod()\n",
      "C:\\Users\\ryans\\Ryans\\Finanacial Planner\\MCForecastTools.py:117: PerformanceWarning: DataFrame is highly fragmented.  This is usually the result of calling `frame.insert` many times, which has poor performance.  Consider joining all columns at once using pd.concat(axis=1) instead. To get a de-fragmented frame, use `newframe = frame.copy()`\n",
      "  portfolio_cumulative_returns[n] = (1 + sim_df.fillna(0)).cumprod()\n",
      "C:\\Users\\ryans\\Ryans\\Finanacial Planner\\MCForecastTools.py:117: PerformanceWarning: DataFrame is highly fragmented.  This is usually the result of calling `frame.insert` many times, which has poor performance.  Consider joining all columns at once using pd.concat(axis=1) instead. To get a de-fragmented frame, use `newframe = frame.copy()`\n",
      "  portfolio_cumulative_returns[n] = (1 + sim_df.fillna(0)).cumprod()\n",
      "C:\\Users\\ryans\\Ryans\\Finanacial Planner\\MCForecastTools.py:117: PerformanceWarning: DataFrame is highly fragmented.  This is usually the result of calling `frame.insert` many times, which has poor performance.  Consider joining all columns at once using pd.concat(axis=1) instead. To get a de-fragmented frame, use `newframe = frame.copy()`\n",
      "  portfolio_cumulative_returns[n] = (1 + sim_df.fillna(0)).cumprod()\n",
      "C:\\Users\\ryans\\Ryans\\Finanacial Planner\\MCForecastTools.py:117: PerformanceWarning: DataFrame is highly fragmented.  This is usually the result of calling `frame.insert` many times, which has poor performance.  Consider joining all columns at once using pd.concat(axis=1) instead. To get a de-fragmented frame, use `newframe = frame.copy()`\n",
      "  portfolio_cumulative_returns[n] = (1 + sim_df.fillna(0)).cumprod()\n",
      "C:\\Users\\ryans\\Ryans\\Finanacial Planner\\MCForecastTools.py:117: PerformanceWarning: DataFrame is highly fragmented.  This is usually the result of calling `frame.insert` many times, which has poor performance.  Consider joining all columns at once using pd.concat(axis=1) instead. To get a de-fragmented frame, use `newframe = frame.copy()`\n",
      "  portfolio_cumulative_returns[n] = (1 + sim_df.fillna(0)).cumprod()\n",
      "C:\\Users\\ryans\\Ryans\\Finanacial Planner\\MCForecastTools.py:117: PerformanceWarning: DataFrame is highly fragmented.  This is usually the result of calling `frame.insert` many times, which has poor performance.  Consider joining all columns at once using pd.concat(axis=1) instead. To get a de-fragmented frame, use `newframe = frame.copy()`\n",
      "  portfolio_cumulative_returns[n] = (1 + sim_df.fillna(0)).cumprod()\n",
      "C:\\Users\\ryans\\Ryans\\Finanacial Planner\\MCForecastTools.py:117: PerformanceWarning: DataFrame is highly fragmented.  This is usually the result of calling `frame.insert` many times, which has poor performance.  Consider joining all columns at once using pd.concat(axis=1) instead. To get a de-fragmented frame, use `newframe = frame.copy()`\n",
      "  portfolio_cumulative_returns[n] = (1 + sim_df.fillna(0)).cumprod()\n"
     ]
    },
    {
     "name": "stdout",
     "output_type": "stream",
     "text": [
      "Running Monte Carlo simulation number 460.\n"
     ]
    },
    {
     "name": "stderr",
     "output_type": "stream",
     "text": [
      "C:\\Users\\ryans\\Ryans\\Finanacial Planner\\MCForecastTools.py:117: PerformanceWarning: DataFrame is highly fragmented.  This is usually the result of calling `frame.insert` many times, which has poor performance.  Consider joining all columns at once using pd.concat(axis=1) instead. To get a de-fragmented frame, use `newframe = frame.copy()`\n",
      "  portfolio_cumulative_returns[n] = (1 + sim_df.fillna(0)).cumprod()\n",
      "C:\\Users\\ryans\\Ryans\\Finanacial Planner\\MCForecastTools.py:117: PerformanceWarning: DataFrame is highly fragmented.  This is usually the result of calling `frame.insert` many times, which has poor performance.  Consider joining all columns at once using pd.concat(axis=1) instead. To get a de-fragmented frame, use `newframe = frame.copy()`\n",
      "  portfolio_cumulative_returns[n] = (1 + sim_df.fillna(0)).cumprod()\n",
      "C:\\Users\\ryans\\Ryans\\Finanacial Planner\\MCForecastTools.py:117: PerformanceWarning: DataFrame is highly fragmented.  This is usually the result of calling `frame.insert` many times, which has poor performance.  Consider joining all columns at once using pd.concat(axis=1) instead. To get a de-fragmented frame, use `newframe = frame.copy()`\n",
      "  portfolio_cumulative_returns[n] = (1 + sim_df.fillna(0)).cumprod()\n",
      "C:\\Users\\ryans\\Ryans\\Finanacial Planner\\MCForecastTools.py:117: PerformanceWarning: DataFrame is highly fragmented.  This is usually the result of calling `frame.insert` many times, which has poor performance.  Consider joining all columns at once using pd.concat(axis=1) instead. To get a de-fragmented frame, use `newframe = frame.copy()`\n",
      "  portfolio_cumulative_returns[n] = (1 + sim_df.fillna(0)).cumprod()\n",
      "C:\\Users\\ryans\\Ryans\\Finanacial Planner\\MCForecastTools.py:117: PerformanceWarning: DataFrame is highly fragmented.  This is usually the result of calling `frame.insert` many times, which has poor performance.  Consider joining all columns at once using pd.concat(axis=1) instead. To get a de-fragmented frame, use `newframe = frame.copy()`\n",
      "  portfolio_cumulative_returns[n] = (1 + sim_df.fillna(0)).cumprod()\n",
      "C:\\Users\\ryans\\Ryans\\Finanacial Planner\\MCForecastTools.py:117: PerformanceWarning: DataFrame is highly fragmented.  This is usually the result of calling `frame.insert` many times, which has poor performance.  Consider joining all columns at once using pd.concat(axis=1) instead. To get a de-fragmented frame, use `newframe = frame.copy()`\n",
      "  portfolio_cumulative_returns[n] = (1 + sim_df.fillna(0)).cumprod()\n",
      "C:\\Users\\ryans\\Ryans\\Finanacial Planner\\MCForecastTools.py:117: PerformanceWarning: DataFrame is highly fragmented.  This is usually the result of calling `frame.insert` many times, which has poor performance.  Consider joining all columns at once using pd.concat(axis=1) instead. To get a de-fragmented frame, use `newframe = frame.copy()`\n",
      "  portfolio_cumulative_returns[n] = (1 + sim_df.fillna(0)).cumprod()\n",
      "C:\\Users\\ryans\\Ryans\\Finanacial Planner\\MCForecastTools.py:117: PerformanceWarning: DataFrame is highly fragmented.  This is usually the result of calling `frame.insert` many times, which has poor performance.  Consider joining all columns at once using pd.concat(axis=1) instead. To get a de-fragmented frame, use `newframe = frame.copy()`\n",
      "  portfolio_cumulative_returns[n] = (1 + sim_df.fillna(0)).cumprod()\n",
      "C:\\Users\\ryans\\Ryans\\Finanacial Planner\\MCForecastTools.py:117: PerformanceWarning: DataFrame is highly fragmented.  This is usually the result of calling `frame.insert` many times, which has poor performance.  Consider joining all columns at once using pd.concat(axis=1) instead. To get a de-fragmented frame, use `newframe = frame.copy()`\n",
      "  portfolio_cumulative_returns[n] = (1 + sim_df.fillna(0)).cumprod()\n",
      "C:\\Users\\ryans\\Ryans\\Finanacial Planner\\MCForecastTools.py:117: PerformanceWarning: DataFrame is highly fragmented.  This is usually the result of calling `frame.insert` many times, which has poor performance.  Consider joining all columns at once using pd.concat(axis=1) instead. To get a de-fragmented frame, use `newframe = frame.copy()`\n",
      "  portfolio_cumulative_returns[n] = (1 + sim_df.fillna(0)).cumprod()\n",
      "C:\\Users\\ryans\\Ryans\\Finanacial Planner\\MCForecastTools.py:117: PerformanceWarning: DataFrame is highly fragmented.  This is usually the result of calling `frame.insert` many times, which has poor performance.  Consider joining all columns at once using pd.concat(axis=1) instead. To get a de-fragmented frame, use `newframe = frame.copy()`\n",
      "  portfolio_cumulative_returns[n] = (1 + sim_df.fillna(0)).cumprod()\n"
     ]
    },
    {
     "name": "stdout",
     "output_type": "stream",
     "text": [
      "Running Monte Carlo simulation number 470.\n"
     ]
    },
    {
     "name": "stderr",
     "output_type": "stream",
     "text": [
      "C:\\Users\\ryans\\Ryans\\Finanacial Planner\\MCForecastTools.py:117: PerformanceWarning: DataFrame is highly fragmented.  This is usually the result of calling `frame.insert` many times, which has poor performance.  Consider joining all columns at once using pd.concat(axis=1) instead. To get a de-fragmented frame, use `newframe = frame.copy()`\n",
      "  portfolio_cumulative_returns[n] = (1 + sim_df.fillna(0)).cumprod()\n",
      "C:\\Users\\ryans\\Ryans\\Finanacial Planner\\MCForecastTools.py:117: PerformanceWarning: DataFrame is highly fragmented.  This is usually the result of calling `frame.insert` many times, which has poor performance.  Consider joining all columns at once using pd.concat(axis=1) instead. To get a de-fragmented frame, use `newframe = frame.copy()`\n",
      "  portfolio_cumulative_returns[n] = (1 + sim_df.fillna(0)).cumprod()\n",
      "C:\\Users\\ryans\\Ryans\\Finanacial Planner\\MCForecastTools.py:117: PerformanceWarning: DataFrame is highly fragmented.  This is usually the result of calling `frame.insert` many times, which has poor performance.  Consider joining all columns at once using pd.concat(axis=1) instead. To get a de-fragmented frame, use `newframe = frame.copy()`\n",
      "  portfolio_cumulative_returns[n] = (1 + sim_df.fillna(0)).cumprod()\n",
      "C:\\Users\\ryans\\Ryans\\Finanacial Planner\\MCForecastTools.py:117: PerformanceWarning: DataFrame is highly fragmented.  This is usually the result of calling `frame.insert` many times, which has poor performance.  Consider joining all columns at once using pd.concat(axis=1) instead. To get a de-fragmented frame, use `newframe = frame.copy()`\n",
      "  portfolio_cumulative_returns[n] = (1 + sim_df.fillna(0)).cumprod()\n",
      "C:\\Users\\ryans\\Ryans\\Finanacial Planner\\MCForecastTools.py:117: PerformanceWarning: DataFrame is highly fragmented.  This is usually the result of calling `frame.insert` many times, which has poor performance.  Consider joining all columns at once using pd.concat(axis=1) instead. To get a de-fragmented frame, use `newframe = frame.copy()`\n",
      "  portfolio_cumulative_returns[n] = (1 + sim_df.fillna(0)).cumprod()\n",
      "C:\\Users\\ryans\\Ryans\\Finanacial Planner\\MCForecastTools.py:117: PerformanceWarning: DataFrame is highly fragmented.  This is usually the result of calling `frame.insert` many times, which has poor performance.  Consider joining all columns at once using pd.concat(axis=1) instead. To get a de-fragmented frame, use `newframe = frame.copy()`\n",
      "  portfolio_cumulative_returns[n] = (1 + sim_df.fillna(0)).cumprod()\n",
      "C:\\Users\\ryans\\Ryans\\Finanacial Planner\\MCForecastTools.py:117: PerformanceWarning: DataFrame is highly fragmented.  This is usually the result of calling `frame.insert` many times, which has poor performance.  Consider joining all columns at once using pd.concat(axis=1) instead. To get a de-fragmented frame, use `newframe = frame.copy()`\n",
      "  portfolio_cumulative_returns[n] = (1 + sim_df.fillna(0)).cumprod()\n",
      "C:\\Users\\ryans\\Ryans\\Finanacial Planner\\MCForecastTools.py:117: PerformanceWarning: DataFrame is highly fragmented.  This is usually the result of calling `frame.insert` many times, which has poor performance.  Consider joining all columns at once using pd.concat(axis=1) instead. To get a de-fragmented frame, use `newframe = frame.copy()`\n",
      "  portfolio_cumulative_returns[n] = (1 + sim_df.fillna(0)).cumprod()\n",
      "C:\\Users\\ryans\\Ryans\\Finanacial Planner\\MCForecastTools.py:117: PerformanceWarning: DataFrame is highly fragmented.  This is usually the result of calling `frame.insert` many times, which has poor performance.  Consider joining all columns at once using pd.concat(axis=1) instead. To get a de-fragmented frame, use `newframe = frame.copy()`\n",
      "  portfolio_cumulative_returns[n] = (1 + sim_df.fillna(0)).cumprod()\n"
     ]
    },
    {
     "name": "stdout",
     "output_type": "stream",
     "text": [
      "Running Monte Carlo simulation number 480.\n"
     ]
    },
    {
     "name": "stderr",
     "output_type": "stream",
     "text": [
      "C:\\Users\\ryans\\Ryans\\Finanacial Planner\\MCForecastTools.py:117: PerformanceWarning: DataFrame is highly fragmented.  This is usually the result of calling `frame.insert` many times, which has poor performance.  Consider joining all columns at once using pd.concat(axis=1) instead. To get a de-fragmented frame, use `newframe = frame.copy()`\n",
      "  portfolio_cumulative_returns[n] = (1 + sim_df.fillna(0)).cumprod()\n",
      "C:\\Users\\ryans\\Ryans\\Finanacial Planner\\MCForecastTools.py:117: PerformanceWarning: DataFrame is highly fragmented.  This is usually the result of calling `frame.insert` many times, which has poor performance.  Consider joining all columns at once using pd.concat(axis=1) instead. To get a de-fragmented frame, use `newframe = frame.copy()`\n",
      "  portfolio_cumulative_returns[n] = (1 + sim_df.fillna(0)).cumprod()\n",
      "C:\\Users\\ryans\\Ryans\\Finanacial Planner\\MCForecastTools.py:117: PerformanceWarning: DataFrame is highly fragmented.  This is usually the result of calling `frame.insert` many times, which has poor performance.  Consider joining all columns at once using pd.concat(axis=1) instead. To get a de-fragmented frame, use `newframe = frame.copy()`\n",
      "  portfolio_cumulative_returns[n] = (1 + sim_df.fillna(0)).cumprod()\n",
      "C:\\Users\\ryans\\Ryans\\Finanacial Planner\\MCForecastTools.py:117: PerformanceWarning: DataFrame is highly fragmented.  This is usually the result of calling `frame.insert` many times, which has poor performance.  Consider joining all columns at once using pd.concat(axis=1) instead. To get a de-fragmented frame, use `newframe = frame.copy()`\n",
      "  portfolio_cumulative_returns[n] = (1 + sim_df.fillna(0)).cumprod()\n",
      "C:\\Users\\ryans\\Ryans\\Finanacial Planner\\MCForecastTools.py:117: PerformanceWarning: DataFrame is highly fragmented.  This is usually the result of calling `frame.insert` many times, which has poor performance.  Consider joining all columns at once using pd.concat(axis=1) instead. To get a de-fragmented frame, use `newframe = frame.copy()`\n",
      "  portfolio_cumulative_returns[n] = (1 + sim_df.fillna(0)).cumprod()\n",
      "C:\\Users\\ryans\\Ryans\\Finanacial Planner\\MCForecastTools.py:117: PerformanceWarning: DataFrame is highly fragmented.  This is usually the result of calling `frame.insert` many times, which has poor performance.  Consider joining all columns at once using pd.concat(axis=1) instead. To get a de-fragmented frame, use `newframe = frame.copy()`\n",
      "  portfolio_cumulative_returns[n] = (1 + sim_df.fillna(0)).cumprod()\n",
      "C:\\Users\\ryans\\Ryans\\Finanacial Planner\\MCForecastTools.py:117: PerformanceWarning: DataFrame is highly fragmented.  This is usually the result of calling `frame.insert` many times, which has poor performance.  Consider joining all columns at once using pd.concat(axis=1) instead. To get a de-fragmented frame, use `newframe = frame.copy()`\n",
      "  portfolio_cumulative_returns[n] = (1 + sim_df.fillna(0)).cumprod()\n",
      "C:\\Users\\ryans\\Ryans\\Finanacial Planner\\MCForecastTools.py:117: PerformanceWarning: DataFrame is highly fragmented.  This is usually the result of calling `frame.insert` many times, which has poor performance.  Consider joining all columns at once using pd.concat(axis=1) instead. To get a de-fragmented frame, use `newframe = frame.copy()`\n",
      "  portfolio_cumulative_returns[n] = (1 + sim_df.fillna(0)).cumprod()\n",
      "C:\\Users\\ryans\\Ryans\\Finanacial Planner\\MCForecastTools.py:117: PerformanceWarning: DataFrame is highly fragmented.  This is usually the result of calling `frame.insert` many times, which has poor performance.  Consider joining all columns at once using pd.concat(axis=1) instead. To get a de-fragmented frame, use `newframe = frame.copy()`\n",
      "  portfolio_cumulative_returns[n] = (1 + sim_df.fillna(0)).cumprod()\n"
     ]
    },
    {
     "name": "stdout",
     "output_type": "stream",
     "text": [
      "Running Monte Carlo simulation number 490.\n"
     ]
    },
    {
     "name": "stderr",
     "output_type": "stream",
     "text": [
      "C:\\Users\\ryans\\Ryans\\Finanacial Planner\\MCForecastTools.py:117: PerformanceWarning: DataFrame is highly fragmented.  This is usually the result of calling `frame.insert` many times, which has poor performance.  Consider joining all columns at once using pd.concat(axis=1) instead. To get a de-fragmented frame, use `newframe = frame.copy()`\n",
      "  portfolio_cumulative_returns[n] = (1 + sim_df.fillna(0)).cumprod()\n",
      "C:\\Users\\ryans\\Ryans\\Finanacial Planner\\MCForecastTools.py:117: PerformanceWarning: DataFrame is highly fragmented.  This is usually the result of calling `frame.insert` many times, which has poor performance.  Consider joining all columns at once using pd.concat(axis=1) instead. To get a de-fragmented frame, use `newframe = frame.copy()`\n",
      "  portfolio_cumulative_returns[n] = (1 + sim_df.fillna(0)).cumprod()\n",
      "C:\\Users\\ryans\\Ryans\\Finanacial Planner\\MCForecastTools.py:117: PerformanceWarning: DataFrame is highly fragmented.  This is usually the result of calling `frame.insert` many times, which has poor performance.  Consider joining all columns at once using pd.concat(axis=1) instead. To get a de-fragmented frame, use `newframe = frame.copy()`\n",
      "  portfolio_cumulative_returns[n] = (1 + sim_df.fillna(0)).cumprod()\n",
      "C:\\Users\\ryans\\Ryans\\Finanacial Planner\\MCForecastTools.py:117: PerformanceWarning: DataFrame is highly fragmented.  This is usually the result of calling `frame.insert` many times, which has poor performance.  Consider joining all columns at once using pd.concat(axis=1) instead. To get a de-fragmented frame, use `newframe = frame.copy()`\n",
      "  portfolio_cumulative_returns[n] = (1 + sim_df.fillna(0)).cumprod()\n",
      "C:\\Users\\ryans\\Ryans\\Finanacial Planner\\MCForecastTools.py:117: PerformanceWarning: DataFrame is highly fragmented.  This is usually the result of calling `frame.insert` many times, which has poor performance.  Consider joining all columns at once using pd.concat(axis=1) instead. To get a de-fragmented frame, use `newframe = frame.copy()`\n",
      "  portfolio_cumulative_returns[n] = (1 + sim_df.fillna(0)).cumprod()\n",
      "C:\\Users\\ryans\\Ryans\\Finanacial Planner\\MCForecastTools.py:117: PerformanceWarning: DataFrame is highly fragmented.  This is usually the result of calling `frame.insert` many times, which has poor performance.  Consider joining all columns at once using pd.concat(axis=1) instead. To get a de-fragmented frame, use `newframe = frame.copy()`\n",
      "  portfolio_cumulative_returns[n] = (1 + sim_df.fillna(0)).cumprod()\n",
      "C:\\Users\\ryans\\Ryans\\Finanacial Planner\\MCForecastTools.py:117: PerformanceWarning: DataFrame is highly fragmented.  This is usually the result of calling `frame.insert` many times, which has poor performance.  Consider joining all columns at once using pd.concat(axis=1) instead. To get a de-fragmented frame, use `newframe = frame.copy()`\n",
      "  portfolio_cumulative_returns[n] = (1 + sim_df.fillna(0)).cumprod()\n",
      "C:\\Users\\ryans\\Ryans\\Finanacial Planner\\MCForecastTools.py:117: PerformanceWarning: DataFrame is highly fragmented.  This is usually the result of calling `frame.insert` many times, which has poor performance.  Consider joining all columns at once using pd.concat(axis=1) instead. To get a de-fragmented frame, use `newframe = frame.copy()`\n",
      "  portfolio_cumulative_returns[n] = (1 + sim_df.fillna(0)).cumprod()\n",
      "C:\\Users\\ryans\\Ryans\\Finanacial Planner\\MCForecastTools.py:117: PerformanceWarning: DataFrame is highly fragmented.  This is usually the result of calling `frame.insert` many times, which has poor performance.  Consider joining all columns at once using pd.concat(axis=1) instead. To get a de-fragmented frame, use `newframe = frame.copy()`\n",
      "  portfolio_cumulative_returns[n] = (1 + sim_df.fillna(0)).cumprod()\n",
      "C:\\Users\\ryans\\Ryans\\Finanacial Planner\\MCForecastTools.py:117: PerformanceWarning: DataFrame is highly fragmented.  This is usually the result of calling `frame.insert` many times, which has poor performance.  Consider joining all columns at once using pd.concat(axis=1) instead. To get a de-fragmented frame, use `newframe = frame.copy()`\n",
      "  portfolio_cumulative_returns[n] = (1 + sim_df.fillna(0)).cumprod()\n"
     ]
    },
    {
     "data": {
      "text/html": [
       "<div>\n",
       "<style scoped>\n",
       "    .dataframe tbody tr th:only-of-type {\n",
       "        vertical-align: middle;\n",
       "    }\n",
       "\n",
       "    .dataframe tbody tr th {\n",
       "        vertical-align: top;\n",
       "    }\n",
       "\n",
       "    .dataframe thead th {\n",
       "        text-align: right;\n",
       "    }\n",
       "</style>\n",
       "<table border=\"1\" class=\"dataframe\">\n",
       "  <thead>\n",
       "    <tr style=\"text-align: right;\">\n",
       "      <th></th>\n",
       "      <th>0</th>\n",
       "      <th>1</th>\n",
       "      <th>2</th>\n",
       "      <th>3</th>\n",
       "      <th>4</th>\n",
       "      <th>5</th>\n",
       "      <th>6</th>\n",
       "      <th>7</th>\n",
       "      <th>8</th>\n",
       "      <th>9</th>\n",
       "      <th>...</th>\n",
       "      <th>490</th>\n",
       "      <th>491</th>\n",
       "      <th>492</th>\n",
       "      <th>493</th>\n",
       "      <th>494</th>\n",
       "      <th>495</th>\n",
       "      <th>496</th>\n",
       "      <th>497</th>\n",
       "      <th>498</th>\n",
       "      <th>499</th>\n",
       "    </tr>\n",
       "  </thead>\n",
       "  <tbody>\n",
       "    <tr>\n",
       "      <th>0</th>\n",
       "      <td>1.000000</td>\n",
       "      <td>1.000000</td>\n",
       "      <td>1.000000</td>\n",
       "      <td>1.000000</td>\n",
       "      <td>1.000000</td>\n",
       "      <td>1.000000</td>\n",
       "      <td>1.000000</td>\n",
       "      <td>1.000000</td>\n",
       "      <td>1.000000</td>\n",
       "      <td>1.000000</td>\n",
       "      <td>...</td>\n",
       "      <td>1.000000</td>\n",
       "      <td>1.000000</td>\n",
       "      <td>1.000000</td>\n",
       "      <td>1.000000</td>\n",
       "      <td>1.000000</td>\n",
       "      <td>1.000000</td>\n",
       "      <td>1.000000</td>\n",
       "      <td>1.000000</td>\n",
       "      <td>1.000000</td>\n",
       "      <td>1.000000</td>\n",
       "    </tr>\n",
       "    <tr>\n",
       "      <th>1</th>\n",
       "      <td>1.003305</td>\n",
       "      <td>1.005920</td>\n",
       "      <td>0.996127</td>\n",
       "      <td>1.020177</td>\n",
       "      <td>0.995182</td>\n",
       "      <td>0.996077</td>\n",
       "      <td>0.994838</td>\n",
       "      <td>0.994520</td>\n",
       "      <td>0.991619</td>\n",
       "      <td>0.999231</td>\n",
       "      <td>...</td>\n",
       "      <td>1.000358</td>\n",
       "      <td>1.000730</td>\n",
       "      <td>0.999439</td>\n",
       "      <td>0.999886</td>\n",
       "      <td>0.991416</td>\n",
       "      <td>0.995666</td>\n",
       "      <td>1.010142</td>\n",
       "      <td>0.998864</td>\n",
       "      <td>0.994274</td>\n",
       "      <td>0.992581</td>\n",
       "    </tr>\n",
       "    <tr>\n",
       "      <th>2</th>\n",
       "      <td>1.006752</td>\n",
       "      <td>1.009233</td>\n",
       "      <td>0.988799</td>\n",
       "      <td>1.025994</td>\n",
       "      <td>0.992170</td>\n",
       "      <td>1.000021</td>\n",
       "      <td>1.000305</td>\n",
       "      <td>1.003687</td>\n",
       "      <td>0.981683</td>\n",
       "      <td>1.001305</td>\n",
       "      <td>...</td>\n",
       "      <td>1.004653</td>\n",
       "      <td>1.002486</td>\n",
       "      <td>1.001717</td>\n",
       "      <td>0.996144</td>\n",
       "      <td>0.986375</td>\n",
       "      <td>0.999501</td>\n",
       "      <td>1.004679</td>\n",
       "      <td>1.004619</td>\n",
       "      <td>0.998893</td>\n",
       "      <td>0.994842</td>\n",
       "    </tr>\n",
       "    <tr>\n",
       "      <th>3</th>\n",
       "      <td>1.009474</td>\n",
       "      <td>1.017031</td>\n",
       "      <td>0.992648</td>\n",
       "      <td>1.026128</td>\n",
       "      <td>0.985795</td>\n",
       "      <td>1.000777</td>\n",
       "      <td>0.992496</td>\n",
       "      <td>1.018537</td>\n",
       "      <td>0.980662</td>\n",
       "      <td>1.000948</td>\n",
       "      <td>...</td>\n",
       "      <td>1.002947</td>\n",
       "      <td>0.988159</td>\n",
       "      <td>0.997450</td>\n",
       "      <td>0.993598</td>\n",
       "      <td>0.978777</td>\n",
       "      <td>0.997922</td>\n",
       "      <td>0.999144</td>\n",
       "      <td>1.004931</td>\n",
       "      <td>0.994282</td>\n",
       "      <td>0.998866</td>\n",
       "    </tr>\n",
       "    <tr>\n",
       "      <th>4</th>\n",
       "      <td>0.997053</td>\n",
       "      <td>1.018371</td>\n",
       "      <td>0.987357</td>\n",
       "      <td>1.026507</td>\n",
       "      <td>0.988009</td>\n",
       "      <td>0.994833</td>\n",
       "      <td>0.992070</td>\n",
       "      <td>1.020390</td>\n",
       "      <td>0.974074</td>\n",
       "      <td>0.999834</td>\n",
       "      <td>...</td>\n",
       "      <td>1.012380</td>\n",
       "      <td>0.999089</td>\n",
       "      <td>0.998827</td>\n",
       "      <td>0.984836</td>\n",
       "      <td>0.982134</td>\n",
       "      <td>0.996970</td>\n",
       "      <td>1.003035</td>\n",
       "      <td>1.002067</td>\n",
       "      <td>0.987077</td>\n",
       "      <td>0.997526</td>\n",
       "    </tr>\n",
       "    <tr>\n",
       "      <th>...</th>\n",
       "      <td>...</td>\n",
       "      <td>...</td>\n",
       "      <td>...</td>\n",
       "      <td>...</td>\n",
       "      <td>...</td>\n",
       "      <td>...</td>\n",
       "      <td>...</td>\n",
       "      <td>...</td>\n",
       "      <td>...</td>\n",
       "      <td>...</td>\n",
       "      <td>...</td>\n",
       "      <td>...</td>\n",
       "      <td>...</td>\n",
       "      <td>...</td>\n",
       "      <td>...</td>\n",
       "      <td>...</td>\n",
       "      <td>...</td>\n",
       "      <td>...</td>\n",
       "      <td>...</td>\n",
       "      <td>...</td>\n",
       "      <td>...</td>\n",
       "    </tr>\n",
       "    <tr>\n",
       "      <th>7556</th>\n",
       "      <td>2.089660</td>\n",
       "      <td>1.996749</td>\n",
       "      <td>0.792767</td>\n",
       "      <td>1.673249</td>\n",
       "      <td>2.738876</td>\n",
       "      <td>0.913786</td>\n",
       "      <td>2.248162</td>\n",
       "      <td>1.737910</td>\n",
       "      <td>1.908170</td>\n",
       "      <td>2.060117</td>\n",
       "      <td>...</td>\n",
       "      <td>4.434982</td>\n",
       "      <td>6.302557</td>\n",
       "      <td>1.699510</td>\n",
       "      <td>3.992152</td>\n",
       "      <td>4.227948</td>\n",
       "      <td>2.860286</td>\n",
       "      <td>1.286299</td>\n",
       "      <td>1.260135</td>\n",
       "      <td>1.532161</td>\n",
       "      <td>2.441187</td>\n",
       "    </tr>\n",
       "    <tr>\n",
       "      <th>7557</th>\n",
       "      <td>2.090380</td>\n",
       "      <td>2.018355</td>\n",
       "      <td>0.793390</td>\n",
       "      <td>1.679194</td>\n",
       "      <td>2.728070</td>\n",
       "      <td>0.911589</td>\n",
       "      <td>2.232129</td>\n",
       "      <td>1.747921</td>\n",
       "      <td>1.928020</td>\n",
       "      <td>2.064696</td>\n",
       "      <td>...</td>\n",
       "      <td>4.461623</td>\n",
       "      <td>6.353141</td>\n",
       "      <td>1.710733</td>\n",
       "      <td>3.968173</td>\n",
       "      <td>4.206233</td>\n",
       "      <td>2.841287</td>\n",
       "      <td>1.292686</td>\n",
       "      <td>1.260032</td>\n",
       "      <td>1.535806</td>\n",
       "      <td>2.417479</td>\n",
       "    </tr>\n",
       "    <tr>\n",
       "      <th>7558</th>\n",
       "      <td>2.098752</td>\n",
       "      <td>1.992122</td>\n",
       "      <td>0.794233</td>\n",
       "      <td>1.692052</td>\n",
       "      <td>2.722936</td>\n",
       "      <td>0.914211</td>\n",
       "      <td>2.236939</td>\n",
       "      <td>1.732034</td>\n",
       "      <td>1.930348</td>\n",
       "      <td>2.061747</td>\n",
       "      <td>...</td>\n",
       "      <td>4.448721</td>\n",
       "      <td>6.340787</td>\n",
       "      <td>1.727741</td>\n",
       "      <td>3.980742</td>\n",
       "      <td>4.246121</td>\n",
       "      <td>2.844354</td>\n",
       "      <td>1.306380</td>\n",
       "      <td>1.243173</td>\n",
       "      <td>1.541488</td>\n",
       "      <td>2.441659</td>\n",
       "    </tr>\n",
       "    <tr>\n",
       "      <th>7559</th>\n",
       "      <td>2.093403</td>\n",
       "      <td>1.999955</td>\n",
       "      <td>0.790753</td>\n",
       "      <td>1.677927</td>\n",
       "      <td>2.715925</td>\n",
       "      <td>0.913654</td>\n",
       "      <td>2.254923</td>\n",
       "      <td>1.718993</td>\n",
       "      <td>1.957946</td>\n",
       "      <td>2.059019</td>\n",
       "      <td>...</td>\n",
       "      <td>4.466885</td>\n",
       "      <td>6.319550</td>\n",
       "      <td>1.737540</td>\n",
       "      <td>3.998417</td>\n",
       "      <td>4.232257</td>\n",
       "      <td>2.858966</td>\n",
       "      <td>1.303563</td>\n",
       "      <td>1.243509</td>\n",
       "      <td>1.548152</td>\n",
       "      <td>2.424085</td>\n",
       "    </tr>\n",
       "    <tr>\n",
       "      <th>7560</th>\n",
       "      <td>2.086591</td>\n",
       "      <td>2.006870</td>\n",
       "      <td>0.793997</td>\n",
       "      <td>1.664914</td>\n",
       "      <td>2.741357</td>\n",
       "      <td>0.911750</td>\n",
       "      <td>2.259708</td>\n",
       "      <td>1.717995</td>\n",
       "      <td>1.944307</td>\n",
       "      <td>2.042249</td>\n",
       "      <td>...</td>\n",
       "      <td>4.508124</td>\n",
       "      <td>6.354875</td>\n",
       "      <td>1.731055</td>\n",
       "      <td>3.986096</td>\n",
       "      <td>4.248266</td>\n",
       "      <td>2.846207</td>\n",
       "      <td>1.299535</td>\n",
       "      <td>1.252924</td>\n",
       "      <td>1.555826</td>\n",
       "      <td>2.445536</td>\n",
       "    </tr>\n",
       "  </tbody>\n",
       "</table>\n",
       "<p>7561 rows × 500 columns</p>\n",
       "</div>"
      ],
      "text/plain": [
       "           0         1         2         3         4         5         6    \\\n",
       "0     1.000000  1.000000  1.000000  1.000000  1.000000  1.000000  1.000000   \n",
       "1     1.003305  1.005920  0.996127  1.020177  0.995182  0.996077  0.994838   \n",
       "2     1.006752  1.009233  0.988799  1.025994  0.992170  1.000021  1.000305   \n",
       "3     1.009474  1.017031  0.992648  1.026128  0.985795  1.000777  0.992496   \n",
       "4     0.997053  1.018371  0.987357  1.026507  0.988009  0.994833  0.992070   \n",
       "...        ...       ...       ...       ...       ...       ...       ...   \n",
       "7556  2.089660  1.996749  0.792767  1.673249  2.738876  0.913786  2.248162   \n",
       "7557  2.090380  2.018355  0.793390  1.679194  2.728070  0.911589  2.232129   \n",
       "7558  2.098752  1.992122  0.794233  1.692052  2.722936  0.914211  2.236939   \n",
       "7559  2.093403  1.999955  0.790753  1.677927  2.715925  0.913654  2.254923   \n",
       "7560  2.086591  2.006870  0.793997  1.664914  2.741357  0.911750  2.259708   \n",
       "\n",
       "           7         8         9    ...       490       491       492  \\\n",
       "0     1.000000  1.000000  1.000000  ...  1.000000  1.000000  1.000000   \n",
       "1     0.994520  0.991619  0.999231  ...  1.000358  1.000730  0.999439   \n",
       "2     1.003687  0.981683  1.001305  ...  1.004653  1.002486  1.001717   \n",
       "3     1.018537  0.980662  1.000948  ...  1.002947  0.988159  0.997450   \n",
       "4     1.020390  0.974074  0.999834  ...  1.012380  0.999089  0.998827   \n",
       "...        ...       ...       ...  ...       ...       ...       ...   \n",
       "7556  1.737910  1.908170  2.060117  ...  4.434982  6.302557  1.699510   \n",
       "7557  1.747921  1.928020  2.064696  ...  4.461623  6.353141  1.710733   \n",
       "7558  1.732034  1.930348  2.061747  ...  4.448721  6.340787  1.727741   \n",
       "7559  1.718993  1.957946  2.059019  ...  4.466885  6.319550  1.737540   \n",
       "7560  1.717995  1.944307  2.042249  ...  4.508124  6.354875  1.731055   \n",
       "\n",
       "           493       494       495       496       497       498       499  \n",
       "0     1.000000  1.000000  1.000000  1.000000  1.000000  1.000000  1.000000  \n",
       "1     0.999886  0.991416  0.995666  1.010142  0.998864  0.994274  0.992581  \n",
       "2     0.996144  0.986375  0.999501  1.004679  1.004619  0.998893  0.994842  \n",
       "3     0.993598  0.978777  0.997922  0.999144  1.004931  0.994282  0.998866  \n",
       "4     0.984836  0.982134  0.996970  1.003035  1.002067  0.987077  0.997526  \n",
       "...        ...       ...       ...       ...       ...       ...       ...  \n",
       "7556  3.992152  4.227948  2.860286  1.286299  1.260135  1.532161  2.441187  \n",
       "7557  3.968173  4.206233  2.841287  1.292686  1.260032  1.535806  2.417479  \n",
       "7558  3.980742  4.246121  2.844354  1.306380  1.243173  1.541488  2.441659  \n",
       "7559  3.998417  4.232257  2.858966  1.303563  1.243509  1.548152  2.424085  \n",
       "7560  3.986096  4.248266  2.846207  1.299535  1.252924  1.555826  2.445536  \n",
       "\n",
       "[7561 rows x 500 columns]"
      ]
     },
     "execution_count": 32,
     "metadata": {},
     "output_type": "execute_result"
    }
   ],
   "source": [
    "# Running a Monte Carlo simulation to forecast 30 years cumulative returns\n",
    "MC_agg_spy.calc_cumulative_return()"
   ]
  },
  {
   "cell_type": "code",
   "execution_count": 33,
   "metadata": {},
   "outputs": [
    {
     "data": {
      "image/png": "[encoded data removed]",
      "text/plain": [
       "<Figure size 640x480 with 1 Axes>"
      ]
     },
     "metadata": {},
     "output_type": "display_data"
    }
   ],
   "source": [
    "# Plot simulation outcomes\n",
    "line_plot = MC_agg_spy.plot_simulation()"
   ]
  },
  {
   "cell_type": "code",
   "execution_count": 34,
   "metadata": {},
   "outputs": [
    {
     "data": {
      "image/png": "[encoded data removed]",
      "text/plain": [
       "<Figure size 640x480 with 1 Axes>"
      ]
     },
     "metadata": {},
     "output_type": "display_data"
    }
   ],
   "source": [
    "# Plot probability distribution and confidence intervals\n",
    "dist_plot = MC_agg_spy.plot_distribution()"
   ]
  },
  {
   "cell_type": "markdown",
   "metadata": {},
   "source": [
    "### Retirement Analysis"
   ]
  },
  {
   "cell_type": "code",
   "execution_count": 35,
   "metadata": {},
   "outputs": [
    {
     "name": "stdout",
     "output_type": "stream",
     "text": [
      "count           500.000000\n",
      "mean              2.371796\n",
      "std               1.194847\n",
      "min               0.589317\n",
      "25%               1.526771\n",
      "50%               2.112669\n",
      "75%               2.899669\n",
      "max               7.637218\n",
      "95% CI Lower      0.902056\n",
      "95% CI Upper      5.497915\n",
      "Name: 7560, dtype: float64\n"
     ]
    },
    {
     "name": "stderr",
     "output_type": "stream",
     "text": [
      "C:\\Users\\ryans\\Ryans\\Finanacial Planner\\MCForecastTools.py:172: FutureWarning: The series.append method is deprecated and will be removed from pandas in a future version. Use pandas.concat instead.\n",
      "  return metrics.append(ci_series)\n"
     ]
    }
   ],
   "source": [
    "# Fetch summary statistics from the Monte Carlo simulation results\n",
    "summary_stat = MC_agg_spy.summarize_cumulative_return()\n",
    "\n",
    "# Print summary statistics\n",
    "print(summary_stat)"
   ]
  },
  {
   "cell_type": "markdown",
   "metadata": {},
   "source": [
    "### Calculate the expected portfolio return at the `95%` lower and upper confidence intervals based on a `$20,000` initial investment."
   ]
  },
  {
   "cell_type": "code",
   "execution_count": 36,
   "metadata": {},
   "outputs": [
    {
     "name": "stdout",
     "output_type": "stream",
     "text": [
      "There is a 95% chance that an initial investment of $20000 in the portfolio over the next 30 years will end within in the range of $18041.13 and $109958.3\n"
     ]
    }
   ],
   "source": [
    "# Set initial investment\n",
    "initial_investment = 20000\n",
    "\n",
    "# Use the lower and upper `95%` confidence intervals to calculate the range of the possible outcomes of our $20,000\n",
    "ci_lower = round(summary_stat[8]*initial_investment,2)\n",
    "ci_upper = round(summary_stat[9]*initial_investment,2)\n",
    "# Print results\n",
    "print(f\"There is a 95% chance that an initial investment of ${initial_investment} in the portfolio\"\n",
    "      f\" over the next 30 years will end within in the range of\"\n",
    "      f\" ${ci_lower} and ${ci_upper}\")"
   ]
  },
  {
   "cell_type": "markdown",
   "metadata": {},
   "source": [
    "### Calculate the expected portfolio return at the `95%` lower and upper confidence intervals based on a `50%` increase in the initial investment."
   ]
  },
  {
   "cell_type": "code",
   "execution_count": 37,
   "metadata": {},
   "outputs": [
    {
     "name": "stdout",
     "output_type": "stream",
     "text": [
      "There is a 95% chance that an initial investment of $30000.0 in the portfolio over the next 30 years will end within in the range of $27061.69 and $164937.45\n"
     ]
    }
   ],
   "source": [
    "# Set initial investment\n",
    "initial_investment = 20000 * 1.5\n",
    "\n",
    "# Use the lower and upper `95%` confidence intervals to calculate the range of the possible outcomes of our $30,000\n",
    "ci_lower_increase = round(summary_stat[8]*initial_investment,2)\n",
    "ci_upper_increase = round(summary_stat[9]*initial_investment,2)\n",
    "\n",
    "# Print results\n",
    "print(f\"There is a 95% chance that an initial investment of ${initial_investment} in the portfolio\"\n",
    "      f\" over the next 30 years will end within in the range of\"\n",
    "      f\" ${ci_lower_increase} and ${ci_upper_increase}\")"
   ]
  },
  {
   "cell_type": "markdown",
   "metadata": {},
   "source": [
    "## Optional Challenge - Early Retirement\n",
    "\n",
    "\n",
    "### Five Years Retirement Option"
   ]
  },
  {
   "cell_type": "code",
   "execution_count": null,
   "metadata": {},
   "outputs": [],
   "source": [
    "# Configuring a Monte Carlo simulation to forecast 5 years cumulative returns\n",
    "# YOUR CODE HERE!"
   ]
  },
  {
   "cell_type": "code",
   "execution_count": null,
   "metadata": {},
   "outputs": [],
   "source": [
    "# Running a Monte Carlo simulation to forecast 5 years cumulative returns\n",
    "# YOUR CODE HERE!"
   ]
  },
  {
   "cell_type": "code",
   "execution_count": null,
   "metadata": {},
   "outputs": [],
   "source": [
    "# Plot simulation outcomes\n",
    "# YOUR CODE HERE!"
   ]
  },
  {
   "cell_type": "code",
   "execution_count": null,
   "metadata": {},
   "outputs": [],
   "source": [
    "# Plot probability distribution and confidence intervals\n",
    "# YOUR CODE HERE!"
   ]
  },
  {
   "cell_type": "code",
   "execution_count": null,
   "metadata": {},
   "outputs": [],
   "source": [
    "# Fetch summary statistics from the Monte Carlo simulation results\n",
    "# YOUR CODE HERE!\n",
    "\n",
    "# Print summary statistics\n",
    "# YOUR CODE HERE!"
   ]
  },
  {
   "cell_type": "code",
   "execution_count": null,
   "metadata": {},
   "outputs": [],
   "source": [
    "# Set initial investment\n",
    "# YOUR CODE HERE!\n",
    "\n",
    "# Use the lower and upper `95%` confidence intervals to calculate the range of the possible outcomes of our $60,000\n",
    "# YOUR CODE HERE!\n",
    "\n",
    "# Print results\n",
    "print(f\"There is a 95% chance that an initial investment of ${initial_investment} in the portfolio\"\n",
    "      f\" over the next 5 years will end within in the range of\"\n",
    "      f\" ${ci_lower_five} and ${ci_upper_five}\")"
   ]
  },
  {
   "cell_type": "markdown",
   "metadata": {},
   "source": [
    "### Ten Years Retirement Option"
   ]
  },
  {
   "cell_type": "code",
   "execution_count": null,
   "metadata": {},
   "outputs": [],
   "source": [
    "# Configuring a Monte Carlo simulation to forecast 10 years cumulative returns\n",
    "# YOUR CODE HERE!"
   ]
  },
  {
   "cell_type": "code",
   "execution_count": null,
   "metadata": {},
   "outputs": [],
   "source": [
    "# Running a Monte Carlo simulation to forecast 10 years cumulative returns\n",
    "# YOUR CODE HERE!"
   ]
  },
  {
   "cell_type": "code",
   "execution_count": null,
   "metadata": {},
   "outputs": [],
   "source": [
    "# Plot simulation outcomes\n",
    "# YOUR CODE HERE!"
   ]
  },
  {
   "cell_type": "code",
   "execution_count": null,
   "metadata": {},
   "outputs": [],
   "source": [
    "# Plot probability distribution and confidence intervals\n",
    "# YOUR CODE HERE!"
   ]
  },
  {
   "cell_type": "code",
   "execution_count": null,
   "metadata": {},
   "outputs": [],
   "source": [
    "# Fetch summary statistics from the Monte Carlo simulation results\n",
    "# YOUR CODE HERE!\n",
    "\n",
    "# Print summary statistics\n",
    "# YOUR CODE HERE!"
   ]
  },
  {
   "cell_type": "code",
   "execution_count": null,
   "metadata": {},
   "outputs": [],
   "source": [
    "# Set initial investment\n",
    "# YOUR CODE HERE!\n",
    "\n",
    "# Use the lower and upper `95%` confidence intervals to calculate the range of the possible outcomes of our $60,000\n",
    "# YOUR CODE HERE!\n",
    "\n",
    "# Print results\n",
    "print(f\"There is a 95% chance that an initial investment of ${initial_investment} in the portfolio\"\n",
    "      f\" over the next 10 years will end within in the range of\"\n",
    "      f\" ${ci_lower_ten} and ${ci_upper_ten}\")"
   ]
  },
  {
   "cell_type": "code",
   "execution_count": null,
   "metadata": {},
   "outputs": [],
   "source": []
  }
 ],
 "metadata": {
  "kernelspec": {
   "display_name": "Python 3 (ipykernel)",
   "language": "python",
   "name": "python3"
  },
  "language_info": {
   "codemirror_mode": {
    "name": "ipython",
    "version": 3
   },
   "file_extension": ".py",
   "mimetype": "text/x-python",
   "name": "python",
   "nbconvert_exporter": "python",
   "pygments_lexer": "ipython3",
   "version": "3.9.12"
  },
  "nteract": {
   "version": "0.28.0"
  }
 },
 "nbformat": 4,
 "nbformat_minor": 4
}
