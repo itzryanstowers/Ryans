{
 "cells": [
  {
   "cell_type": "markdown",
   "metadata": {},
   "source": [
    "# Under Lock and Key"
   ]
  },
  {
   "cell_type": "markdown",
   "metadata": {},
   "source": [
    "You and Harold have developed a Python application that will extract historical stock data from **Nasdaq** for a given ticker and calculate the Sharpe ratio for that stock. So far, only you two have been using the program, but your manager now wants you to open the application up to the entire team. You know that Nasdaq allows API calls to be submitted without an API key, but the limit is 50 calls a day. Nasdaq is diligent in their rate-limiting and keeps services under lock and key.\n",
    "\n",
    "## Instructions\n",
    "\n",
    "### Import the Python `requests`, `os`, and `dotenv` libraries"
   ]
  },
  {
   "cell_type": "code",
   "execution_count": 1,
   "metadata": {},
   "outputs": [
    {
     "name": "stdout",
     "output_type": "stream",
     "text": [
      "Collecting dotenv\n",
      "  Using cached dotenv-0.0.5.tar.gz (2.4 kB)\n",
      "  Preparing metadata (setup.py): started\n",
      "  Preparing metadata (setup.py): finished with status 'error'\n",
      "Note: you may need to restart the kernel to use updated packages.\n"
     ]
    },
    {
     "name": "stderr",
     "output_type": "stream",
     "text": [
      "  error: subprocess-exited-with-error\n",
      "  \n",
      "  python setup.py egg_info did not run successfully.\n",
      "  exit code: 1\n",
      "  \n",
      "  [66 lines of output]\n",
      "  C:\\Users\\rstowers\\AppData\\Local\\anaconda3\\lib\\site-packages\\setuptools\\installer.py:27: SetuptoolsDeprecationWarning: setuptools.installer is deprecated. Requirements should be satisfied by a PEP 517 installer.\n",
      "    warnings.warn(\n",
      "    error: subprocess-exited-with-error\n",
      "  \n",
      "    python setup.py egg_info did not run successfully.\n",
      "    exit code: 1\n",
      "  \n",
      "    [16 lines of output]\n",
      "    Traceback (most recent call last):\n",
      "      File \"<string>\", line 2, in <module>\n",
      "      File \"<pip-setuptools-caller>\", line 14, in <module>\n",
      "      File \"C:\\Users\\rstowers\\AppData\\Local\\Temp\\pip-wheel-qlcqwrxi\\distribute_dd3a17e19b9d46868f9155d52572992a\\setuptools\\__init__.py\", line 2, in <module>\n",
      "        from setuptools.extension import Extension, Library\n",
      "      File \"C:\\Users\\rstowers\\AppData\\Local\\Temp\\pip-wheel-qlcqwrxi\\distribute_dd3a17e19b9d46868f9155d52572992a\\setuptools\\extension.py\", line 5, in <module>\n",
      "        from setuptools.dist import _get_unpatched\n",
      "      File \"C:\\Users\\rstowers\\AppData\\Local\\Temp\\pip-wheel-qlcqwrxi\\distribute_dd3a17e19b9d46868f9155d52572992a\\setuptools\\dist.py\", line 7, in <module>\n",
      "        from setuptools.command.install import install\n",
      "      File \"C:\\Users\\rstowers\\AppData\\Local\\Temp\\pip-wheel-qlcqwrxi\\distribute_dd3a17e19b9d46868f9155d52572992a\\setuptools\\command\\__init__.py\", line 8, in <module>\n",
      "        from setuptools.command import install_scripts\n",
      "      File \"C:\\Users\\rstowers\\AppData\\Local\\Temp\\pip-wheel-qlcqwrxi\\distribute_dd3a17e19b9d46868f9155d52572992a\\setuptools\\command\\install_scripts.py\", line 3, in <module>\n",
      "        from pkg_resources import Distribution, PathMetadata, ensure_directory\n",
      "      File \"C:\\Users\\rstowers\\AppData\\Local\\Temp\\pip-wheel-qlcqwrxi\\distribute_dd3a17e19b9d46868f9155d52572992a\\pkg_resources.py\", line 1518, in <module>\n",
      "        register_loader_type(importlib_bootstrap.SourceFileLoader, DefaultProvider)\n",
      "    AttributeError: module 'importlib._bootstrap' has no attribute 'SourceFileLoader'\n",
      "    [end of output]\n",
      "  \n",
      "    note: This error originates from a subprocess, and is likely not a problem with pip.\n",
      "  error: metadata-generation-failed\n",
      "  \n",
      "  Encountered error while generating package metadata.\n",
      "  \n",
      "  See above for output.\n",
      "  \n",
      "  note: This is an issue with the package mentioned above, not pip.\n",
      "  hint: See above for details.\n",
      "  Traceback (most recent call last):\n",
      "    File \"C:\\Users\\rstowers\\AppData\\Local\\anaconda3\\lib\\site-packages\\setuptools\\installer.py\", line 82, in fetch_build_egg\n",
      "      subprocess.check_call(cmd)\n",
      "    File \"C:\\Users\\rstowers\\AppData\\Local\\anaconda3\\lib\\subprocess.py\", line 369, in check_call\n",
      "      raise CalledProcessError(retcode, cmd)\n",
      "  subprocess.CalledProcessError: Command '['C:\\\\Users\\\\rstowers\\\\AppData\\\\Local\\\\anaconda3\\\\python.exe', '-m', 'pip', '--disable-pip-version-check', 'wheel', '--no-deps', '-w', 'C:\\\\Users\\\\rstowers\\\\AppData\\\\Local\\\\Temp\\\\tmpa52k68of', '--quiet', 'distribute']' returned non-zero exit status 1.\n",
      "  \n",
      "  The above exception was the direct cause of the following exception:\n",
      "  \n",
      "  Traceback (most recent call last):\n",
      "    File \"<string>\", line 2, in <module>\n",
      "    File \"<pip-setuptools-caller>\", line 34, in <module>\n",
      "    File \"C:\\Users\\rstowers\\AppData\\Local\\Temp\\pip-install-to2mtb56\\dotenv_3af525a00e11475980ed86aa2746081f\\setup.py\", line 13, in <module>\n",
      "      setup(name='dotenv',\n",
      "    File \"C:\\Users\\rstowers\\AppData\\Local\\anaconda3\\lib\\site-packages\\setuptools\\__init__.py\", line 86, in setup\n",
      "      _install_setup_requires(attrs)\n",
      "    File \"C:\\Users\\rstowers\\AppData\\Local\\anaconda3\\lib\\site-packages\\setuptools\\__init__.py\", line 80, in _install_setup_requires\n",
      "      dist.fetch_build_eggs(dist.setup_requires)\n",
      "    File \"C:\\Users\\rstowers\\AppData\\Local\\anaconda3\\lib\\site-packages\\setuptools\\dist.py\", line 874, in fetch_build_eggs\n",
      "      resolved_dists = pkg_resources.working_set.resolve(\n",
      "    File \"C:\\Users\\rstowers\\AppData\\Local\\anaconda3\\lib\\site-packages\\pkg_resources\\__init__.py\", line 789, in resolve\n",
      "      dist = best[req.key] = env.best_match(\n",
      "    File \"C:\\Users\\rstowers\\AppData\\Local\\anaconda3\\lib\\site-packages\\pkg_resources\\__init__.py\", line 1075, in best_match\n",
      "      return self.obtain(req, installer)\n",
      "    File \"C:\\Users\\rstowers\\AppData\\Local\\anaconda3\\lib\\site-packages\\pkg_resources\\__init__.py\", line 1087, in obtain\n",
      "      return installer(requirement)\n",
      "    File \"C:\\Users\\rstowers\\AppData\\Local\\anaconda3\\lib\\site-packages\\setuptools\\dist.py\", line 944, in fetch_build_egg\n",
      "      return fetch_build_egg(self, req)\n",
      "    File \"C:\\Users\\rstowers\\AppData\\Local\\anaconda3\\lib\\site-packages\\setuptools\\installer.py\", line 84, in fetch_build_egg\n",
      "      raise DistutilsError(str(e)) from e\n",
      "  distutils.errors.DistutilsError: Command '['C:\\\\Users\\\\rstowers\\\\AppData\\\\Local\\\\anaconda3\\\\python.exe', '-m', 'pip', '--disable-pip-version-check', 'wheel', '--no-deps', '-w', 'C:\\\\Users\\\\rstowers\\\\AppData\\\\Local\\\\Temp\\\\tmpa52k68of', '--quiet', 'distribute']' returned non-zero exit status 1.\n",
      "  [end of output]\n",
      "  \n",
      "  note: This error originates from a subprocess, and is likely not a problem with pip.\n",
      "error: metadata-generation-failed\n",
      "\n",
      "Encountered error while generating package metadata.\n",
      "\n",
      "See above for output.\n",
      "\n",
      "note: This is an issue with the package mentioned above, not pip.\n",
      "hint: See above for details.\n"
     ]
    }
   ],
   "source": [
    "pip install dotenv"
   ]
  },
  {
   "cell_type": "code",
   "execution_count": 2,
   "metadata": {},
   "outputs": [
    {
     "ename": "ModuleNotFoundError",
     "evalue": "No module named 'dotenv'",
     "output_type": "error",
     "traceback": [
      "\u001b[1;31m---------------------------------------------------------------------------\u001b[0m",
      "\u001b[1;31mModuleNotFoundError\u001b[0m                       Traceback (most recent call last)",
      "Cell \u001b[1;32mIn[2], line 4\u001b[0m\n\u001b[0;32m      2\u001b[0m \u001b[38;5;28;01mimport\u001b[39;00m \u001b[38;5;21;01mrequests\u001b[39;00m\n\u001b[0;32m      3\u001b[0m \u001b[38;5;28;01mimport\u001b[39;00m \u001b[38;5;21;01mjson\u001b[39;00m \n\u001b[1;32m----> 4\u001b[0m \u001b[38;5;28;01mfrom\u001b[39;00m \u001b[38;5;21;01mdotenv\u001b[39;00m \u001b[38;5;28;01mimport\u001b[39;00m load_dotenv\n\u001b[0;32m      5\u001b[0m \u001b[38;5;28;01mimport\u001b[39;00m \u001b[38;5;21;01mos\u001b[39;00m\n\u001b[0;32m      6\u001b[0m \u001b[38;5;28;01mfrom\u001b[39;00m \u001b[38;5;21;01mmatplotlib\u001b[39;00m \u001b[38;5;28;01mimport\u001b[39;00m pyplot \u001b[38;5;28;01mas\u001b[39;00m py\n",
      "\u001b[1;31mModuleNotFoundError\u001b[0m: No module named 'dotenv'"
     ]
    }
   ],
   "source": [
    "# Initial imports\n",
    "import requests\n",
    "import json \n",
    "from dotenv import load_dotenv\n",
    "import os\n",
    "from matplotlib import pyplot as py\n",
    "import pandas as pd\n",
    "\n",
    "%mathplotlib inline"
   ]
  },
  {
   "cell_type": "markdown",
   "metadata": {},
   "source": [
    "### Use the `load_dotenv()` method from the `dotenv` package to load and export the environment variables"
   ]
  },
  {
   "cell_type": "code",
   "execution_count": null,
   "metadata": {},
   "outputs": [],
   "source": [
    "load_dotenv()"
   ]
  },
  {
   "cell_type": "markdown",
   "metadata": {},
   "source": [
    "### Use the `os.getenv` function to retrieve the environment variable named `NASDAQ_API_KEY`. Store as a Python variable named `api_key`"
   ]
  },
  {
   "cell_type": "code",
   "execution_count": null,
   "metadata": {},
   "outputs": [],
   "source": [
    "api_key - os.getenc(\"NASDAQ_API_KEY\")"
   ]
  },
  {
   "cell_type": "markdown",
   "metadata": {},
   "source": [
    "### Use the `type` function to confirm the retrieval of the API key."
   ]
  },
  {
   "cell_type": "code",
   "execution_count": null,
   "metadata": {},
   "outputs": [],
   "source": [
    "type(api_key)"
   ]
  },
  {
   "cell_type": "markdown",
   "metadata": {},
   "source": [
    "### Concatenate `request_url` with the `api_key` variable"
   ]
  },
  {
   "cell_type": "code",
   "execution_count": null,
   "metadata": {},
   "outputs": [],
   "source": [
    "# Define the base request URL\n",
    "request_url = \"https://data.nasdaq.com/api/v3/datasets/WIKI/MSFT.json?api_key=\"\n",
    "\n",
    "# Concatenate request_url and api_key. Store as new variable\n",
    "request_url = request_url + api_key"
   ]
  },
  {
   "cell_type": "markdown",
   "metadata": {},
   "source": [
    "### Execute GET request with API key"
   ]
  },
  {
   "cell_type": "code",
   "execution_count": null,
   "metadata": {},
   "outputs": [],
   "source": [
    "# Execute get request\n",
    "response_data = requests.get(request_url).json()"
   ]
  },
  {
   "cell_type": "markdown",
   "metadata": {},
   "source": [
    "### Display content to screen using the content attribute"
   ]
  },
  {
   "cell_type": "code",
   "execution_count": null,
   "metadata": {},
   "outputs": [],
   "source": [
    "# Output data\n",
    "type(response_data)"
   ]
  },
  {
   "cell_type": "code",
   "execution_count": null,
   "metadata": {},
   "outputs": [],
   "source": [
    "response_data['dataset']['column_names']\n",
    "print(json.dumps(response_data, indent=3))"
   ]
  },
  {
   "cell_type": "code",
   "execution_count": null,
   "metadata": {},
   "outputs": [],
   "source": [
    "new_df = response_data['dataset']['data'][5][4]\n",
    "new_df"
   ]
  },
  {
   "cell_type": "code",
   "execution_count": null,
   "metadata": {},
   "outputs": [],
   "source": [
    "closing_price = []\n",
    "for data in response_data['dataset']['data']:\n",
    "    print(data[4])\n",
    "    closing_price.append(data[4])\n",
    "    \n",
    "response_data['dataset']['data'][0]"
   ]
  },
  {
   "cell_type": "code",
   "execution_count": null,
   "metadata": {},
   "outputs": [],
   "source": [
    "print(closing_price)"
   ]
  },
  {
   "cell_type": "code",
   "execution_count": null,
   "metadata": {},
   "outputs": [],
   "source": [
    "closing_price_df = pd.DataFrame(closing_price)"
   ]
  },
  {
   "cell_type": "code",
   "execution_count": null,
   "metadata": {},
   "outputs": [],
   "source": [
    "closing_price_df.plot()"
   ]
  },
  {
   "cell_type": "code",
   "execution_count": null,
   "metadata": {},
   "outputs": [],
   "source": []
  },
  {
   "cell_type": "code",
   "execution_count": null,
   "metadata": {},
   "outputs": [],
   "source": []
  }
 ],
 "metadata": {
  "kernelspec": {
   "display_name": "Python 3 (ipykernel)",
   "language": "python",
   "name": "python3"
  },
  "language_info": {
   "codemirror_mode": {
    "name": "ipython",
    "version": 3
   },
   "file_extension": ".py",
   "mimetype": "text/x-python",
   "name": "python",
   "nbconvert_exporter": "python",
   "pygments_lexer": "ipython3",
   "version": "3.10.9"
  },
  "nteract": {
   "version": "0.28.0"
  }
 },
 "nbformat": 4,
 "nbformat_minor": 4
}
