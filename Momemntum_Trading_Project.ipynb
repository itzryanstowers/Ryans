{
 "cells": [
  {
   "cell_type": "markdown",
   "metadata": {},
   "source": [
    "# `Momentum trading, MACD formula method`\n",
    "## `Project Goals`\n",
    "### Our project aims at establishing security trading recommendations depending on moving average convergence and divergence, using exponential moving averages of closing prices of time series data frame.\n",
    "### Data Source: ALPACA API\n",
    "\n",
    "### project components\n",
    "1. Acquire the data using API of a stock or a cryptocurrency\n",
    "2. Define the coding for the algorithm (MACD line, Signal Line)\n",
    "3. Apply the code to the api data\n",
    "4. Interpret the results (crossover, divergence)\n",
    "5. Calculate the results \n",
    "6. plot the results\n",
    "7. compare to other parameters like the market performance, Montecarlo simulation\n",
    "\n",
    "### Team Members:\n",
    "Harith Alshuwaykh, Mark Drinkard, Erin O'leary, Sam Muslin, Ryan Stowers\n",
    "\n",
    "\n",
    "https://docs.google.com/document/d/1wJ4lmeVwL9nvK1IWPcasZQAICSF9_Pqi90sCWIaS898/edit?usp=sharing"
   ]
  },
  {
   "cell_type": "markdown",
   "metadata": {},
   "source": [
    "\n",
    "\n",
    "\n",
    "\n",
    "\n",
    "\n",
    "\n",
    "\n",
    "\n",
    "\n",
    "\n",
    "\n",
    "\n",
    "\n",
    "\n"
   ]
  },
  {
   "cell_type": "markdown",
   "metadata": {},
   "source": [
    "\n",
    "\n",
    "\n",
    "\n",
    "\n",
    "\n",
    "\n",
    "\n",
    "\n",
    "\n",
    "\n",
    "\n",
    "\n",
    "\n",
    "\n",
    "\n",
    "\n",
    "\n",
    "\n",
    "\n",
    "\n"
   ]
  },
  {
   "cell_type": "markdown",
   "metadata": {},
   "source": [
    "\n",
    "\n",
    "\n",
    "\n",
    "\n",
    "\n",
    "\n",
    "\n",
    "\n",
    "\n",
    "\n",
    "\n",
    "\n",
    "\n",
    "\n",
    "\n",
    "\n",
    "\n",
    "\n",
    "\n",
    "\n",
    "\n",
    "\n",
    "\n"
   ]
  },
  {
   "cell_type": "markdown",
   "metadata": {},
   "source": [
    "# `Momentum Trading`\n",
    "### There are several strategies that traders use to identify upward or downward trends in momentum algo trading. Here are a few commonly used ones:\n",
    "\n",
    "1. Moving Averages: Traders often use moving averages to identify trends. A simple moving average (SMA) calculates the average price over a specific period. When the current price is above the moving average, it suggests an upward trend, and when it's below, it suggests a downward trend.\n",
    "\n",
    "2. Relative Strength Index (RSI): RSI is a popular indicator that measures the speed and change of price movements. When the RSI is above a certain threshold (e.g., 70), it indicates an overbought condition, suggesting a downward trend. Conversely, when RSI is below a threshold (e.g., 30), it suggests an oversold condition and a potential upward trend.\n",
    "\n",
    "3. Breakout Trading: This strategy involves identifying key price levels, such as support and resistance levels. When the price breaks above a resistance level, it indicates an upward trend, and when it breaks below a support level, it suggests a downward trend.\n",
    "\n",
    "4. Trendlines: Traders draw trendlines to connect the lows or highs of the price movement. An upward trendline shows an upward trend, while a downward trendline indicates a downward trend.\n",
    "\n",
    "5. Moving Average Convergence Divergence (MACD): MACD is a popular momentum indicator that uses moving averages to identify potential trend reversals. When the MACD line crosses above the signal line, it suggests an upward trend, and vice versa.\n",
    "\n",
    "It's important to note that no strategy is foolproof, and it's crucial to combine these indicators with proper risk management and analysis. Traders often use a combination of these strategies to increase the probability of correctly identifying upward or downward trends."
   ]
  },
  {
   "cell_type": "markdown",
   "metadata": {},
   "source": [
    "## The `MACD` is a popular technical indicator used in trading and investing to identify potential trend reversals, generate buy or sell signals, and assess the overall momentum of an asset. It consists of two lines: the MACD line and the signal line.\n",
    "\n",
    "To calculate the MACD, you'll need to follow these steps:\n",
    "\n",
    "1. Select a time period (commonly 12 or 26 periods) for the MACD line. Let's assume we choose 12 periods.\n",
    "2. Calculate the 12-period exponential moving average (EMA) of the asset's closing prices.\n",
    "3. Next, select another time period (often 26 periods) for the signal line. In this case, we'll use 26 periods.\n",
    "4. Calculate the 26-period EMA of the closing prices.\n",
    "5. Subtract the 26-period EMA from the 12-period EMA to get the MACD line value.\n",
    "6. Finally, calculate a 9-period EMA of the MACD line to obtain the signal line.\n",
    "\n",
    "To interpret the MACD, focus on two aspects: crossovers and divergences.\n",
    "\n",
    "- Crossovers: When the MACD line crosses above the signal line, it generates a bullish signal, indicating a potential buying opportunity. Conversely, when the MACD line crosses below the signal line, it generates a bearish signal, suggesting a possible selling opportunity.\n",
    "\n",
    "- Divergences: Pay attention to divergences between the MACD and the price action. If the price is making higher highs, but the MACD is making lower highs, it could indicate a weakening trend and a possible trend reversal.\n",
    "\n",
    "Remember, the MACD is just one tool in technical analysis, and it's often used in conjunction with other indicators for more reliable signals. Always consider the broader context and conduct thorough analysis before making any trading decisions.\n"
   ]
  },
  {
   "cell_type": "code",
   "execution_count": null,
   "metadata": {},
   "outputs": [],
   "source": [
    "df = ('time indexed to the second closing price data frame')\n",
    "moving_average_convergance_divergence_ema12 = df.ewm(window=12).mean()\n",
    "moving_average_convergance_divergence_ema26 = df.ewm(window=26).mean()\n",
    "MACD_line = moving_average_convergance_divergence_ema12 - moving_average_convergance_divergence_ema26\n",
    "Signal_line = MACD_line * 9\n",
    "\n",
    "if MACD_line > Signal_line:\n",
    "    print(\"Buy\")\n",
    "elif Signal_line > MACD_line:\n",
    "    print(\"Sell\")\n",
    "elif Signal_line == MACD_line:\n",
    "    print(\"Wait\")    \n",
    "\n",
    "\n"
   ]
  },
  {
   "cell_type": "markdown",
   "metadata": {},
   "source": []
  },
  {
   "cell_type": "markdown",
   "metadata": {},
   "source": [
    "## Calculating the exponential moving average `EMA` involves a slightly different approach compared to a simple moving average (SMA). The EMA gives more weight to recent data points, making it more responsive to price changes. Here's how you can calculate the EMA:\n",
    "\n",
    "1. Decide on a time period to use for the EMA calculation. Let's assume we choose 10 periods for this example.\n",
    "\n",
    "2. Start by calculating the SMA for the first period in your chosen time frame.\n",
    "\n",
    "EMA = SMA (First Period)\n",
    "\n",
    "3. Next, calculate the smoothing factor (SF) using the number of periods chosen. The SF formula is:\n",
    "\n",
    "SF = 2 / (Number of periods + 1)\n",
    "\n",
    "In our example, SF = 2 / (10 + 1) = 0.1818\n",
    "\n",
    "4. Now, to calculate the EMA for the second period, use the following formula:\n",
    "\n",
    "EMA (Current Period) = (Closing Price (Current Period) * SF) + (EMA (Previous Period) * (1 - SF))\n",
    "\n",
    "For example, if the closing price for the second period is $50, and the EMA for the previous period was $48, the calculation would be:\n",
    "\n",
    "EMA (Second Period) = ($50 * 0.1818) + ($48 * (1 - 0.1818))\n",
    "\n",
    "5. Repeat step 4 for each subsequent period, using the closing price for that period and the EMA from the previous period.\n",
    "\n",
    "EMA (Current Period) = (Closing Price (Current Period) * SF) + (EMA (Previous Period) * (1 - SF))\n",
    "\n",
    "Continue this process until you've calculated the EMA for all desired periods. The initial EMA value can be taken as the SMA value for the first period.\n",
    "\n",
    "Keep in mind that some charting platforms and trading software automatically calculate the EMA for you, so you might not need to calculate it manually. However, understanding the calculation process can help you interpret and use the EMA effectively in your trading or investing strategy.\n",
    "\n"
   ]
  },
  {
   "cell_type": "markdown",
   "metadata": {},
   "source": [
    "## Calculating the simple moving average `SMA` involves a straightforward process. Here's how you can calculate the SMA:\n",
    "\n",
    "1. Decide on a time period to use for the SMA calculation. Let's assume we choose 10 periods for this example.\n",
    "\n",
    "2. Add up the closing prices for the desired number of periods. For example, if you are calculating the SMA for a stock over 10 periods, add up the closing prices for those 10 periods.\n",
    "\n",
    "3. Divide the sum of the closing prices by the number of periods chosen. For example, if the sum of the closing prices is 500 and you are calculating the SMA over 10 periods, the calculation would be:\n",
    "\n",
    "SMA = Sum of Closing Prices / Number of Periods\n",
    "\n",
    "In this case, SMA = 500 / 10 = 50\n",
    "\n",
    "4. Repeat this process for each subsequent period, updating the sum of closing prices and recalculating the SMA.\n",
    "\n",
    "For example, if you want to calculate the SMA for the 11th period, add the closing price for the 11th period to the sum of the previous 10 closing prices. Then, divide this sum by the number of periods (10) to calculate the SMA for the 11th period. Continue this process for each subsequent period.\n",
    "\n",
    "Keep in mind that the SMA is a lagging indicator that gives equal weight to all periods. If you want to give more weight to recent data points, you may consider using the exponential moving average (EMA) instead.\n"
   ]
  },
  {
   "cell_type": "markdown",
   "metadata": {},
   "source": [
    "## there is a way to calculate the Exponential Moving Average (EMA) in Python. You can use the `ta` library from the `pyti` package, or use `ewm` from `Pandas`."
   ]
  },
  {
   "cell_type": "code",
   "execution_count": null,
   "metadata": {},
   "outputs": [],
   "source": [
    "import pandas as pd\n",
    "import numpy as np\n",
    "import matplotlib\n",
    "\n",
    "# Define your data\n",
    "data = [5, 10, 15, 20, 25, 30, 35, 40, 45, 50]\n",
    "data_df=pd.DataFrame(data)\n",
    "\n",
    "# Calculate the EMA using pandas\n",
    "ema_period = 5 # Choose your desired EMA period\n",
    "ema_values =data_df.ewm(span=ema_period).mean()\n",
    "\n",
    "# Print the EMA values\n",
    "print(ema_values)"
   ]
  }
 ],
 "metadata": {
  "language_info": {
   "name": "python"
  },
  "orig_nbformat": 4
 },
 "nbformat": 4,
 "nbformat_minor": 2
}
